{
 "cells": [
  {
   "cell_type": "code",
   "execution_count": 1,
   "metadata": {},
   "outputs": [],
   "source": [
    "import os\n",
    "import sys\n",
    "import datetime\n",
    "import math\n",
    "import pandas as pd\n",
    "import numpy as np\n",
    "import quant_utils.data_moudle as dm\n",
    "from quant_utils.db_conn import DB_CONN_JJTG_DATA\n",
    "file_path = \"C:/Users/Wilcoxon/Desktop/配置excel/\"\n"
   ]
  },
  {
   "cell_type": "markdown",
   "metadata": {},
   "source": [
    "写入基金投顾产品池监控报表"
   ]
  },
  {
   "cell_type": "code",
   "execution_count": 2,
   "metadata": {},
   "outputs": [
    {
     "name": "stderr",
     "output_type": "stream",
     "text": [
      "d:\\miniforge3\\envs\\my312\\Lib\\site-packages\\openpyxl\\styles\\stylesheet.py:237: UserWarning: Workbook contains no default style, apply openpyxl's default\n",
      "  warn(\"Workbook contains no default style, apply openpyxl's default\")\n",
      "d:\\miniforge3\\envs\\my312\\Lib\\site-packages\\openpyxl\\styles\\stylesheet.py:237: UserWarning: Workbook contains no default style, apply openpyxl's default\n",
      "  warn(\"Workbook contains no default style, apply openpyxl's default\")\n"
     ]
    },
    {
     "name": "stdout",
     "output_type": "stream",
     "text": [
      "\n"
     ]
    },
    {
     "name": "stderr",
     "output_type": "stream",
     "text": [
      "TIME:2024-12-20 10:43:45,717 - Level:INFO - Mesaage:portfolio_basic_products更新插入9404行数据\n"
     ]
    },
    {
     "name": "stdout",
     "output_type": "stream",
     "text": [
      "upsert耗时:3.5212 s\n",
      "========================================\n"
     ]
    }
   ],
   "source": [
    "\n",
    "file_name = \"基金投顾产品池监控报表.xlsx\"\n",
    "df1 = pd.read_excel(file_path+file_name, sheet_name= '基金投顾产品池产品状态监控')\n",
    "df2 = pd.read_excel(file_path+file_name, sheet_name= '基金投顾产品池费用分成数据')\n",
    "df1[\"产品代码\"] = df1[\"产品代码\"].apply(lambda s: str(s).rjust(6, \"0\"))\n",
    "df2[\"产品代码\"] = df2[\"产品代码\"].apply(lambda s: str(s).rjust(6, \"0\"))\n",
    "df = df1.merge(df2, how='left')\n",
    "columns = [\n",
    "    \"产品代码\", \"产品风险等级\", \n",
    "    \"是否基金投顾备选池\", \"产品池类型\",\n",
    "    \"个人首次申购最低金额\", \"管理费分成_个人\", \"管理费分成_机构\",\n",
    "    \"管理费率_公开\", \"销售服务费分成比例\", \"销售服务费_公开\", \n",
    "    \"延迟交付天数\", \"ta编号\",\n",
    "    \"个人单笔最高申购金额\",\"机构单笔最高申购金额\", \"个人单日最高认申购金额\",\n",
    "    \"机构单日最高认申购金额\", \"单笔赎回最低份额\", \"首次入池时间\",\n",
    "]\n",
    "df = df[columns]\n",
    "df = df.drop_duplicates()\n",
    "rename_columns = {\n",
    "    \"产品代码\" : \"TICKER_SYMBOL\", \n",
    "    \"产品风险等级\": \"RISK_LEVEL\", \n",
    "    \"是否基金投顾备选池\": \"IF_IN_TRANCHE\", \n",
    "    \"产品池类型\" : \"TRANCHE\",\n",
    "    \"个人首次申购最低金额\": \"FIRST_BUY\", \n",
    "    \"管理费分成_个人\": \"MANAGEMENT_FEE_INDIVIDUAL\",\n",
    "    \"管理费分成_机构\": \"MANAGEMENT_FEE_INSTITUTION\",\n",
    "    \"管理费率_公开\": \"MANAGEMENT_FEE\", \n",
    "    \"销售服务费分成比例\": \"SALE_FEE_PROPORTION\", \n",
    "    \"销售服务费_公开\": \"SALE_FEE\", \n",
    "    \"延迟交付天数\": \"DELAY_DATE\", \n",
    "    \"ta编号\": \"TA\",\n",
    "    \"个人单笔最高申购金额\": \"MAX_BUY_INDIVIDUAL\",\n",
    "    \"机构单笔最高申购金额\": \"MAX_BUY_INSTITUTION\", \n",
    "    \"个人单日最高认申购金额\": \"MAX_BUY_DAILY_INDIVIDUAL\",\n",
    "    \"机构单日最高认申购金额\": \"MAX_BUY__DAILY_INSTITUTION\", \n",
    "    \"单笔赎回最低份额\": \"MIN_REDEEM\",\n",
    "    \"首次入池时间\": \"FIRST_IN_TRANCHE_DATE\"\n",
    "}\n",
    "df.rename(columns=rename_columns, inplace=True)\n",
    "map_dict = {\n",
    "    \"是\":1, \"否\": 0, \"未入库\": 2\n",
    "}\n",
    "df.loc[df[\"MAX_BUY_DAILY_INDIVIDUAL\"]==0, \"MAX_BUY_DAILY_INDIVIDUAL\"] = 99999999999.99\n",
    "df.loc[df[\"MAX_BUY__DAILY_INSTITUTION\"]==0, \"MAX_BUY__DAILY_INSTITUTION\"] = 99999999999.99\n",
    "df[\"IF_IN_TRANCHE\"] = df[\"IF_IN_TRANCHE\"].map(map_dict)\n",
    "df.loc[df[\"TRANCHE\"]=='基础池',\"IF_IN_TRANCHE\"] = 0\n",
    "DB_CONN_JJTG_DATA.upsert(df, table=\"portfolio_basic_products\")"
   ]
  },
  {
   "cell_type": "markdown",
   "metadata": {},
   "source": [
    "更新兴业证券BOP产品"
   ]
  },
  {
   "cell_type": "code",
   "execution_count": 3,
   "metadata": {},
   "outputs": [
    {
     "name": "stderr",
     "output_type": "stream",
     "text": [
      "d:\\miniforge3\\envs\\my312\\Lib\\site-packages\\openpyxl\\styles\\stylesheet.py:237: UserWarning: Workbook contains no default style, apply openpyxl's default\n",
      "  warn(\"Workbook contains no default style, apply openpyxl's default\")\n"
     ]
    },
    {
     "name": "stdout",
     "output_type": "stream",
     "text": [
      "\n"
     ]
    },
    {
     "name": "stderr",
     "output_type": "stream",
     "text": [
      "TIME:2024-12-20 10:43:48,853 - Level:INFO - Mesaage:XY_BOP更新插入12347行数据\n"
     ]
    },
    {
     "name": "stdout",
     "output_type": "stream",
     "text": [
      "upsert耗时:1.5579 s\n",
      "========================================\n"
     ]
    }
   ],
   "source": [
    "\n",
    "for i in os.listdir(file_path):\n",
    "    if i.startswith(\"代销产品清单\") and i.endswith(\".xlsx\"):\n",
    "        bop = pd.read_excel(file_path+i, engine=\"openpyxl\")\n",
    "        bop = bop[[\"基金代码\", \"TA编号\", \"TA名称\", \"基金名称\", \"风险等级\"]]\n",
    "        bop.rename(\n",
    "            columns={\n",
    "                \"基金代码\": \"TICKER_SYMBOL\",\n",
    "                \"TA编号\": \"TA\",\n",
    "                \"TA名称\": \"TA_NAME\",\n",
    "                \"基金名称\": \"FUND_NAME\",\n",
    "                \"风险等级\": \"RISK_LEVEL\",\n",
    "            },\n",
    "            inplace=True\n",
    "        )\n",
    "        DB_CONN_JJTG_DATA.upsert(bop, table=\"XY_BOP\")"
   ]
  },
  {
   "cell_type": "markdown",
   "metadata": {},
   "source": [
    "写入资配系统净值"
   ]
  },
  {
   "cell_type": "code",
   "execution_count": 4,
   "metadata": {},
   "outputs": [
    {
     "name": "stderr",
     "output_type": "stream",
     "text": [
      "TIME:2024-12-20 10:43:48,974 - Level:INFO - Mesaage:portfolio_nav更新插入426行数据\n"
     ]
    },
    {
     "name": "stdout",
     "output_type": "stream",
     "text": [
      "1 兴证全明星精选-蚂蚁-数据视图-20241220.xlsx\n",
      "\n",
      "upsert耗时:0.0820 s\n",
      "========================================\n",
      "2 兴证小确幸精选-蚂蚁-数据视图-20241220.xlsx\n",
      "\n"
     ]
    },
    {
     "name": "stderr",
     "output_type": "stream",
     "text": [
      "TIME:2024-12-20 10:43:49,066 - Level:INFO - Mesaage:portfolio_nav更新插入426行数据\n",
      "TIME:2024-12-20 10:43:49,154 - Level:INFO - Mesaage:portfolio_nav更新插入426行数据\n",
      "TIME:2024-12-20 10:43:49,214 - Level:INFO - Mesaage:portfolio_nav更新插入262行数据\n",
      "TIME:2024-12-20 10:43:49,278 - Level:INFO - Mesaage:portfolio_nav更新插入262行数据\n"
     ]
    },
    {
     "name": "stdout",
     "output_type": "stream",
     "text": [
      "upsert耗时:0.0690 s\n",
      "========================================\n",
      "3 兴证月月享精选-蚂蚁-数据视图-20241220.xlsx\n",
      "\n",
      "upsert耗时:0.0630 s\n",
      "========================================\n",
      "4 知己优选-1000增强-数据视图-20241220.xlsx\n",
      "\n",
      "upsert耗时:0.0430 s\n",
      "========================================\n",
      "5 知己优选-300增强-数据视图-20241220.xlsx\n",
      "\n"
     ]
    },
    {
     "name": "stderr",
     "output_type": "stream",
     "text": [
      "TIME:2024-12-20 10:43:49,360 - Level:INFO - Mesaage:portfolio_nav更新插入262行数据\n",
      "TIME:2024-12-20 10:43:49,407 - Level:INFO - Mesaage:portfolio_nav更新插入178行数据\n"
     ]
    },
    {
     "name": "stdout",
     "output_type": "stream",
     "text": [
      "upsert耗时:0.0470 s\n",
      "========================================\n",
      "6 知己优选-500增强-数据视图-20241220.xlsx\n",
      "\n",
      "upsert耗时:0.0650 s\n",
      "========================================\n",
      "7 知己优选-全球多元配置-数据视图-20241220.xlsx\n",
      "\n",
      "upsert耗时:0.0340 s\n",
      "========================================\n",
      "8 知己优选-固收佳进取-数据视图-20241220.xlsx\n",
      "\n"
     ]
    },
    {
     "name": "stderr",
     "output_type": "stream",
     "text": [
      "TIME:2024-12-20 10:43:49,606 - Level:INFO - Mesaage:portfolio_nav更新插入1088行数据\n"
     ]
    },
    {
     "name": "stdout",
     "output_type": "stream",
     "text": [
      "upsert耗时:0.1520 s\n",
      "========================================\n",
      "9 知己优选-均衡小确幸-数据视图-20241220.xlsx\n",
      "\n"
     ]
    },
    {
     "name": "stderr",
     "output_type": "stream",
     "text": [
      "TIME:2024-12-20 10:43:49,941 - Level:INFO - Mesaage:portfolio_nav更新插入2181行数据\n",
      "TIME:2024-12-20 10:43:49,986 - Level:INFO - Mesaage:portfolio_nav更新插入178行数据\n",
      "TIME:2024-12-20 10:43:50,074 - Level:INFO - Mesaage:portfolio_nav更新插入429行数据\n",
      "TIME:2024-12-20 10:43:50,129 - Level:INFO - Mesaage:portfolio_nav更新插入262行数据\n"
     ]
    },
    {
     "name": "stdout",
     "output_type": "stream",
     "text": [
      "upsert耗时:0.2420 s\n",
      "========================================\n",
      "10 知己优选-海外权益-数据视图-20241220.xlsx\n",
      "\n",
      "upsert耗时:0.0299 s\n",
      "========================================\n",
      "11 知己优选-现金宝-数据视图-20241220.xlsx\n",
      "\n",
      "upsert耗时:0.0650 s\n",
      "========================================\n",
      "12 知己优选-短债增强-数据视图-20241220.xlsx\n",
      "\n"
     ]
    },
    {
     "name": "stderr",
     "output_type": "stream",
     "text": [
      "TIME:2024-12-20 10:43:50,310 - Level:INFO - Mesaage:portfolio_nav更新插入1087行数据\n"
     ]
    },
    {
     "name": "stdout",
     "output_type": "stream",
     "text": [
      "upsert耗时:0.0390 s\n",
      "========================================\n",
      "13 知己优选-货币小福星-数据视图-20241220.xlsx\n",
      "\n",
      "upsert耗时:0.1310 s\n",
      "========================================\n",
      "14 知己优选-进取全明星-数据视图-20241220.xlsx\n",
      "\n"
     ]
    },
    {
     "name": "stderr",
     "output_type": "stream",
     "text": [
      "TIME:2024-12-20 10:43:50,709 - Level:INFO - Mesaage:portfolio_nav更新插入2181行数据\n",
      "TIME:2024-12-20 10:43:50,751 - Level:INFO - Mesaage:portfolio_nav更新插入107行数据\n",
      "TIME:2024-12-20 10:43:50,798 - Level:INFO - Mesaage:portfolio_nav更新插入128行数据\n",
      "TIME:2024-12-20 10:43:50,870 - Level:INFO - Mesaage:portfolio_nav更新插入265行数据\n"
     ]
    },
    {
     "name": "stdout",
     "output_type": "stream",
     "text": [
      "upsert耗时:0.3101 s\n",
      "========================================\n",
      "15 知己私享-全球资产配置-数据视图-20241220.xlsx\n",
      "\n",
      "upsert耗时:0.0300 s\n",
      "========================================\n",
      "16 知己私享-安稳宝-数据视图-20241220.xlsx\n",
      "\n",
      "upsert耗时:0.0330 s\n",
      "========================================\n",
      "17 知己私享-稳确幸-数据视图-20241220.xlsx\n",
      "\n",
      "upsert耗时:0.0540 s\n",
      "========================================\n"
     ]
    }
   ],
   "source": [
    "result_df = []\n",
    "counter = 1\n",
    "for i in os.listdir(file_path+\"组合净值/\"):\n",
    "    print(counter, i)\n",
    "    counter += 1\n",
    "    df = pd.read_excel(file_path+\"组合净值/\" + i, header=1)\n",
    "    df.rename(\n",
    "        columns={\n",
    "            \"日期\": 'TRADE_DT',\n",
    "            \"投资组合(扣除投顾费,申赎费)\": \"PORTFOLIO_NAV\",\n",
    "            \"业绩基准\": \"BENCHMARK_NAV\"\n",
    "        },\n",
    "        inplace=True\n",
    "    )\n",
    "    df[\"PORTFOLIO_NAME\"] = i[0: i.index(\"-数\")]\n",
    "    # result_df.append(df)\n",
    "    # result_df = pd.concat(result_df)\n",
    "    DB_CONN_JJTG_DATA.upsert(df, table=\"portfolio_nav\")"
   ]
  },
  {
   "cell_type": "markdown",
   "metadata": {},
   "source": [
    "fof基金分类"
   ]
  },
  {
   "cell_type": "code",
   "execution_count": 5,
   "metadata": {},
   "outputs": [
    {
     "name": "stdout",
     "output_type": "stream",
     "text": [
      "\n"
     ]
    },
    {
     "name": "stderr",
     "output_type": "stream",
     "text": [
      "TIME:2024-12-20 10:43:51,488 - Level:INFO - Mesaage:fof_type更新插入905行数据\n"
     ]
    },
    {
     "name": "stdout",
     "output_type": "stream",
     "text": [
      "exec_query耗时:0.5103 s\n",
      "========================================\n",
      "\n",
      "upsert耗时:0.0890 s\n",
      "========================================\n"
     ]
    }
   ],
   "source": [
    "query_sql = \"\"\"\n",
    "SELECT\n",
    "\ta.TICKER_SYMBOL,\n",
    "\ta.IDX_SYMBOL,\n",
    "\tb.SEC_TAG,\n",
    "\tb.SEC_SHORT_NAME,\n",
    "\ta.WEIGHT * 100 as EQUITY_PORT\n",
    "FROM\n",
    "\tfund_benchmark a\n",
    "\tJOIN index_tag b ON a.IDX_SYMBOL = b.TICKER_SYMBOL \n",
    "WHERE\n",
    "\t1 = 1 \n",
    "\tAND a.IS_EXE = 1 \n",
    "\tAND b.FIRST_TAG = '资产类别' \n",
    "\tAND `LEVEL` = 2 \n",
    "\tAND a.TICKER_SYMBOL IN ( \n",
    "        SELECT TICKER_SYMBOL \n",
    "        FROM `chentiancheng`.`fund_type_jy` \n",
    "        WHERE `INDUSTRIESNAME_1` = 'FOF' AND CUR_SIGN = 1 \n",
    "    ) \n",
    "\"\"\"\n",
    "df = DB_CONN_JJTG_DATA.exec_query(query_sql)\n",
    "df.loc[(df[\"SEC_TAG\"]=='基金') & (df[\"SEC_SHORT_NAME\"].str.contains(\"股\")), \"SEC_TAG\"] = '股票'\n",
    "df = df[df[\"SEC_TAG\"] == '股票'][[\"TICKER_SYMBOL\", \"EQUITY_PORT\"]]\n",
    "df = df.groupby(by=[\"TICKER_SYMBOL\"]).sum().reset_index()\n",
    "df[\"INNER_TYPE\"] = None\n",
    "df.loc[(df[\"EQUITY_PORT\"]>=5)&((df[\"EQUITY_PORT\"]<15)), \"INNER_TYPE\"] = '知己优选-月月享'\n",
    "df.loc[(df[\"EQUITY_PORT\"]>=15)&((df[\"EQUITY_PORT\"]<25)), \"INNER_TYPE\"] = '知己优选-固收佳进取'\n",
    "df.loc[(df[\"EQUITY_PORT\"]>=45)&((df[\"EQUITY_PORT\"]<55)), \"INNER_TYPE\"] = '知己优选-均衡小确幸'\n",
    "df.loc[(df[\"EQUITY_PORT\"]>=75)&((df[\"EQUITY_PORT\"]<85)), \"INNER_TYPE\"] = '知己私享-稳确幸'\n",
    "df.loc[(df[\"EQUITY_PORT\"]>=90), \"INNER_TYPE\"] = '知己优选-进取全明星'\n",
    "df[\"INNER_TYPE\"] = df[\"INNER_TYPE\"].fillna(\"其他\")\n",
    "DB_CONN_JJTG_DATA.upsert(df, table=\"fof_type\")"
   ]
  }
 ],
 "metadata": {
  "kernelspec": {
   "display_name": "my312",
   "language": "python",
   "name": "python3"
  },
  "language_info": {
   "codemirror_mode": {
    "name": "ipython",
    "version": 3
   },
   "file_extension": ".py",
   "mimetype": "text/x-python",
   "name": "python",
   "nbconvert_exporter": "python",
   "pygments_lexer": "ipython3",
   "version": "3.12.7"
  },
  "orig_nbformat": 4
 },
 "nbformat": 4,
 "nbformat_minor": 2
}
