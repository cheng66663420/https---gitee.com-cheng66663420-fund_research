{
 "cells": [
  {
   "cell_type": "code",
   "execution_count": 1,
   "metadata": {},
   "outputs": [
    {
     "name": "stdout",
     "output_type": "stream",
     "text": [
      "\n",
      "exec_query耗时:0.0150 s\n",
      "========================================\n",
      "\n",
      "exec_query耗时:0.0980 s\n",
      "========================================\n"
     ]
    }
   ],
   "source": [
    "import os\n",
    "import pandas as pd\n",
    "from quant_utils.constant_varialbles import LAST_TRADE_DT\n",
    "from openpyxl import load_workbook\n",
    "\n",
    "from openpyxl.styles import Color, Font, Alignment, PatternFill, Side, Border\n",
    "import emoji\n",
    "import quant_utils.data_moudle as dm\n",
    "from quant_utils.db_conn import DB_CONN_JJTG_DATA\n",
    "from quant_utils.utils import save_excel_into_img\n",
    "from quant_utils.xlsx_func import XlsxFunc\n",
    "\n",
    "from watermarker.marker import add_mark\n",
    "from wrapper.wx_wrapper import WxWrapper"
   ]
  },
  {
   "cell_type": "markdown",
   "metadata": {},
   "source": [
    "1日报"
   ]
  },
  {
   "cell_type": "code",
   "execution_count": 2,
   "metadata": {},
   "outputs": [
    {
     "name": "stderr",
     "output_type": "stream",
     "text": [
      "d:\\miniforge3\\envs\\my312\\Lib\\site-packages\\openpyxl\\styles\\stylesheet.py:237: UserWarning: Workbook contains no default style, apply openpyxl's default\n",
      "  warn(\"Workbook contains no default style, apply openpyxl's default\")\n",
      "d:\\miniforge3\\envs\\my312\\Lib\\site-packages\\openpyxl\\styles\\stylesheet.py:237: UserWarning: Workbook contains no default style, apply openpyxl's default\n",
      "  warn(\"Workbook contains no default style, apply openpyxl's default\")\n"
     ]
    }
   ],
   "source": [
    "\n",
    "template_path = \"E:/基金投顾自动化/\"\n",
    "month = LAST_TRADE_DT[4:6]\n",
    "# 读取模板文件\n",
    "df1 = pd.read_excel(\n",
    "    template_path + \"基金投顾业务数据报表-t+1.xlsx\", \n",
    "    sheet_name=\"分公司客户购买情况-报表2_分公司客户购买情况\",\n",
    ")\n",
    "df1[\"所属一级分公司\"] = df1[\"所属一级分公司\"].ffill()\n",
    "df1 = df1.groupby(by=[\"所属一级分公司\"]).sum().reset_index()\n",
    "\n",
    "df2 = pd.read_excel(\n",
    "    template_path + \"基金投顾业务数据报表-t+1.xlsx\", \n",
    "    sheet_name=\"分公司维度统计情况（剔除已解约客户）-报表2_分公司购买情\",\n",
    ")\n",
    "df2[\"所属一级分公司\"] = df2[\"所属一级分公司\"].ffill()\n",
    "df2 = df2.groupby(by=[\"所属一级分公司\"]).sum()[\"保有客户数\"].reset_index()\n",
    "\n",
    "company_type = pd.read_excel(template_path+\"艾特名单.xlsx\")\n",
    "df2 = df2[[\"所属一级分公司\", \"保有客户数\"]]\n",
    "df1 = (\n",
    "    df1\n",
    "    .merge(df2, on=\"所属一级分公司\", how=\"left\")\n",
    "    .merge(company_type, left_on=\"所属一级分公司\", right_on=\"分公司\", how=\"left\")\n",
    ")\n"
   ]
  },
  {
   "cell_type": "code",
   "execution_count": 3,
   "metadata": {},
   "outputs": [
    {
     "name": "stderr",
     "output_type": "stream",
     "text": [
      "C:\\Users\\Wilcoxon\\AppData\\Local\\Temp\\ipykernel_8764\\2794208013.py:22: SettingWithCopyWarning: \n",
      "A value is trying to be set on a copy of a slice from a DataFrame.\n",
      "Try using .loc[row_indexer,col_indexer] = value instead\n",
      "\n",
      "See the caveats in the documentation: https://pandas.pydata.org/pandas-docs/stable/user_guide/indexing.html#returning-a-view-versus-a-copy\n",
      "  result[\"本月累计赎回到账金额-服务关系2(万)\"] = - result[\"本月累计赎回到账金额-服务关系2(万)\"]\n",
      "C:\\Users\\Wilcoxon\\AppData\\Local\\Temp\\ipykernel_8764\\2794208013.py:23: SettingWithCopyWarning: \n",
      "A value is trying to be set on a copy of a slice from a DataFrame\n",
      "\n",
      "See the caveats in the documentation: https://pandas.pydata.org/pandas-docs/stable/user_guide/indexing.html#returning-a-view-versus-a-copy\n",
      "  result.rename(columns=rename_dict, inplace=True)\n",
      "C:\\Users\\Wilcoxon\\AppData\\Local\\Temp\\ipykernel_8764\\2794208013.py:25: SettingWithCopyWarning: \n",
      "A value is trying to be set on a copy of a slice from a DataFrame\n",
      "\n",
      "See the caveats in the documentation: https://pandas.pydata.org/pandas-docs/stable/user_guide/indexing.html#returning-a-view-versus-a-copy\n",
      "  result.sort_values(\n",
      "C:\\Users\\Wilcoxon\\AppData\\Local\\Temp\\ipykernel_8764\\2794208013.py:30: SettingWithCopyWarning: \n",
      "A value is trying to be set on a copy of a slice from a DataFrame\n",
      "\n",
      "See the caveats in the documentation: https://pandas.pydata.org/pandas-docs/stable/user_guide/indexing.html#returning-a-view-versus-a-copy\n",
      "  result.fillna(0, inplace=True)\n"
     ]
    }
   ],
   "source": [
    "col = [\n",
    "    \"分公司类别FLAG\",\n",
    "    \"分公司类别\", \n",
    "    \"所属一级分公司\", \n",
    "    \"客户基金投顾总资产-月日均 服务关系2(万)\", \n",
    "    \"客户基金投顾总资产 服务关系2(万)\", \n",
    "    \"保有客户数\", \n",
    "    \"当月基金投顾购买金额-服务关系2(万)\", \n",
    "    \"当月基金投顾客户数\", \n",
    "    \"本月累计赎回到账金额-服务关系2(万)\"\n",
    "]\n",
    "result = df1[col]\n",
    "rename_dict = {\n",
    "    \"所属一级分公司\": \"分公司\", \n",
    "    \"客户基金投顾总资产-月日均 服务关系2(万)\": \"月日均规模(万元)\", \n",
    "    \"客户基金投顾总资产 服务关系2(万)\": \"保有规模(万元)\", \n",
    "    \"保有客户数\": \"存续客户数\", \n",
    "    \"当月基金投顾购买金额-服务关系2(万)\": f\"{month}月新增签约资产(万元)\", \n",
    "    \"当月基金投顾客户数\": f\"{month}月新增签约客户数\", \n",
    "    \"本月累计赎回到账金额-服务关系2(万)\": f\"{month}月赎回到账金额(万元)\"\n",
    "}\n",
    "result[\"本月累计赎回到账金额-服务关系2(万)\"] = - result[\"本月累计赎回到账金额-服务关系2(万)\"]\n",
    "result.rename(columns=rename_dict, inplace=True)\n",
    "\n",
    "result.sort_values(\n",
    "    by=[\"分公司类别FLAG\", \"月日均规模(万元)\"], \n",
    "    ascending=[True, False],\n",
    "    inplace=True\n",
    ")\n",
    "result.fillna(0, inplace=True)\n",
    "result.index = range(0, result.shape[0])"
   ]
  },
  {
   "cell_type": "code",
   "execution_count": 4,
   "metadata": {},
   "outputs": [],
   "source": [
    "def get_company_str(df, fund_type, order_column):\n",
    "    temp1 = df.query(f\"分公司类别=='{fund_type}'\")\n",
    "    temp1 = temp1[temp1[order_column]>0]\n",
    "    temp1[\"rank\"] = temp1[order_column].rank(ascending=False, method='min')\n",
    "    temp1.sort_values(by=\"rank\", ascending=True, inplace=True)\n",
    "    temp1 = temp1.query(\"rank<3\")[[\"分公司\", \"rank\"]]\n",
    "    rank_list = temp1[\"rank\"].unique()\n",
    "    result_list = []\n",
    "    for rank in rank_list:\n",
    "        rank_result = temp1.query(f\"rank=={rank}\")\n",
    "        result_list.append(\"/\".join(rank_result[\"分公司\"]))\n",
    "    return '、'.join(result_list)"
   ]
  },
  {
   "cell_type": "code",
   "execution_count": 5,
   "metadata": {},
   "outputs": [],
   "source": [
    "new_client_num = result.loc[result.shape[0]-1, f\"{month}月新增签约客户数\"]\n",
    "new_client_asset = result.loc[result.shape[0]-1, f\"{month}月新增签约资产(万元)\"]\n",
    "total_client_num = result.loc[result.shape[0]-1, \"存续客户数\"]\n",
    "total_client_asset = result.loc[result.shape[0]-1, \"保有规模(万元)\"]"
   ]
  },
  {
   "cell_type": "code",
   "execution_count": 6,
   "metadata": {},
   "outputs": [],
   "source": [
    "\n",
    "xlsx_func = XlsxFunc(file_path = f\"{template_path}日报周报/模板/基金投顾日报.xlsx\")\n",
    "xlsx_func.set_value(\n",
    "    cell_string=\"A1\",\n",
    "    value=(\n",
    "        f\"基金投顾业务{month}月-日报({LAST_TRADE_DT[4:]})\" + \"\\n\"\n",
    "        + f\"本月新增签约客户数{new_client_num:.0f}位,本月新增签约资产{new_client_asset:.0f}万元\"+\"\\n\"\n",
    "        + f\"存续客户数{total_client_num:.0f}位,保有规模{total_client_asset/10000:.2f}亿元\"\n",
    "    )\n",
    ")\n",
    "\n",
    "for row in range(3, xlsx_func.max_row + 1):\n",
    "    for col in range(2, xlsx_func.max_column + 1):\n",
    "        xlsx_func.set_value(\n",
    "            row=row, column=col, value=result.iloc[row-3, col]\n",
    "        )\n",
    "xlsx_func.save(\n",
    "    new_path=f\"{template_path}日报周报/结果/日报.xlsx\"\n",
    ")\n"
   ]
  },
  {
   "cell_type": "markdown",
   "metadata": {},
   "source": [
    "新增客户分公司"
   ]
  },
  {
   "cell_type": "code",
   "execution_count": 7,
   "metadata": {},
   "outputs": [],
   "source": [
    "company_type = result[[\"分公司类别FLAG\", \"分公司类别\"]].drop_duplicates().sort_values(\"分公司类别FLAG\")\n",
    "company_type = company_type.query(\"分公司类别FLAG != 0\")"
   ]
  },
  {
   "cell_type": "code",
   "execution_count": 8,
   "metadata": {},
   "outputs": [
    {
     "data": {
      "text/html": [
       "<div>\n",
       "<style scoped>\n",
       "    .dataframe tbody tr th:only-of-type {\n",
       "        vertical-align: middle;\n",
       "    }\n",
       "\n",
       "    .dataframe tbody tr th {\n",
       "        vertical-align: top;\n",
       "    }\n",
       "\n",
       "    .dataframe thead th {\n",
       "        text-align: right;\n",
       "    }\n",
       "</style>\n",
       "<table border=\"1\" class=\"dataframe\">\n",
       "  <thead>\n",
       "    <tr style=\"text-align: right;\">\n",
       "      <th></th>\n",
       "      <th>分公司类别FLAG</th>\n",
       "      <th>分公司类别</th>\n",
       "    </tr>\n",
       "  </thead>\n",
       "  <tbody>\n",
       "    <tr>\n",
       "      <th>0</th>\n",
       "      <td>1.0</td>\n",
       "      <td>一类</td>\n",
       "    </tr>\n",
       "    <tr>\n",
       "      <th>9</th>\n",
       "      <td>2.0</td>\n",
       "      <td>二类</td>\n",
       "    </tr>\n",
       "    <tr>\n",
       "      <th>17</th>\n",
       "      <td>3.0</td>\n",
       "      <td>三类</td>\n",
       "    </tr>\n",
       "    <tr>\n",
       "      <th>27</th>\n",
       "      <td>4.0</td>\n",
       "      <td>四类</td>\n",
       "    </tr>\n",
       "    <tr>\n",
       "      <th>37</th>\n",
       "      <td>5.0</td>\n",
       "      <td>五类</td>\n",
       "    </tr>\n",
       "  </tbody>\n",
       "</table>\n",
       "</div>"
      ],
      "text/plain": [
       "    分公司类别FLAG 分公司类别\n",
       "0         1.0    一类\n",
       "9         2.0    二类\n",
       "17        3.0    三类\n",
       "27        4.0    四类\n",
       "37        5.0    五类"
      ]
     },
     "execution_count": 8,
     "metadata": {},
     "output_type": "execute_result"
    }
   ],
   "source": [
    "company_type"
   ]
  },
  {
   "cell_type": "code",
   "execution_count": 9,
   "metadata": {},
   "outputs": [],
   "source": [
    "new_client_dict = {\n",
    "    type: get_company_str(\n",
    "        df=result, fund_type=type, order_column=f\"{month}月新增签约客户数\"\n",
    "    )\n",
    "    for type in company_type[\"分公司类别\"]\n",
    "}\n",
    "new_client = [f\"{key}: {val}\" for key, val in new_client_dict.items()]\n",
    "new_client = \",\\n\".join(new_client)"
   ]
  },
  {
   "cell_type": "markdown",
   "metadata": {},
   "source": [
    "新增规模分公司"
   ]
  },
  {
   "cell_type": "code",
   "execution_count": 10,
   "metadata": {},
   "outputs": [],
   "source": [
    "new_asset_dict = {\n",
    "    type: get_company_str(\n",
    "        df=result, fund_type=type, order_column=f\"{month}月新增签约资产(万元)\"\n",
    "    )\n",
    "    for type in company_type[\"分公司类别\"]\n",
    "}\n",
    "new_asset = [f\"{key}: {val}\" for key, val in new_asset_dict.items()]\n",
    "new_asset = \",\\n\".join(new_asset)"
   ]
  },
  {
   "cell_type": "code",
   "execution_count": 11,
   "metadata": {},
   "outputs": [
    {
     "name": "stdout",
     "output_type": "stream",
     "text": [
      "🌹【基金投顾业务日报1218】\n",
      "全司基金投顾存续客户16642人，保有规模4.46亿元\n",
      "🌝本月新增客户前3:\n",
      "一类: 泉州分公司、浙江分公司,\n",
      "二类: 四川分公司、湖北分公司,\n",
      "三类: 苏州分公司、云南分公司,\n",
      "四类: 广西分公司、内蒙古分公司,\n",
      "五类: 大连分公司、西藏分公司\n",
      "\n",
      "🌝本月新增规模前3:\n",
      "一类: 泉州分公司、江苏分公司,\n",
      "二类: 四川分公司、湖北分公司,\n",
      "三类: 云南分公司、莆田分公司,\n",
      "四类: 广西分公司、黑龙江分公司,\n",
      "五类: 大连分公司、西藏分公司\n",
      "\n",
      "*保有客户数口径定义:基金投顾客户为当月日均基金投顾产品保有规模大于0或近12个月内日均基金投顾产品保有规模大于5000元的客户\n",
      "\n"
     ]
    }
   ],
   "source": [
    "daily_report_string = f\"\"\"{emoji.emojize(\"🌹\")}【基金投顾业务日报{LAST_TRADE_DT[4:]}】\n",
    "全司基金投顾存续客户{total_client_num:.0f}人，保有规模{total_client_asset/10000:.2f}亿元\n",
    "{emoji.emojize(\"🌝\")}本月新增客户前3:\n",
    "\"\"\" + new_client + '\\n' + f\"\"\"\n",
    "{emoji.emojize(\"🌝\")}本月新增规模前3:\"\"\"+ '\\n' + new_asset + '\\n' + \"\"\"\n",
    "*保有客户数口径定义:基金投顾客户为当月日均基金投顾产品保有规模大于0或近12个月内日均基金投顾产品保有规模大于5000元的客户\n",
    "\"\"\"\n",
    "print(daily_report_string)"
   ]
  },
  {
   "cell_type": "markdown",
   "metadata": {},
   "source": [
    "2.周报"
   ]
  },
  {
   "cell_type": "code",
   "execution_count": 12,
   "metadata": {},
   "outputs": [],
   "source": [
    "col = [\n",
    "    \"分公司类别FLAG\",\n",
    "    \"分公司类别\", \n",
    "    \"所属一级分公司\", \n",
    "    \"当周基金投顾购买金额-服务关系2(万)\", \n",
    "    \"当周基金投顾客户数\", \n",
    "    \"本周累计赎回到账金额-服务关系2(万)\", \n",
    "    \"当年基金投顾购买金额-服务关系2(万)\", \n",
    "    \"客户基金投顾总资产 服务关系2(万)\",\n",
    "    \"保有客户数\"\n",
    "]\n",
    "order_col = [\n",
    "    \"分公司类别FLAG\",\n",
    "    \"分公司类别\", \n",
    "    \"分公司\", \n",
    "    \"本周新增签约资产(万元)\",\n",
    "    \"本周新增签约客户数\",\n",
    "    \"本周赎回到账金额(万元)\",\n",
    "    \"本周净新增(万元)\",\n",
    "    \"本年新增签约资产(万元)\",\n",
    "    \"保有规模-小福星未折算(万元)\",\n",
    "    \"存续客户数\"\n",
    "]\n",
    "week_result = df1[col]\n",
    "week_rename_dict = {\n",
    "    \"所属一级分公司\": \"分公司\",\n",
    "    \"当周基金投顾购买金额-服务关系2(万)\": \"本周新增签约资产(万元)\",\n",
    "    \"当周基金投顾客户数\": \"本周新增签约客户数\",\n",
    "    \"本周累计赎回到账金额-服务关系2(万)\":\"本周赎回到账金额(万元)\",\n",
    "    \"当年基金投顾购买金额-服务关系2(万)\":\"本年新增签约资产(万元)\",\n",
    "    \"客户基金投顾总资产 服务关系2(万)\": '保有规模-小福星未折算(万元)',\n",
    "    \"保有客户数\": \"存续客户数\",\n",
    "}\n",
    "week_result = week_result.rename(columns=week_rename_dict)\n",
    "week_result[\"本周净新增(万元)\"] = week_result[\"本周新增签约资产(万元)\"] - week_result[\"本周赎回到账金额(万元)\"]\n",
    "\n",
    "week_result=week_result[order_col]\n",
    "week_result.sort_values(by=[\"分公司类别FLAG\",\"本周新增签约资产(万元)\"], ascending=[True, False], inplace=True)\n",
    "week_result.index= range(0,len(week_result))\n"
   ]
  },
  {
   "cell_type": "code",
   "execution_count": 13,
   "metadata": {},
   "outputs": [
    {
     "name": "stdout",
     "output_type": "stream",
     "text": [
      "\n",
      "exec_query耗时:0.1270 s\n",
      "========================================\n",
      "\n",
      "exec_query耗时:0.1010 s\n",
      "========================================\n"
     ]
    }
   ],
   "source": [
    "new_client_num_week = week_result.loc[result.shape[0]-1, \"本周新增签约客户数\"]\n",
    "new_client_asset_week = week_result.loc[result.shape[0]-1, \"本周新增签约资产(万元)\"]\n",
    "total_client_asset_week = week_result.loc[result.shape[0]-1, \"保有规模-小福星未折算(万元)\"]\n",
    "\n",
    "\n",
    "last_week = dm.offset_period_trade_dt(LAST_TRADE_DT,-1, \"w\")\n",
    "week_start = dm.offset_trade_dt(last_week,-1)"
   ]
  },
  {
   "cell_type": "code",
   "execution_count": 14,
   "metadata": {},
   "outputs": [],
   "source": [
    "xlsx_func = XlsxFunc(file_path = f\"{template_path}日报周报/模板/基金投顾周报.xlsx\")\n",
    "xlsx_func.set_value(\n",
    "    cell_string=\"A1\",\n",
    "    value= (\n",
    "        f\"基金投顾业务周报({week_start[4:]}-{LAST_TRADE_DT[4:]})\" + \"\\n\"\n",
    "        + f\"本周新增签约资产{new_client_asset_week:.0f}万元,本周新增签约客户数{new_client_num_week:.0f}个\"+\"\\n\"\n",
    "    )\n",
    ")\n",
    "\n",
    "for row in range(3, xlsx_func.max_row + 1):\n",
    "    for col in range(2, xlsx_func.max_column + 1):\n",
    "        xlsx_func.set_value(\n",
    "            row=row, column=col, value=week_result.iloc[row-3, col]\n",
    "        )\n",
    "xlsx_func.save(\n",
    "    new_path=f\"{template_path}日报周报/结果/周报.xlsx\"\n",
    ")"
   ]
  },
  {
   "cell_type": "markdown",
   "metadata": {},
   "source": [
    "周度金额"
   ]
  },
  {
   "cell_type": "code",
   "execution_count": 15,
   "metadata": {},
   "outputs": [],
   "source": [
    "new_asset_dict = {\n",
    "    type: get_company_str(\n",
    "        df=week_result, fund_type=type, order_column=\"本周新增签约资产(万元)\"\n",
    "    )\n",
    "    for type in company_type[\"分公司类别\"]\n",
    "}\n",
    "new_asset = [f\"{key}: {val}\" for key, val in new_asset_dict.items()]\n",
    "new_asset = \",\\n\".join(new_asset)"
   ]
  },
  {
   "cell_type": "markdown",
   "metadata": {},
   "source": [
    "周度赎回金额\n"
   ]
  },
  {
   "cell_type": "code",
   "execution_count": 16,
   "metadata": {},
   "outputs": [],
   "source": [
    "new_redeem_dict = {\n",
    "    type: get_company_str(\n",
    "        df=week_result, fund_type=type, order_column=\"本周赎回到账金额(万元)\"\n",
    "    )\n",
    "    for type in company_type[\"分公司类别\"]\n",
    "}\n",
    "new_redeem = [f\"{key}: {val}\" for key, val in new_redeem_dict.items()]\n",
    "new_redeem = \",\\n\".join(new_redeem)"
   ]
  },
  {
   "cell_type": "markdown",
   "metadata": {},
   "source": [
    "保有规模"
   ]
  },
  {
   "cell_type": "code",
   "execution_count": 17,
   "metadata": {},
   "outputs": [],
   "source": [
    "new_total_dict = {\n",
    "    type: get_company_str(\n",
    "        df=week_result, fund_type=type, order_column=\"保有规模-小福星未折算(万元)\"\n",
    "    )\n",
    "    for type in company_type[\"分公司类别\"]\n",
    "}\n",
    "new_total = [f\"{key}: {val}\" for key, val in new_total_dict.items()]\n",
    "new_total = \",\\n\".join(new_total)"
   ]
  },
  {
   "cell_type": "code",
   "execution_count": 18,
   "metadata": {},
   "outputs": [
    {
     "name": "stdout",
     "output_type": "stream",
     "text": [
      "🌟基金投业务周报【1212-1218】\n",
      "✊周度新增前3:\n",
      "一类: 广东分公司、泉州分公司,\n",
      "二类: 湖北分公司、南平分公司/漳州分公司,\n",
      "三类: 莆田分公司、苏州分公司,\n",
      "四类: 广西分公司、山西分公司,\n",
      "五类: 大连分公司\n",
      "\n",
      "💔周度赎回金额前3:\n",
      "一类: 泉州分公司、福州分公司,\n",
      "二类: 南平分公司、漳州分公司,\n",
      "三类: 河南分公司、宁波分公司,\n",
      "四类: 内蒙古分公司、山西分公司,\n",
      "五类: 大连分公司、新疆分公司\n",
      "\n",
      "💪保有规模前3:\n",
      "一类: 泉州分公司、广东分公司,\n",
      "二类: 湖北分公司、四川分公司,\n",
      "三类: 云南分公司、安徽分公司,\n",
      "四类: 广西分公司、内蒙古分公司,\n",
      "五类: 西藏分公司、大连分公司\n",
      "\n"
     ]
    }
   ],
   "source": [
    "week_report_string = f\"\"\"{emoji.emojize(\"🌟\")}基金投业务周报【{week_start[4:]}-{LAST_TRADE_DT[4:]}】\n",
    "{emoji.emojize(\"✊\")}周度新增前3:\n",
    "\"\"\"+ new_asset + '\\n' + f\"\"\"\n",
    "{emoji.emojize(\"💔\")}周度赎回金额前3:\n",
    "\"\"\" + new_redeem + '\\n' + f\"\"\"\n",
    "{emoji.emojize(\"💪\")}保有规模前3:\n",
    "\"\"\"+ new_total + '\\n'\n",
    "print(week_report_string)"
   ]
  },
  {
   "cell_type": "markdown",
   "metadata": {},
   "source": [
    "目标盈周报"
   ]
  },
  {
   "cell_type": "code",
   "execution_count": 19,
   "metadata": {},
   "outputs": [
    {
     "name": "stdout",
     "output_type": "stream",
     "text": [
      "\n",
      "exec_query耗时:4.7798 s\n",
      "========================================\n"
     ]
    }
   ],
   "source": [
    "query_sql = \"\"\"\n",
    "SELECT\n",
    "\ta.*,\n",
    "\tb.`累计收益率(止盈后)`,\n",
    "\tb.`年化收益率(止盈后)`,\n",
    "\tc.PORTFOLIO_VALUE AS '最大回撤',\n",
    "\td.TEMPERATURE AS '权益温度',\n",
    "\te.`债市温度计` \n",
    "FROM\n",
    "\t`view_mointor_target_portfolio` a\n",
    "\tJOIN view_mointor_target_portfolio_accumulated b ON a.`组合名称` = b.`组合名称`\n",
    "\tLEFT JOIN portfolio_derivatives_performance c ON c.END_DATE = b.`交易日` \n",
    "\tAND c.TICKER_SYMBOL = a.`组合名称` \n",
    "\tAND c.`CYCLE` = '成立日' \n",
    "\tAND c.`INDICATOR` = '最大回撤'\n",
    "\tJOIN view_temperature_stock d ON d.END_DATE = a.`运作起始日` \n",
    "\tAND d.TICKER_SYMBOL = '000985'\n",
    "\tJOIN view_temperature_bond e ON e.`日期` = d.END_DATE\n",
    "\tJOIN portfolio_info f ON f.PORTFOLIO_NAME = a.`组合名称` \n",
    "WHERE\n",
    "\t1 = 1 \n",
    "\tAND f.ORDER_ID BETWEEN 4.01 \n",
    "\tAND 5.99 \n",
    "ORDER BY\n",
    "\tf.ORDER_ID\n",
    "\"\"\"\n",
    "target_df = DB_CONN_JJTG_DATA.exec_query(query_sql)\n",
    "alive_port = target_df[pd.isnull(target_df[\"运营结束日期\"])]\n",
    "dead_port = target_df[~pd.isnull(target_df[\"运营结束日期\"])]\n",
    "target_df = pd.concat([dead_port, alive_port])\n",
    "target_df.index = range(1, len(target_df)+1)\n",
    "target_df.reset_index(inplace=True)\n",
    "target_df.rename(columns={\"index\":\"序号\"}, inplace=True)\n",
    "target_df[\"目标收益\"] = target_df[\"目标收益\"].str.split(\"%\", expand=True)[0].astype(float)/100\n",
    "target_df[\"达成收益率\"] = target_df[\"达成收益率\"].str.split(\"%\", expand=True)[0].astype(float)/100\n",
    "target_df[\"累计收益率\"] = target_df[\"累计收益率\"].str.split(\"%\", expand=True)[0].astype(float)/100"
   ]
  },
  {
   "cell_type": "code",
   "execution_count": 20,
   "metadata": {},
   "outputs": [
    {
     "name": "stderr",
     "output_type": "stream",
     "text": [
      "C:\\Users\\Wilcoxon\\AppData\\Local\\Temp\\ipykernel_8764\\3383352734.py:1: FutureWarning: A value is trying to be set on a copy of a DataFrame or Series through chained assignment using an inplace method.\n",
      "The behavior will change in pandas 3.0. This inplace method will never work because the intermediate object on which we are setting values always behaves as a copy.\n",
      "\n",
      "For example, when doing 'df[col].method(value, inplace=True)', try using 'df.method({col: value}, inplace=True)' or df[col] = df[col].method(value) instead, to perform the operation inplace on the original object.\n",
      "\n",
      "\n",
      "  target_df[\"最大回撤\"].fillna(\"--\", inplace=True)\n",
      "C:\\Users\\Wilcoxon\\AppData\\Local\\Temp\\ipykernel_8764\\3383352734.py:1: FutureWarning: Setting an item of incompatible dtype is deprecated and will raise an error in a future version of pandas. Value '--' has dtype incompatible with float64, please explicitly cast to a compatible dtype first.\n",
      "  target_df[\"最大回撤\"].fillna(\"--\", inplace=True)\n"
     ]
    }
   ],
   "source": [
    "target_df[\"最大回撤\"].fillna(\"--\", inplace=True)\n",
    "dead_port = target_df[~pd.isnull(target_df[\"运营结束日期\"])]\n",
    "alive_port = target_df[pd.isnull(target_df[\"运营结束日期\"])]\n",
    "needed_col = [\n",
    "    \"序号\",\n",
    "    \"组合名称\",\n",
    "    \"运作起始日\",\n",
    "    \"交易日\",\n",
    "    \"运作天数\",\n",
    "    \"目标收益\",\n",
    "    \"达成收益率\",\n",
    "    \"累计收益率\",\n",
    "    \"最大回撤\",\n",
    "    \"权益温度\",\n",
    "    \"债市温度计\"\n",
    "]\n",
    "target_df = target_df[needed_col]\n",
    "dead_port = dead_port[needed_col]\n",
    "alive_port = alive_port[needed_col]"
   ]
  },
  {
   "cell_type": "code",
   "execution_count": 21,
   "metadata": {},
   "outputs": [],
   "source": [
    "\n",
    "xlsx_func = XlsxFunc(\n",
    "    file_path=f\"{template_path}日报周报/模板/目标盈周报模板.xlsx\"\n",
    ")\n",
    "\n",
    "xlsx_func.delete_rows(\n",
    "    4,\n",
    "    end_row=xlsx_func.max_row+1\n",
    ")\n",
    "xlsx_func.unmerge_all_cells()\n",
    "xlsx_func.merge_cells(\n",
    "    start_row=1, start_column=1,\n",
    "    end_row=1, end_column=xlsx_func.max_column\n",
    ")\n",
    "\n",
    "xlsx_func.set_value(\n",
    "    cell_string=\"A1\",\n",
    "    value=(\n",
    "        f\"知己目标盈\\n(数据截止{LAST_TRADE_DT[:4]}年{LAST_TRADE_DT[4:6]}月{LAST_TRADE_DT[6:]}日)\"\n",
    "    )\n",
    ")\n",
    "\n",
    "for row in range(3, dead_port.shape[0] + 3):\n",
    "    for col in range(2, xlsx_func.max_column + 1):\n",
    "        xlsx_func.set_value(\n",
    "            row=row,\n",
    "            column=col,\n",
    "            value=dead_port.iloc[row-3, col-2]\n",
    "        )\n",
    "\n",
    "xlsx_func.set_value(\n",
    "    row=dead_port.shape[0] + 3, column=9, value=dead_port[\"累计收益率\"].mean()\n",
    ")\n",
    "xlsx_func.set_value(\n",
    "    row=dead_port.shape[0] + 3, column=8, value=dead_port[\"达成收益率\"].mean()   \n",
    ")\n",
    "xlsx_func.set_value(\n",
    "    row=dead_port.shape[0] + 3, column=6, value=dead_port[\"运作天数\"].mean()\n",
    ")\n",
    "xlsx_func.set_value(\n",
    "    row=dead_port.shape[0] + 3, column=11, value=dead_port[\"权益温度\"].mean()\n",
    ")\n",
    "xlsx_func.set_value(\n",
    "    row=dead_port.shape[0] + 3, column=12, value=dead_port[\"债市温度计\"].mean()\n",
    ")\n",
    "\n",
    "xlsx_func.merge_cells(\n",
    "    start_row=3, start_column=1, \n",
    "    end_row=dead_port.shape[0] + 3, end_column=1\n",
    ")\n",
    "xlsx_func.set_value(\n",
    "    row=3, column=1, value=\"已止盈\"\n",
    ")\n",
    "xlsx_func.set_alignment(\n",
    "    row=3, \n",
    "    column=1, \n",
    "    alignment= Alignment(\n",
    "        horizontal='center',\n",
    "        vertical='center'\n",
    "    )\n",
    ")\n",
    "xlsx_func.merge_cells(\n",
    "    start_row=dead_port.shape[0] + 3, start_column=2, \n",
    "    end_row=dead_port.shape[0] + 3, end_column=5\n",
    ")\n",
    "xlsx_func.set_value(\n",
    "    row=dead_port.shape[0] + 3, column=2, value=\"均值\"\n",
    ")\n",
    "\n",
    "\n",
    "for row in range(dead_port.shape[0] + 4, target_df.shape[0] + 4):\n",
    "    for col in range(2, xlsx_func.max_column + 1):\n",
    "        xlsx_func.set_value(\n",
    "            row=row,\n",
    "            column=col,\n",
    "            value=alive_port.iloc[row-dead_port.shape[0]-4, col-2]\n",
    "        )\n",
    "\n",
    "for col in range(1, xlsx_func.max_column + 1):\n",
    "    for row in range(4, xlsx_func.max_row+  1):\n",
    "        xlsx_func.format_painter(\n",
    "            row=row,\n",
    "            column=col,\n",
    "            end_row=row,\n",
    "            end_column=col,\n",
    "            source_column=col,\n",
    "            source_row=3,\n",
    "            end_source_row=3,\n",
    "            end_source_column=col\n",
    "        )\n",
    "\n",
    "xlsx_func.merge_cells(\n",
    "    start_row=dead_port.shape[0] + 4, start_column=1, \n",
    "    end_row=target_df.shape[0] + 3, end_column=1\n",
    ")\n",
    "\n",
    "xlsx_func.set_value(\n",
    "    row=dead_port.shape[0] + 4, column=1, value=\"运行中\"\n",
    ")\n",
    "\n",
    "xlsx_func.set_alignment(\n",
    "    row=dead_port.shape[0] + 4, \n",
    "    column=1, \n",
    "    alignment= Alignment(\n",
    "        horizontal='center',\n",
    "        vertical='center'\n",
    "    )\n",
    ")\n",
    "\n",
    "for col in range(2, xlsx_func.max_column + 1):\n",
    "    xlsx_func.set_font(\n",
    "        row=dead_port.shape[0] + 3, column=col,\n",
    "        font=Font(\n",
    "            color=\"FF0000\",\n",
    "            name=u'微软雅黑', \n",
    "            bold = True,\n",
    "            size = 11\n",
    "        )\n",
    "    )\n",
    "\n",
    "xlsx_func.save(\n",
    "    new_path=f\"{template_path}日报周报/结果/目标盈周报结果.xlsx\"\n",
    ")"
   ]
  },
  {
   "cell_type": "code",
   "execution_count": 22,
   "metadata": {},
   "outputs": [
    {
     "name": "stdout",
     "output_type": "stream",
     "text": [
      "E:/基金投顾自动化/结果/目标盈周报结果.png 保存成功。\n",
      "E:/基金投顾自动化/结果/日报.png 保存成功。\n",
      "E:/基金投顾自动化/结果/周报.png 保存成功。\n"
     ]
    }
   ],
   "source": [
    "file_list = [\n",
    "    \"目标盈周报结果.xlsx\",\n",
    "    \"日报.xlsx\",\n",
    "    \"周报.xlsx\",\n",
    "]\n",
    "for file in file_list:\n",
    "    if file.endswith(\".xlsx\") and not file.startswith(\"~\"):\n",
    "        save_excel_into_img(\n",
    "            file_path=f\"E:/基金投顾自动化/日报周报/结果/{file}\",\n",
    "            img_name=f\"E:/基金投顾自动化/结果/{file[:-5]}.png\"\n",
    "        )\n",
    "        add_mark(\n",
    "            file = f\"E:/基金投顾自动化/结果/{file[:-5]}.png\", \n",
    "            out = \"E:/基金投顾自动化/结果/\",\n",
    "            mark = \"仅限内部参考，不可对外发送!\", \n",
    "            opacity=0.15, \n",
    "            angle=30, \n",
    "            space=100,\n",
    "            size=50,\n",
    "            color=\"#DB7093\"\n",
    "        )"
   ]
  },
  {
   "cell_type": "code",
   "execution_count": 23,
   "metadata": {},
   "outputs": [
    {
     "name": "stdout",
     "output_type": "stream",
     "text": [
      "消息发送成功\n",
      "消息发送成功\n",
      "消息发送成功\n",
      "\n",
      "exec_query耗时:0.0020 s\n",
      "========================================\n"
     ]
    }
   ],
   "source": [
    "robot = WxWrapper()\n",
    "robot.send_image(\n",
    "    image_path=\"E:/基金投顾自动化/结果/日报.png\"\n",
    ")\n",
    "robot.send_text(\n",
    "    content=daily_report_string\n",
    ")\n",
    "mentioned_mobile_list = robot.get_mentioned_moble_list_by_name(\n",
    "    [\"陆天琦\"]\n",
    ")\n",
    "\n",
    "\n",
    "robot.send_text(\n",
    "    content=\"业务日报来喽,请及时发送\",\n",
    "    mentioned_mobile_list=mentioned_mobile_list\n",
    ")\n",
    "\n",
    "if dm.if_period_end(LAST_TRADE_DT) ==1:\n",
    "    robot.send_image(\n",
    "        image_path=\"E:/基金投顾自动化/结果/目标盈周报结果.png\"\n",
    "    )\n",
    "    mentioned_mobile_list = robot.get_mentioned_moble_list_by_name(\n",
    "        [\"程钰杨\"]\n",
    "    )\n",
    "    robot.send_text(\n",
    "        content=\"目标盈周报来喽,请及时发送\",\n",
    "        mentioned_mobile_list=mentioned_mobile_list\n",
    "    )\n",
    "    robot.send_image(\n",
    "        image_path=\"E:/基金投顾自动化/结果/周报.png\"\n",
    "    )\n",
    "\n",
    "    robot.send_text(\n",
    "        content=week_report_string\n",
    "    )\n",
    "    mentioned_mobile_list = robot.get_mentioned_moble_list_by_name(\n",
    "        [\"陆天琦\"]\n",
    "    )\n",
    "    robot.send_text(\n",
    "        content=\"业务周报来喽,请及时发送\",\n",
    "        mentioned_mobile_list=mentioned_mobile_list\n",
    "    )"
   ]
  }
 ],
 "metadata": {
  "kernelspec": {
   "display_name": "my312",
   "language": "python",
   "name": "python3"
  },
  "language_info": {
   "codemirror_mode": {
    "name": "ipython",
    "version": 3
   },
   "file_extension": ".py",
   "mimetype": "text/x-python",
   "name": "python",
   "nbconvert_exporter": "python",
   "pygments_lexer": "ipython3",
   "version": "3.12.7"
  }
 },
 "nbformat": 4,
 "nbformat_minor": 2
}
