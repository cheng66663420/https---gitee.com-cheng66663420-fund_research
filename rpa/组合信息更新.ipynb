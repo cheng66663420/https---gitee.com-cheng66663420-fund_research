{
 "cells": [
  {
   "cell_type": "code",
   "execution_count": 2,
   "metadata": {},
   "outputs": [
    {
     "name": "stdout",
     "output_type": "stream",
     "text": [
      "\n",
      "portfolio_benchmark更新插入291行数据\n",
      "upsert耗时:0.0930 s\n",
      "========================================\n",
      "\n",
      "portfolio_info更新插入2行数据\n",
      "upsert耗时:0.0150 s\n",
      "========================================\n",
      "\n",
      "portfolio_constraint更新插入87行数据\n",
      "upsert耗时:0.0340 s\n",
      "========================================\n",
      "\n",
      "portfolio_products_weights更新插入30行数据\n",
      "upsert耗时:0.0390 s\n",
      "========================================\n"
     ]
    }
   ],
   "source": [
    "from quant_utils.db_conn import DB_CONN_JJTG_DATA\n",
    "\n",
    "import pandas as pd\n",
    "\n",
    "file_path = \"C:/Users/Wilcoxon/Desktop/配置excel/组合配置信息/\"\n",
    "file_list = [\n",
    "    'portfolio_benchmark.xlsx',\n",
    "    'portfolio_info.xlsx',\n",
    "    'portfolio_constraint.xlsx',\n",
    "    'portfolio_products_weights.xlsx',\n",
    "]\n",
    "\n",
    "for file in file_list:\n",
    "    df = pd.read_excel(file_path + file)\n",
    "    if \"TICKER_SYMBOL\" in df.columns:\n",
    "        df[\"TICKER_SYMBOL\"] = (\n",
    "            df[\"TICKER_SYMBOL\"]\n",
    "            .astype(int)\n",
    "            .astype(str)\n",
    "            .str.rjust(6, \"0\")\n",
    "        )\n",
    "        df[\"TICKER_SYMBOL\"] = df[\"TICKER_SYMBOL\"].str.rjust(6, \"0\")\n",
    "        df.loc[df[\"TICKER_SYMBOL\"] == \"000000\", \"TICKER_SYMBOL\"] = None\n",
    "\n",
    "    if \"ALTERNATIVE_TICKER_SYMBOL\" in df.columns:\n",
    "        df.fillna({\"ALTERNATIVE_TICKER_SYMBOL\": 0}, inplace=True)\n",
    "        df[\"ALTERNATIVE_TICKER_SYMBOL\"] = (\n",
    "            df[\"ALTERNATIVE_TICKER_SYMBOL\"]\n",
    "            .astype(int)\n",
    "            .astype(str)\n",
    "            .str.rjust(6, \"0\")\n",
    "        )\n",
    "        df.loc[df[\"ALTERNATIVE_TICKER_SYMBOL\"] == \"000000\", \"ALTERNATIVE_TICKER_SYMBOL\"] = None\n",
    "    DB_CONN_JJTG_DATA.upsert(df, table=file.split('.')[0])"
   ]
  }
 ],
 "metadata": {
  "kernelspec": {
   "display_name": "my312",
   "language": "python",
   "name": "python3"
  },
  "language_info": {
   "codemirror_mode": {
    "name": "ipython",
    "version": 3
   },
   "file_extension": ".py",
   "mimetype": "text/x-python",
   "name": "python",
   "nbconvert_exporter": "python",
   "pygments_lexer": "ipython3",
   "version": "3.12.7"
  }
 },
 "nbformat": 4,
 "nbformat_minor": 2
}
