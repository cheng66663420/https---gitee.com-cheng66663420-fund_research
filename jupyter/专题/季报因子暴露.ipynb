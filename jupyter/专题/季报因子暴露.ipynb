{
    "cells": [
        {
            "cell_type": "code",
            "execution_count": 3,
            "metadata": {},
            "outputs": [],
            "source": [
                "import os\n",
                "import sys\n",
                "import datetime\n",
                "import math\n",
                "import pandas as pd\n",
                "import numpy as np\n",
                "import quant_utils.data_moudle as dm\n",
                "from quant_utils.db_conn import DB_CONN_JJTG_DATA\n",
                "from quant_utils.performance import Performance"
            ]
        },
        {
            "cell_type": "code",
            "execution_count": 4,
            "metadata": {},
            "outputs": [],
            "source": [
                "def get_barra_exposure(trade_dt):\n",
                "    query_sql = f\"\"\"\n",
                "    SELECT \n",
                "        * \n",
                "    FROM \n",
                "        dy1d_exposure_cne6_sw21 \n",
                "    WHERE \n",
                "        TRADE_DT = ( \n",
                "            SELECT max( TRADE_DT ) \n",
                "            FROM dy1d_exposure_cne6_sw21 \n",
                "            WHERE TRADE_DT <= '{trade_dt}' \n",
                "        )\n",
                "    \"\"\"\n",
                "    result = DB_CONN_JJTG_DATA.exec_query(query_sql)\n",
                "    result = (\n",
                "        result\n",
                "        .drop(columns=[\"ID\", \"UPDATE_TIME\", \"TRADE_DT\"])\n",
                "    )\n",
                "    return result.dropna(axis=1)\n",
                "\n",
                "def get_fund_holdings(report_date):\n",
                "    query_sql = f\"\"\"\n",
                "    SELECT\n",
                "        a.FUND_ID,\n",
                "        a.RATIO_IN_NA,\n",
                "        a.RATIO_IN_EQUITY,\n",
                "        a.HOLDING_TICKER_SYMBOL as TICKER_SYMBOL\n",
                "    FROM\n",
                "        fund_holdings a\n",
                "    WHERE\n",
                "        1 = 1 \n",
                "        AND a.REPORT_DATE = '{report_date}'\n",
                "    \"\"\"\n",
                "    return DB_CONN_JJTG_DATA.exec_query(query_sql)\n"
            ]
        },
        {
            "cell_type": "code",
            "execution_count": 5,
            "metadata": {},
            "outputs": [],
            "source": [
                "def get_fund_barra_exposure(report_date):\n",
                "    fund_holding_df = get_fund_holdings(report_date=report_date)\n",
                "    barra_exposure = get_barra_exposure(report_date)\n",
                "    temp_df = fund_holding_df.merge(barra_exposure)\n",
                "    print(temp_df)\n",
                "    def _cal_fund_barra_exposure(grouped_df):\n",
                "        temp_weight_df = grouped_df[[\"RATIO_IN_NA\", \"RATIO_IN_EQUITY\"]]\n",
                "        temp_barra_df = grouped_df[grouped_df.columns[list(grouped_df.columns).index(\"BETA\"):]]\n",
                "        return temp_weight_df.T.dot(temp_barra_df)\n",
                "    result = (\n",
                "        temp_df.groupby(by=\"FUND_ID\")\n",
                "        .apply(_cal_fund_barra_exposure)\n",
                "        .reset_index()\n",
                "        .rename(columns={\"level_1\": \"RATIO_TYPE\"})\n",
                "    )\n",
                "    result[\"REPORT_DATE\"] = report_date\n",
                "    return result\n"
            ]
        },
        {
            "cell_type": "code",
            "execution_count": 6,
            "metadata": {},
            "outputs": [],
            "source": [
                "report_date = '20231231'\n",
                "fund_holding_df = get_fund_holdings(report_date=report_date)\n",
                "barra_exposure = get_barra_exposure(report_date)\n",
                "temp_df = fund_holding_df.merge(barra_exposure)"
            ]
        },
        {
            "cell_type": "code",
            "execution_count": 7,
            "metadata": {},
            "outputs": [
                {
                    "name": "stdout",
                    "output_type": "stream",
                    "text": [
                        "写入192.20.57.208:chentiancheng-fund_derivatives_holding_barra_exposure受影响行数为13926行!\n"
                    ]
                }
            ],
            "source": [
                "def _cal_fund_barra_exposure(grouped_df):\n",
                "    temp_weight_df = grouped_df[[\"RATIO_IN_NA\", \"RATIO_IN_EQUITY\"]]\n",
                "    temp_barra_df = grouped_df[grouped_df.columns[list(grouped_df.columns).index(\"BETA\"):]]\n",
                "    return temp_weight_df.T.dot(temp_barra_df)\n",
                "result = (\n",
                "    temp_df.groupby(by=\"FUND_ID\")\n",
                "    .apply(_cal_fund_barra_exposure)\n",
                "    .reset_index()\n",
                "    .rename(columns={\"level_1\": \"RATIO_TYPE\"})\n",
                ")\n",
                "result[\"REPORT_DATE\"] = report_date\n",
                "DB_CONN_JJTG_DATA.upsert(result, \"fund_derivatives_holding_barra_exposure\")"
            ]
        },
        {
            "cell_type": "code",
            "execution_count": 15,
            "metadata": {},
            "outputs": [
                {
                    "name": "stdout",
                    "output_type": "stream",
                    "text": [
                        "写入192.20.57.208:chentiancheng--fund_derivatives_holding_barra_exposure-受影响行数为0行!\n"
                    ]
                }
            ],
            "source": []
        },
        {
            "cell_type": "code",
            "execution_count": null,
            "metadata": {},
            "outputs": [
                {
                    "data": {
                        "text/plain": [
                            "Index(['TICKER_SYMBOL', 'BETA', 'MOMENTUM', 'SIZE', 'EARNYILD', 'RESVOL',\n",
                            "       'GROWTH', 'BTOP', 'LEVERAGE', 'LIQUIDTY', 'MIDCAP', 'DIVYILD',\n",
                            "       'EARNQLTY', 'EARNVAR', 'INVSQLTY', 'LTREVRSL', 'PROFIT', 'ANALSENTI',\n",
                            "       'INDMOM', 'SEASON', 'STREVRSL', 'Bank', 'RealEstate', 'Health',\n",
                            "       'Transportation', 'Mining', 'NonFerMetal', 'HouseApp', 'LeiService',\n",
                            "       'MachiEquip', 'BuildDeco', 'CommeTrade', 'CONMAT', 'Auto', 'Textile',\n",
                            "       'FoodBever', 'Electronics', 'Computer', 'LightIndus', 'Utilities',\n",
                            "       'Telecom', 'AgriForest', 'CHEM', 'Media', 'IronSteel', 'NonBankFinan',\n",
                            "       'ELECEQP', 'AERODEF', 'Conglomerates', 'COUNTRY'],\n",
                            "      dtype='object')"
                        ]
                    },
                    "execution_count": 244,
                    "metadata": {},
                    "output_type": "execute_result"
                }
            ],
            "source": [
                "get_barra_exposure(\"20081231\").columns"
            ]
        },
        {
            "cell_type": "code",
            "execution_count": null,
            "metadata": {},
            "outputs": [],
            "source": [
                "import numpy as np\n",
                "from sklearn.metrics.pairwise import cosine_similarity, paired_distances\n",
                "query_sql = \"\"\"\n",
                "SELECT\n",
                "\tb.TICKER_SYMBOL,\n",
                "\tb.SEC_SHORT_NAME,\n",
                "\tc.LEVEL_1,\n",
                "\tc.LEVEL_2,\n",
                "\tc.LEVEL_3,\n",
                "\ta.* \n",
                "FROM\n",
                "\tfund_derivatives_holding_barra_exposure a\n",
                "\tJOIN fund_info b ON a.FUND_ID = b.FUND_ID\n",
                "\tJOIN fund_type_own c ON c.REPORT_DATE = a.REPORT_DATE \n",
                "\tAND c.TICKER_SYMBOL = b.TICKER_SYMBOL \n",
                "WHERE\n",
                "\t1 = 1 \n",
                "\tAND a.REPORT_DATE = '20221231' \n",
                "\tAND b.IS_MAIN = 1 \n",
                "\tAND level_1 = \"固收+\" \n",
                "\tAND a.RATIO_TYPE = 'RATIO_IN_NA'\n",
                "\tand b.IS_ILLIQUID = 0\n",
                "\"\"\"\n",
                "df = DB_CONN_JJTG_DATA.exec_query(query_sql).dropna(axis=1)\n",
                "temp = df[df.columns[list(df.columns).index(\"BETA\"): list(df.columns).index(\"COUNTRY\")+1]]"
            ]
        },
        {
            "cell_type": "code",
            "execution_count": null,
            "metadata": {},
            "outputs": [],
            "source": [
                "result = pd.DataFrame(cosine_similarity(temp.values, temp.values))\n",
                "result.index = df[\"SEC_SHORT_NAME\"].tolist()\n",
                "result.columns = df[\"SEC_SHORT_NAME\"].tolist()"
            ]
        },
        {
            "cell_type": "code",
            "execution_count": null,
            "metadata": {},
            "outputs": [],
            "source": [
                "df1 = result.unstack().reset_index()\n",
                "df1 = df1[df1[0] < 0.9999 ]\n",
                "df1[\"持仓风格相似度_rank\"] = df1.groupby(by=[\"level_0\"])[0].rank(ascending=False, pct=True)\n",
                "df1 = df1.rename(columns={\"level_0\": \"主基金\", \"level_1\": \"备选基金\", 0: \"持仓风格相似度\"})"
            ]
        },
        {
            "cell_type": "code",
            "execution_count": null,
            "metadata": {},
            "outputs": [],
            "source": [
                "query_sql = \"\"\"\n",
                "SELECT\n",
                "a.END_DATE,\n",
                "\ta.TICKER_SYMBOL,\n",
                "\ta.LEVEL_1,\n",
                "\ta.LEVEL_2,\n",
                "\ta.LEVEL_3,\n",
                "\ta.LOG_ALPHA_LEVEL_1,\n",
                "\ta.LOG_ALPHA_LEVEL_2,\n",
                "\ta.LOG_ALPHA_LEVEL_3 \n",
                "FROM\n",
                "\tfund_derivatives_fund_log_alpha a\n",
                "\n",
                "WHERE\n",
                "\t1 = 1 \n",
                "\tAND ( a.END_DATE BETWEEN '2022-08-15' AND '2023-08-15' ) \n",
                "\tAND a.LEVEL_1 = \"固收+\"\n",
                "\"\"\"\n",
                "df = DB_CONN_JJTG_DATA.exec_query(query_sql)\n",
                "query_sql = \"\"\"\n",
                "\tSELECT\n",
                "\t\tTICKER_SYMBOL,\n",
                "\t\tSEC_SHORT_NAME\n",
                "\tFROM\n",
                "\t\tfund_info b \n",
                "\tWHERE\n",
                "\t\t1 = 1 \n",
                "\t\tAND b.IS_MAIN = 1 \n",
                "\t\tAND b.IS_ILLIQUID = 0 \n",
                "\t\tAND b.ESTABLISH_DATE <= '2022-02-15' AND IFNULL( b.EXPIRE_DATE, '20991231' ) >= '2023-08-15' \n",
                "\"\"\"\n",
                "fund_info = DB_CONN_JJTG_DATA.exec_query(query_sql)"
            ]
        },
        {
            "cell_type": "code",
            "execution_count": null,
            "metadata": {},
            "outputs": [],
            "source": [
                "df = df.merge(fund_info)"
            ]
        },
        {
            "cell_type": "code",
            "execution_count": null,
            "metadata": {},
            "outputs": [],
            "source": [
                "df = df.pivot_table(index=\"END_DATE\", columns=\"SEC_SHORT_NAME\",values=\"LOG_ALPHA_LEVEL_2\")\n",
                "corr_df = df.corr()\n",
                "df2 = corr_df.unstack()\n",
                "df2.index.names = [\"主基金\", \"备选基金\"] \n",
                "df2 = df2.reset_index().rename(columns={0:\"超额收益相似度\"})\n"
            ]
        },
        {
            "cell_type": "code",
            "execution_count": null,
            "metadata": {},
            "outputs": [],
            "source": [
                "df2 = df2[df2[\"超额收益相似度\"] !=1 ]\n",
                "df2[\"超额收益相似度_rank\"] = df2.groupby(by=[\"主基金\"])[\"超额收益相似度\"].rank(ascending=False, pct=True)"
            ]
        },
        {
            "cell_type": "code",
            "execution_count": null,
            "metadata": {},
            "outputs": [],
            "source": [
                "df2[\"超额收益相似度_rank\"] = df2.groupby(by=[\"主基金\"])[\"超额收益相似度\"].rank(ascending=False, pct=True)"
            ]
        },
        {
            "cell_type": "code",
            "execution_count": null,
            "metadata": {},
            "outputs": [],
            "source": [
                "result = df1.merge(df2, how=\"inner\")\n",
                "result[\"总相似度\"] = (1-result[\"持仓风格相似度_rank\"])*0.3 + (1-result[\"超额收益相似度_rank\"])*0.7"
            ]
        },
        {
            "cell_type": "code",
            "execution_count": null,
            "metadata": {},
            "outputs": [],
            "source": [
                "result[\"rank\"] = result.groupby(by=\"主基金\")[\"总相似度\"].rank(ascending=False)"
            ]
        },
        {
            "cell_type": "code",
            "execution_count": null,
            "metadata": {},
            "outputs": [],
            "source": [
                "result = result[(result[\"rank\"]<=10)| (result[\"rank\"]>=(len(result[\"主基金\"].unique())-10))]"
            ]
        },
        {
            "cell_type": "code",
            "execution_count": null,
            "metadata": {},
            "outputs": [],
            "source": [
                "result.to_excel(\"d:/超额收益相似性-固收+.xlsx\")"
            ]
        },
        {
            "cell_type": "code",
            "execution_count": null,
            "metadata": {},
            "outputs": [],
            "source": [
                "file_path = \"d:/产品对比.xlsx\"\n",
                "df = pd.read_excel(file_path).set_index(\"END_DATE\")"
            ]
        },
        {
            "cell_type": "code",
            "execution_count": null,
            "metadata": {},
            "outputs": [],
            "source": [
                "df.corr().to_excel(\"d:/相关性.xlsx\")"
            ]
        },
        {
            "cell_type": "code",
            "execution_count": null,
            "metadata": {},
            "outputs": [],
            "source": [
                "(df/100+1).cumprod().to_excel(\"d:/净值.xlsx\")"
            ]
        }
    ],
    "metadata": {
        "kernelspec": {
            "display_name": "my310",
            "language": "python",
            "name": "python3"
        },
        "language_info": {
            "codemirror_mode": {
                "name": "ipython",
                "version": 3
            },
            "file_extension": ".py",
            "mimetype": "text/x-python",
            "name": "python",
            "nbconvert_exporter": "python",
            "pygments_lexer": "ipython3",
            "version": "3.11.8"
        },
        "orig_nbformat": 4
    },
    "nbformat": 4,
    "nbformat_minor": 2
}
