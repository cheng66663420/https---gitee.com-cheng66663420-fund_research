{
 "cells": [
  {
   "cell_type": "code",
   "execution_count": 1,
   "metadata": {},
   "outputs": [],
   "source": [
    "lines_list = []\n",
    "with open('E:/ctc/mysql.sql',  \"r\")  as  fileHandler:\n",
    "    while line := fileHandler.readline():\n",
    "        lines_list.append(line.strip())\n",
    "\n",
    "required_txt = \"`ID` bigint(20)\"\n",
    "id_not_auto_increment = []\n",
    "id_auto_increment = []\n",
    "for idx, line in enumerate(lines_list):\n",
    "    if required_txt in line:\n",
    "        if \"AUTO_INCREMENT\" in line:\n",
    "            id_auto_increment.append(lines_list[idx-1].split(\"`\")[1])\n",
    "        else:\n",
    "            id_not_auto_increment.append(lines_list[idx-1].split(\"`\")[1])\n",
    "\n",
    "postsql_list = []\n",
    "with open('E:/ctc/pg_sql.sql',  \"r\")  as  fileHandler:\n",
    "    while line := fileHandler.readline():\n",
    "        postsql_list.append(line.strip())\n",
    "new_list = []\n",
    "change_flag = 0\n",
    "for post_line in postsql_list:\n",
    "    \n",
    "    if \"CREATE TABLE\" in post_line:\n",
    "        table = post_line.split('\"')[-2]\n",
    "        change_flag = 1 if table in id_auto_increment else 0\n",
    "        # post_line = post_line.replace('\"', '')\n",
    "        new_list.append(\n",
    "            post_line.replace(\"CREATE TABLE\", \"CREATE TABLE IF NOT EXISTS\")\n",
    "        )\n",
    "        continue\n",
    "\n",
    "    if change_flag == 1:\n",
    "        post_line = post_line.replace(\"numeric(20)\", \"bigserial\")\n",
    "        change_flag = 0\n",
    "\n",
    "    if \"float8\" in post_line:\n",
    "        post_line = post_line.replace(\"float8\", \"numeric(20, 6)\")\n",
    "    if \"CREATE UNIQUE INDEX\" in post_line:\n",
    "        index_name = post_line.split('\"')[1]\n",
    "        table = post_line.split('\"')[-2]\n",
    "        post_line = post_line.replace(index_name, f\"{table}_{index_name}\", 1)\n",
    "    if \"CREATE INDEX\" in post_line:\n",
    "        index_name = post_line.split('\"')[1]\n",
    "        table = post_line.split('\"')[-2]\n",
    "        post_line = post_line.replace(index_name, f\"{table}_{index_name}\", 1)\n",
    "    if \"timestamp\" in post_line:\n",
    "        post_line = post_line.replace(\"timestamp\", \"timestamp default now()\")\n",
    "\n",
    "    if 'PRIMARY KEY (\"id\")' in post_line:\n",
    "        table = post_line.split(' ')[2]\n",
    "        index_name = table.split('\"')[-2] + \"_id\"\n",
    "        post_line = f'CREATE INDEX \"{index_name}\" on {table} using btree (id);'\n",
    "    # post_line = post_line.replace('\"', '')\n",
    "    new_list.append(post_line)\n",
    "\n",
    "with open('E:/ctc/new.txt',  \"w\") as fileHandler:\n",
    "    fileHandler.write('\\n'.join(new_list))"
   ]
  },
  {
   "cell_type": "code",
   "execution_count": 10,
   "metadata": {},
   "outputs": [],
   "source": [
    "from quant_utils.db_conn import DB_CONN_PG_LOCAL, DB_CONN_JJTG_DATA"
   ]
  },
  {
   "cell_type": "code",
   "execution_count": 11,
   "metadata": {},
   "outputs": [
    {
     "name": "stdout",
     "output_type": "stream",
     "text": [
      "\n",
      "exec_query耗时:0.0130 s\n",
      "========================================\n"
     ]
    }
   ],
   "source": [
    "table_query = \"\"\"\n",
    "SELECT\n",
    "  a.table_schema,\n",
    "  a.table_name,\n",
    "  round(sum(DATA_LENGTH / 1024 / 1024/1024) + sum(INDEX_LENGTH / 1024 / 1024/1024), 2) total_size,\n",
    "  round(sum(DATA_LENGTH / 1024 / 1024/1024), 2) AS data_size,\n",
    "  round(sum(INDEX_LENGTH / 1024 / 1024/1024), 2) AS index_size \n",
    "FROM\n",
    "  information_schema.TABLES a \n",
    "WHERE\n",
    "  a.table_schema = 'chentiancheng' \n",
    "  and a.table_type = 'BASE TABLE'\n",
    "GROUP BY\n",
    "  a.table_schema,\n",
    "  a.table_name \n",
    "ORDER BY\n",
    "  data_size ASC\n",
    "\"\"\"\n",
    "df = DB_CONN_JJTG_DATA.exec_query(table_query)"
   ]
  },
  {
   "cell_type": "code",
   "execution_count": 12,
   "metadata": {},
   "outputs": [],
   "source": [
    "df = df.query('data_size < 2')"
   ]
  },
  {
   "cell_type": "code",
   "execution_count": 13,
   "metadata": {},
   "outputs": [],
   "source": [
    "error_dict = {}\n",
    "for index, row in df.iterrows():\n",
    "    table = row['TABLE_NAME']\n",
    "    # unique_indexs = DB_CONN_JJTG_DATA.get_db_table_unque_index(table)\n",
    "    # if not unique_indexs:\n",
    "    #     print (table)\n",
    "    query = f\"select * from {table}\"\n",
    "    result = DB_CONN_JJTG_DATA.exec_query(query)\n",
    "    try:\n",
    "        DB_CONN_PG_LOCAL.upsert(result, row['TABLE_NAME'])\n",
    "        print(\"==\"*35)\n",
    "    except Exception as e:\n",
    "        error_dict[row['TABLE_NAME']] = e"
   ]
  }
 ],
 "metadata": {
  "kernelspec": {
   "display_name": "my312",
   "language": "python",
   "name": "python3"
  },
  "language_info": {
   "codemirror_mode": {
    "name": "ipython",
    "version": 3
   },
   "file_extension": ".py",
   "mimetype": "text/x-python",
   "name": "python",
   "nbconvert_exporter": "python",
   "pygments_lexer": "ipython3",
   "version": "3.12.7"
  }
 },
 "nbformat": 4,
 "nbformat_minor": 2
}
