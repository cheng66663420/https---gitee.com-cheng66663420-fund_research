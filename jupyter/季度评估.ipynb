{
 "cells": [
  {
   "cell_type": "code",
   "execution_count": 1,
   "metadata": {},
   "outputs": [],
   "source": [
    "import os\n",
    "import sys\n",
    "import datetime\n",
    "import math\n",
    "import pandas as pd\n",
    "import numpy as np\n",
    "import quant_utils.data_moudle as dm\n",
    "from quant_utils.constant import DB_CONN_JJTG_DATA, DB_CONN_JY, DB_CONN_JY_LOCAL\n",
    "from fund_db.fund_evaluation_report import generate_fund_report\n",
    "from quant_utils.df2wordtable import DF2WordTable\n",
    "\n",
    "import warnings\n",
    "warnings.simplefilter(action='ignore', category=FutureWarning)\n",
    "from joblib import Parallel, delayed"
   ]
  },
  {
   "cell_type": "code",
   "execution_count": 2,
   "metadata": {},
   "outputs": [],
   "source": [
    "query_sql = \"\"\"\n",
    "    WITH a AS (\n",
    "\tSELECT\n",
    "\t\ta.TICKER_SYMBOL,\n",
    "\t\ta.TRANCHE,\n",
    "\t\tb.CATEGORY_NAME,\n",
    "\t    CASE\n",
    "\t\t\tWHEN b.CATEGORY_NAME != '货币型' AND c.IF_IN_TRANCHE = 1 \n",
    "            THEN b.ticker_symbol_m \n",
    "            ELSE a.TICKER_SYMBOL END AS '代码' \n",
    "\t\tFROM\n",
    "\t\t\tportfolio_basic_products a\n",
    "\t\t\tJOIN fund_info b ON a.TICKER_SYMBOL = b.TICKER_SYMBOL\n",
    "\t\t\tLEFT JOIN portfolio_basic_products c ON b.ticker_symbol_m = c.TICKER_SYMBOL \n",
    "\t\tWHERE\n",
    "\t\t\t1 = 1 \n",
    "\t\t\tAND a.IF_IN_TRANCHE = 1 \n",
    "\t\t\tAND b.EXPIRE_DATE IS NULL \n",
    "\t\t),\n",
    "\t\tb AS ( SELECT DISTINCT `代码`, tranche AS `备选池` FROM a ) SELECT\n",
    "\t\tb.*,\n",
    "\t\t0 AS '是否新入池',\n",
    "\t    CASE\n",
    "\t\t\tWHEN d.LEVEL_SUM IN ( '指数', \"商品\" ) THEN\n",
    "\t\t\t'指数和商品' \n",
    "\t\t\tWHEN c.LEVEL_2 = '指数增强' THEN\n",
    "\t\t\t'指数和商品' ELSE d.LEVEL_SUM \n",
    "\t\tEND AS '类别' \n",
    "\tFROM\n",
    "\t\tb\n",
    "\t\tJOIN fund_type_own c ON b.`代码` = c.ticker_symbol\n",
    "\t\tJOIN fund_type_sum d ON d.LEVEL_1 = c.LEVEL_1 \n",
    "\t\tAND d.LEVEL_2 = c.LEVEL_2 \n",
    "\tWHERE\n",
    "\t\t1 = 1 \n",
    "\t\tAND c.report_date = (\n",
    "\t\tSELECT\n",
    "\t\t\tmax( report_date ) \n",
    "\t\tFROM\n",
    "\t\t\tfund_type_own \n",
    "\t\tWHERE\n",
    "\t\t    report_date < '20240425' \n",
    "\t)\n",
    "\"\"\"\n",
    "df = DB_CONN_JJTG_DATA.exec_query(query_sql)"
   ]
  },
  {
   "cell_type": "code",
   "execution_count": 2,
   "metadata": {},
   "outputs": [],
   "source": [
    "query_sql = \"\"\"\n",
    "SELECT\n",
    "\ta.TICKER_SYMBOL AS '代码',\n",
    "\t'优选池' AS '备选池',\n",
    "\t'指数' AS '类别',\n",
    "\t0 AS '是否新入池',\n",
    "\t'20240619' AS '报告日期' \n",
    "FROM\n",
    "\tfund_type_own a\n",
    "\tJOIN fund_info b ON a.TICKER_SYMBOL = b.TICKER_SYMBOL \n",
    "WHERE\n",
    "\t`LEVEL_1` = '权益指数' \n",
    "\tAND `REPORT_DATE` = '20240331' \n",
    "\tAND b.IS_MAIN = 1\n",
    "\"\"\"\n",
    "df = DB_CONN_JJTG_DATA.exec_query(query_sql)\n"
   ]
  },
  {
   "cell_type": "code",
   "execution_count": 3,
   "metadata": {},
   "outputs": [],
   "source": [
    "error_list = []\n",
    "result_list = []\n",
    "counter = 0\n",
    "\n",
    "a = Parallel(n_jobs=-1)(\n",
    "    delayed(generate_fund_report)(\n",
    "        ticker_symbol=val['代码'].values[0], \n",
    "        tranche=val['备选池'].values[0], \n",
    "        if_new=val['是否新入池'].values[0], \n",
    "        end_date= val[\"报告日期\"].values[0],\n",
    "        include_out_tranche=1\n",
    "    )\n",
    "    for _, val in df.groupby(by=['代码'])\n",
    ")\n",
    "a = pd.concat(a)\n",
    "a.to_excel(\"e:/持续评估/基金结果20240619.xlsx\")"
   ]
  }
 ],
 "metadata": {
  "kernelspec": {
   "display_name": "my311",
   "language": "python",
   "name": "python3"
  },
  "language_info": {
   "codemirror_mode": {
    "name": "ipython",
    "version": 3
   },
   "file_extension": ".py",
   "mimetype": "text/x-python",
   "name": "python",
   "nbconvert_exporter": "python",
   "pygments_lexer": "ipython3",
   "version": "3.11.8"
  }
 },
 "nbformat": 4,
 "nbformat_minor": 2
}
