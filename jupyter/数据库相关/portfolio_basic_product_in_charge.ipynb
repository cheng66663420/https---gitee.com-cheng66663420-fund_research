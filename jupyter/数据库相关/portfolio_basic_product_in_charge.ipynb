{
 "cells": [
  {
   "cell_type": "code",
   "execution_count": null,
   "metadata": {},
   "outputs": [],
   "source": [
    "import pandas as pd\n",
    "df = pd.read_excel(\n",
    "    \"C:/Users/Wilcoxon/Desktop/配置excel/portfolio_basic_products_in_charge.xlsx\",\n",
    "    sheet_name=\"Sheet1\"\n",
    ")\n",
    "df[\"产品代码\"] = df[\"产品代码\"].str.split(\"/\")\n",
    "df = df.explode(\"产品代码\")\n",
    "df[\"END_DATE\"] = '20231116'\n",
    "df = df.rename(\n",
    "    columns={\n",
    "        \"产品代码\": \"TICKER_SYMBOL\", \n",
    "        \"备选池\": \"TRANCHE\",\n",
    "        \"负责人\t\": \"PERSON_IN_CHARGE\"\n",
    "    }\n",
    ")\n",
    "df"
   ]
  }
 ],
 "metadata": {
  "language_info": {
   "name": "python"
  }
 },
 "nbformat": 4,
 "nbformat_minor": 2
}
