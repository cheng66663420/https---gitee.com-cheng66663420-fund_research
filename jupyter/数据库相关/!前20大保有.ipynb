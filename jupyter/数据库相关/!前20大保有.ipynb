{
 "cells": [
  {
   "cell_type": "code",
   "execution_count": 1,
   "metadata": {},
   "outputs": [],
   "source": [
    "import sys\n",
    "import pandas as pd\n",
    "import numpy as np\n",
    "import quant_utils.data_moudle as dm\n",
    "from quant_utils.constant import (\n",
    "    DB_CONN_JJTG_DATA,\n",
    ")\n",
    "from datetime import datetime\n",
    "from dateutil.relativedelta import relativedelta\n",
    "# import matplotlib.pyplot as plt\n",
    "\n",
    "sql='''\n",
    "SELECT MONTH,TICKER_SYMBOL,RETAIN_VALUE_MONTN_AVG\n",
    "FROM xyzq_retain_fund\n",
    "WHERE month=202209\n",
    "and TICKER_SYMBOL in \n",
    "('163409','163417','163418','010147','163406','012557','007119','011338','007802','011932','163402','010027','008969','009007')\n",
    "order by TICKER_SYMBOL\n",
    "'''\n",
    "data=    DB_CONN_JJTG_DATA.exec_query(sql)\n",
    "data = data.set_index(\"TICKER_SYMBOL\")\n",
    "data['weight']=data['RETAIN_VALUE_MONTN_AVG']/data['RETAIN_VALUE_MONTN_AVG'].sum()\n",
    "\n",
    "sql=f'''\n",
    "select ticker_symbol,END_DATE,RETURN_RATE_TO_PREV_DT\n",
    "from fund_adj_nav\n",
    "where TICKER_SYMBOL in\n",
    "('163409','163417','163418','010147','163406','012557','007119','011338','007802','011932','163402','010027','008969','009007')\n",
    "and END_DATE>=20220124\n",
    "'''\n",
    "value=    DB_CONN_JJTG_DATA.exec_query(sql)\n",
    "\n",
    "value=value.pivot(index='END_DATE',columns='ticker_symbol',values='RETURN_RATE_TO_PREV_DT')\n",
    "# value_change_pct=value/value.shift(1)\n",
    "# value_change_pct=value_change_pct.fillna(1)\n",
    "weight_net_value=(value.dot(data['weight'])/100 + 1).cumprod()\n",
    "weight_net_value=pd.DataFrame(data=weight_net_value,index=value.index)\n",
    "query_sql = \"\"\"\n",
    "SELECT\n",
    "\tTRADE_DT AS END_DATE,\n",
    "\tPORTFOLIO_NAV \n",
    "FROM\n",
    "\tportfolio_nav \n",
    "WHERE\n",
    "\tTRADE_DT >= '20220124'\n",
    "    and portfolio_name = '知己优选-进取全明星'\n",
    "\"\"\"\n",
    "portfolio_nav = DB_CONN_JJTG_DATA.exec_query(query_sql).set_index(\"END_DATE\")\n",
    "portfolio_nav = portfolio_nav/portfolio_nav.iloc[0,0]\n",
    "weight_net_value = weight_net_value.merge(portfolio_nav, left_index=True, right_index=True)\n",
    "weight_net_value.to_excel('D:/前20.xlsx')"
   ]
  }
 ],
 "metadata": {
  "kernelspec": {
   "display_name": "my310",
   "language": "python",
   "name": "python3"
  },
  "language_info": {
   "codemirror_mode": {
    "name": "ipython",
    "version": 3
   },
   "file_extension": ".py",
   "mimetype": "text/x-python",
   "name": "python",
   "nbconvert_exporter": "python",
   "pygments_lexer": "ipython3",
   "version": "3.11.8"
  },
  "orig_nbformat": 4
 },
 "nbformat": 4,
 "nbformat_minor": 2
}
