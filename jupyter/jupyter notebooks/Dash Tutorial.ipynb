{
 "cells": [
  {
   "cell_type": "markdown",
   "id": "d11e10ba",
   "metadata": {},
   "source": [
    "<div class=\"alert alert-block alert-info text-center\">\n",
    "    <H1> DASH BASICS </H1>\n",
    "</div>\n",
    "\n",
    "*file: DashTutorial.ipynb*\n",
    "\n",
    "## KEY TAKEAWAYS\n",
    "\n",
    "- Dash allows you to create a web app and explore it right here on the browser!\n",
    "\n",
    "\n",
    "- We will use Jupyter Notebook so we need to use JupyterDash (if using a regular IDE use Dash instead)\n",
    "\n",
    "\n",
    "- The three key building blocks of a Dash app are the **Components**, the **Layout**, and the **Callbacks**\n",
    "\n",
    "\n",
    "- In the first part we will focus on organizing the app page in columns and rows, making sure we get the right size for our components\n",
    "\n",
    "\n",
    "- Bootstrap is a great help to get you started. We will use some of its components to build our examples\n",
    "\n",
    "\n",
    "- In the next part we will style our apps further with some Bootstrap tricks, and explore the sidebar and the multipage options"
   ]
  },
  {
   "cell_type": "code",
   "execution_count": null,
   "id": "e78f9880",
   "metadata": {},
   "outputs": [],
   "source": [
    "import pandas as pd\n",
    "from dash import Dash\n",
    "from dash import dcc  # dash version 2.0.0\n",
    "from dash import html  # dash version 2.0.0\n",
    "import dash_bootstrap_components as dbc  # version 1.0.2\n",
    "# https://dash-bootstrap-components.opensource.faculty.ai/docs/components/\n",
    "from jupyter_dash import JupyterDash  # version 0.4.0\n",
    "import plotly.express as px"
   ]
  },
  {
   "cell_type": "code",
   "execution_count": null,
   "id": "63af2819",
   "metadata": {},
   "outputs": [],
   "source": [
    "dbc.themes.BOOTSTRAP"
   ]
  },
  {
   "cell_type": "code",
   "execution_count": null,
   "id": "675b5c85",
   "metadata": {},
   "outputs": [],
   "source": [
    "app = Dash(__name__, external_stylesheets=[dbc.themes.BOOTSTRAP])"
   ]
  },
  {
   "cell_type": "code",
   "execution_count": null,
   "id": "2242d432",
   "metadata": {},
   "outputs": [],
   "source": [
    "firstpage = [\n",
    "    dbc.Row([\n",
    "        dbc.Col(\n",
    "            html.H1('1 column inside 1 row', className='text-center mb-3 p-3')\n",
    "        )\n",
    "    ]),\n",
    "    dbc.Row([\n",
    "        dbc.Col([\n",
    "            html.H3('h3 header', className='text-start'),\n",
    "            html.Div(children=\"First Div text right\", className='text-end'),\n",
    "            html.Hr(),\n",
    "            html.H6('h6 header', className='text-center'),\n",
    "            html.Div(children=\"Second Div text right\", className='text-end'),\n",
    "            html.Hr(),\n",
    "            html.H3('h3 header', className='text-start'),\n",
    "            html.Div(children=\"First Div text right\", className='text-end'),\n",
    "            html.Hr(),\n",
    "            html.H6('h6 header', className='text-center'),\n",
    "            html.Div(children=\"Second Div text right\", className='text-end'),\n",
    "            html.Hr(),\n",
    "        ],\n",
    "            width={'size': 3, 'offset': 0, 'order': 0}),\n",
    "        dbc.Col([\n",
    "            html.H3('2nd col h3 header', className='text-start'),\n",
    "            html.Div(children=\"2nd col First Div text right\", className='text-end'),\n",
    "            html.Hr(),\n",
    "            html.H6('2nd col h6 header', className='text-center'),\n",
    "            html.Div(children=\"2nd col Second Div text right\", className='text-end'),\n",
    "            html.Hr(),\n",
    "            html.H3('2nd col h3 header', className='text-start'),\n",
    "            html.Div(children=\"2nd col First Div text right\", className='text-end'),\n",
    "            html.Hr(),\n",
    "            html.H6('2nd col h6 header', className='text-center'),\n",
    "            html.Div(children=\"2nd col Second Div text right\", className='text-end'),\n",
    "            html.Hr(),\n",
    "        ],\n",
    "            width={'size': 3, 'offset': 3, 'order': 0}),\n",
    "    ]),\n",
    "]"
   ]
  },
  {
   "cell_type": "code",
   "execution_count": null,
   "id": "2a65d14f",
   "metadata": {},
   "outputs": [],
   "source": [
    "app.layout = html.Div(id='page-content', children=firstpage)"
   ]
  },
  {
   "cell_type": "code",
   "execution_count": null,
   "id": "dfa2a29e",
   "metadata": {},
   "outputs": [],
   "source": [
    "if __name__ == \"__main__\":\n",
    "    app.run_server(debug=True, port=8058)"
   ]
  },
  {
   "cell_type": "code",
   "execution_count": null,
   "id": "403b9acb",
   "metadata": {
    "scrolled": true
   },
   "outputs": [],
   "source": [
    "app"
   ]
  },
  {
   "cell_type": "code",
   "execution_count": null,
   "id": "a6091f0b",
   "metadata": {},
   "outputs": [],
   "source": []
  },
  {
   "cell_type": "markdown",
   "id": "e8ffc1f9",
   "metadata": {},
   "source": [
    "### Github adaptation\n",
    "- https://dash.plotly.com/layout"
   ]
  },
  {
   "cell_type": "code",
   "execution_count": null,
   "id": "2d3d1032",
   "metadata": {},
   "outputs": [],
   "source": [
    "app = JupyterDash(__name__, external_stylesheets=[dbc.themes.BOOTSTRAP])\n",
    "\n",
    "df = pd.read_csv('https://gist.githubusercontent.com/chriddyp/5d1ea79569ed194d432e56108a04d188/raw/a9f9e8076b837d541398e999dcbac2b2826a81f8/gdp-life-exp-2007.csv')\n",
    "\n",
    "fig = px.scatter(df, x=\"gdp per capita\", y=\"life expectancy\",\n",
    "                 size=\"population\", color=\"continent\", hover_name=\"country\",\n",
    "                 log_x=True, size_max=60)\n",
    "\n",
    "app.layout = html.Div([\n",
    "    dcc.Graph(\n",
    "        id='life-exp-vs-gdp',\n",
    "        figure=fig\n",
    "    )\n",
    "])\n",
    "\n",
    "if __name__ == '__main__':\n",
    "    app.run_server(debug=True)"
   ]
  },
  {
   "cell_type": "code",
   "execution_count": null,
   "id": "a1f7feed",
   "metadata": {},
   "outputs": [],
   "source": [
    "app._terminate_server_for_port(\"localhost\",8050)"
   ]
  },
  {
   "cell_type": "code",
   "execution_count": null,
   "id": "5c50e58c",
   "metadata": {},
   "outputs": [],
   "source": []
  },
  {
   "cell_type": "code",
   "execution_count": null,
   "id": "94253546",
   "metadata": {},
   "outputs": [],
   "source": []
  },
  {
   "cell_type": "code",
   "execution_count": null,
   "id": "f9d207ef",
   "metadata": {},
   "outputs": [],
   "source": []
  },
  {
   "cell_type": "code",
   "execution_count": null,
   "id": "535d37b2",
   "metadata": {},
   "outputs": [],
   "source": []
  },
  {
   "cell_type": "code",
   "execution_count": null,
   "id": "d4b15b15",
   "metadata": {},
   "outputs": [],
   "source": []
  },
  {
   "cell_type": "markdown",
   "id": "48c37025",
   "metadata": {},
   "source": [
    "### Callbacks\n",
    "\n",
    "- Callbacks are what makes any dashboard stand out\n",
    "- You must use callbacks if you want to add interactivity to your dashboards\n",
    "- In the example below we will add a dropdown to select the Year for our scatter plot"
   ]
  },
  {
   "cell_type": "code",
   "execution_count": null,
   "id": "1e97c293",
   "metadata": {},
   "outputs": [],
   "source": [
    "df = pd.read_csv('https://raw.githubusercontent.com/plotly/datasets/master/gapminderDataFiveYear.csv')"
   ]
  },
  {
   "cell_type": "code",
   "execution_count": null,
   "id": "6dd234cd",
   "metadata": {},
   "outputs": [],
   "source": [
    "df"
   ]
  },
  {
   "cell_type": "code",
   "execution_count": null,
   "id": "969e61ec",
   "metadata": {},
   "outputs": [],
   "source": [
    "filtered_df = df[df.year == 2007]\n",
    "\n",
    "scatter_fig = px.scatter(filtered_df, x=\"gdpPercap\", y=\"lifeExp\",\n",
    "                 size=\"pop\", color=\"continent\", hover_name=\"country\",\n",
    "                 log_x=True, size_max=55)\n",
    "\n",
    "scatter_fig.show()"
   ]
  },
  {
   "cell_type": "code",
   "execution_count": null,
   "id": "8d558b69",
   "metadata": {},
   "outputs": [],
   "source": [
    "example_v1 = [\n",
    "    dbc.Row([\n",
    "        dbc.Col(\n",
    "            html.H1('Callback page', className='text-center mb-3 p-3')\n",
    "        )\n",
    "    ]),\n",
    "    dbc.Row([\n",
    "        dbc.Col([\n",
    "            html.H3('Empty Column', className='text-center'),\n",
    "        ],\n",
    "            width={'size': 4, 'offset': 1, 'order': 0}),\n",
    "        dbc.Col([\n",
    "            html.H3('Cool Chart column', className='text-center'),\n",
    "            dcc.Graph(id='graph-with-dropdown', figure=scatter_fig),\n",
    "        ],\n",
    "            width={'size': 6, 'offset': 1, 'order': 0}),\n",
    "    ]),\n",
    "]\n",
    "\n",
    "app = JupyterDash(__name__, external_stylesheets=[dbc.themes.BOOTSTRAP])\n",
    "\n",
    "app.layout = html.Div(\n",
    "    example_v1\n",
    ")\n",
    "\n",
    "if __name__ == '__main__':\n",
    "    app.run_server(debug=True)"
   ]
  },
  {
   "cell_type": "code",
   "execution_count": null,
   "id": "c114e321",
   "metadata": {},
   "outputs": [],
   "source": [
    "app._terminate_server_for_port(\"localhost\",8050)"
   ]
  },
  {
   "cell_type": "code",
   "execution_count": null,
   "id": "a98c58a7",
   "metadata": {},
   "outputs": [],
   "source": []
  },
  {
   "cell_type": "markdown",
   "id": "fb3fea42",
   "metadata": {},
   "source": [
    "<div class=\"alert alert-block alert-warning\">\n",
    "    <p> In order to use callbacks we need to import Input and Output classes </p>\n",
    "</div>"
   ]
  },
  {
   "cell_type": "code",
   "execution_count": null,
   "id": "6173a825",
   "metadata": {},
   "outputs": [],
   "source": [
    "from dash import Input, Output"
   ]
  },
  {
   "cell_type": "code",
   "execution_count": null,
   "id": "49dc9ed0",
   "metadata": {},
   "outputs": [],
   "source": [
    "dd_labels = [{'label': df.year.unique()[i], 'value': df.year.unique()[i]} for i in range(df.year.unique().shape[0])]"
   ]
  },
  {
   "cell_type": "code",
   "execution_count": null,
   "id": "11c56312",
   "metadata": {},
   "outputs": [],
   "source": [
    "dd_labels"
   ]
  },
  {
   "cell_type": "code",
   "execution_count": null,
   "id": "73b7871e",
   "metadata": {},
   "outputs": [],
   "source": [
    "example_v2 = [\n",
    "    dbc.Row([\n",
    "        dbc.Col(\n",
    "            html.H1('Callback page', className='text-center mb-3 p-3')\n",
    "        )\n",
    "    ]),\n",
    "    dbc.Row([\n",
    "        dbc.Col([\n",
    "            html.H3('dropdown column', className='text-start'),\n",
    "            dcc.Dropdown(\n",
    "                id = 'year-dropdown',\n",
    "                options = dd_labels,\n",
    "                value = df['year'].max(),\n",
    "                clearable=False\n",
    "            ),\n",
    "        ],\n",
    "            width={'size': 2, 'offset': 0, 'order': 1}),\n",
    "        dbc.Col([\n",
    "            html.H3('graph column', className='text-center'),\n",
    "            dcc.Graph(id='graph-with-dropdown'),\n",
    "        ],\n",
    "            width={'size': 8, 'offset': 0, 'order': 0}),\n",
    "    ]),\n",
    "]"
   ]
  },
  {
   "cell_type": "code",
   "execution_count": null,
   "id": "177161eb",
   "metadata": {},
   "outputs": [],
   "source": [
    "app = JupyterDash(__name__, external_stylesheets=[dbc.themes.BOOTSTRAP])\n",
    "\n",
    "app.layout = html.Div(\n",
    "    example_v2\n",
    ")\n",
    "\n",
    "\n",
    "@app.callback(\n",
    "    Output('graph-with-dropdown', 'figure'),\n",
    "    Input('year-dropdown', 'value'))\n",
    "def update_figure(selected_year):\n",
    "    filtered_df = df[df.year == int(selected_year)]\n",
    "\n",
    "    return px.scatter(\n",
    "        filtered_df,\n",
    "        x=\"gdpPercap\",\n",
    "        y=\"lifeExp\",\n",
    "        size=\"pop\",\n",
    "        color=\"continent\",\n",
    "        hover_name=\"country\",\n",
    "        log_x=True,\n",
    "        size_max=55,\n",
    "    )\n",
    "\n",
    "\n",
    "if __name__ == '__main__':\n",
    "    app.run_server(debug=True)"
   ]
  },
  {
   "cell_type": "code",
   "execution_count": null,
   "id": "a17d0e7b",
   "metadata": {},
   "outputs": [],
   "source": [
    "app._terminate_server_for_port(\"localhost\",8050)"
   ]
  },
  {
   "cell_type": "code",
   "execution_count": null,
   "id": "7249985f",
   "metadata": {},
   "outputs": [],
   "source": []
  },
  {
   "cell_type": "code",
   "execution_count": null,
   "id": "d4df02ef",
   "metadata": {},
   "outputs": [],
   "source": []
  },
  {
   "cell_type": "code",
   "execution_count": null,
   "id": "c02bf7c5",
   "metadata": {},
   "outputs": [],
   "source": []
  },
  {
   "cell_type": "code",
   "execution_count": null,
   "id": "ab48f17f",
   "metadata": {},
   "outputs": [],
   "source": []
  },
  {
   "cell_type": "markdown",
   "id": "a75a06a5",
   "metadata": {},
   "source": [
    "<div class=\"alert alert-block alert-info text-center\">\n",
    "    <H1> BOOTSTRAP THEMES AND STYLING </H1>\n",
    "</div>"
   ]
  },
  {
   "cell_type": "code",
   "execution_count": null,
   "id": "6ba207ed",
   "metadata": {},
   "outputs": [],
   "source": [
    "import pandas as pd\n",
    "from dash import dcc  # dash version 2.0.0\n",
    "from dash import html  # dash version 2.0.0\n",
    "import dash_bootstrap_components as dbc  # version 1.0.2\n",
    "from jupyter_dash import JupyterDash  # version 0.4.0\n",
    "import plotly.express as px"
   ]
  },
  {
   "cell_type": "code",
   "execution_count": null,
   "id": "03e7f060",
   "metadata": {},
   "outputs": [],
   "source": [
    "dbc.themes.CYBORG"
   ]
  },
  {
   "cell_type": "markdown",
   "id": "0ce7ba95",
   "metadata": {},
   "source": [
    "- You can use the file locally if you download it and place it under a folder called \"assets\"\n",
    "- Check more bootstrap themes at https://www.bootstrapcdn.com/bootswatch/"
   ]
  },
  {
   "cell_type": "markdown",
   "id": "edf00a1e",
   "metadata": {},
   "source": [
    "- How to customize the background of an element: https://getbootstrap.com/docs/5.0/utilities/background/"
   ]
  },
  {
   "cell_type": "code",
   "execution_count": null,
   "id": "5605d014",
   "metadata": {},
   "outputs": [],
   "source": [
    "app = JupyterDash(__name__, external_stylesheets=[dbc.themes.SKETCHY])\n",
    "\n",
    "app.layout = html.Div(\n",
    "    [\n",
    "        dbc.Col([\n",
    "#             html.H1('Cool Buttons', className='text-center'),\n",
    "            html.H1('Cool Buttons', className='text-center text-white bg-danger mt-4 mb-4'),\n",
    "            \n",
    "            # https://dash-bootstrap-components.opensource.faculty.ai/docs/components/button/\n",
    "            dbc.Button(\"This button is dangerous\", color=\"danger\"),\n",
    "            dbc.Button(\"This button not so much\", color=\"warning\"),\n",
    "            dbc.Button(\"This button is harmful\", color=\"info\")\n",
    "        ],\n",
    "            width={'size': 3, 'offset': 0, 'order': 0})\n",
    "    ]\n",
    ")\n",
    "\n",
    "\n",
    "if __name__ == '__main__':\n",
    "    app.run_server(debug=True)"
   ]
  },
  {
   "cell_type": "code",
   "execution_count": null,
   "id": "f6ef5ded",
   "metadata": {},
   "outputs": [],
   "source": []
  },
  {
   "cell_type": "code",
   "execution_count": null,
   "id": "b3136710",
   "metadata": {},
   "outputs": [],
   "source": []
  },
  {
   "cell_type": "code",
   "execution_count": null,
   "id": "9805c3a8",
   "metadata": {},
   "outputs": [],
   "source": []
  },
  {
   "cell_type": "markdown",
   "id": "cd17b3b5",
   "metadata": {},
   "source": [
    "- https://getbootstrap.com/docs/5.0/layout/grid/"
   ]
  },
  {
   "cell_type": "code",
   "execution_count": null,
   "id": "929f5eef",
   "metadata": {},
   "outputs": [],
   "source": [
    "app = JupyterDash(__name__, external_stylesheets=[dbc.themes.UNITED])\n",
    "\n",
    "app.layout = html.Div(\n",
    "    [\n",
    "\n",
    "        html.H1('Cool Buttons', className='text-center', style={\n",
    "            \"margin-bottom\": \"50px\",\n",
    "            \"margin-top\": \"50px\"\n",
    "        }),\n",
    "\n",
    "        # https://dash-bootstrap-components.opensource.faculty.ai/docs/components/button/\n",
    "        dbc.Button(\"This button is dangerous\", color=\"danger\"),\n",
    "        dbc.Button(\"This button not so much\", color=\"warning\"),\n",
    "        dbc.Button(\"This button is harmful\", color=\"info\")\n",
    "\n",
    "    ],\n",
    "    className=\"d-grid gap-4 col-6 mx-auto\", # smaller blocks section on the Button page\n",
    ")\n",
    "\n",
    "\n",
    "if __name__ == '__main__':\n",
    "    app.run_server(debug=True)"
   ]
  },
  {
   "cell_type": "code",
   "execution_count": null,
   "id": "5d9d0eec",
   "metadata": {},
   "outputs": [],
   "source": []
  },
  {
   "cell_type": "code",
   "execution_count": null,
   "id": "246963ff",
   "metadata": {},
   "outputs": [],
   "source": []
  },
  {
   "cell_type": "code",
   "execution_count": null,
   "id": "3811f56a",
   "metadata": {},
   "outputs": [],
   "source": []
  },
  {
   "cell_type": "code",
   "execution_count": null,
   "id": "2501ac81",
   "metadata": {},
   "outputs": [],
   "source": []
  },
  {
   "cell_type": "code",
   "execution_count": null,
   "id": "6aef685a",
   "metadata": {},
   "outputs": [],
   "source": []
  },
  {
   "cell_type": "code",
   "execution_count": null,
   "id": "e780558d",
   "metadata": {},
   "outputs": [],
   "source": []
  },
  {
   "cell_type": "code",
   "execution_count": null,
   "id": "0ecb7c67",
   "metadata": {},
   "outputs": [],
   "source": []
  },
  {
   "cell_type": "code",
   "execution_count": null,
   "id": "0da78f76",
   "metadata": {},
   "outputs": [],
   "source": [
    "app = JupyterDash(__name__, external_stylesheets=[dbc.themes.UNITED])\n",
    "\n",
    "app.layout = html.Div(\n",
    "    [\n",
    "\n",
    "        html.H1('Cool Buttons', className='text-center', style={\n",
    "            \"margin-bottom\": \"50px\",\n",
    "            \"margin-top\": \"50px\"\n",
    "        }),\n",
    "\n",
    "        # https://dash-bootstrap-components.opensource.faculty.ai/docs/components/button/\n",
    "        dbc.Button(\"This button is dangerous\", color=\"danger\"),\n",
    "        dbc.Button(\"This button not so much\", color=\"warning\"),\n",
    "        dbc.Button(\"This button is harmful\", color=\"info\")\n",
    "    ],\n",
    "    className=\"d-grid gap-2 col-6 mx-auto\", # smaller blocks section on the Button page\n",
    ")\n",
    "\n",
    "\n",
    "if __name__ == '__main__':\n",
    "    app.run_server(debug=True)"
   ]
  },
  {
   "cell_type": "code",
   "execution_count": null,
   "id": "330e0bca",
   "metadata": {},
   "outputs": [],
   "source": []
  },
  {
   "cell_type": "code",
   "execution_count": null,
   "id": "ea402a6e",
   "metadata": {},
   "outputs": [],
   "source": []
  },
  {
   "cell_type": "code",
   "execution_count": null,
   "id": "3b436f48",
   "metadata": {},
   "outputs": [],
   "source": []
  },
  {
   "cell_type": "code",
   "execution_count": null,
   "id": "f2326836",
   "metadata": {},
   "outputs": [],
   "source": []
  },
  {
   "cell_type": "code",
   "execution_count": null,
   "id": "cf490147",
   "metadata": {},
   "outputs": [],
   "source": []
  },
  {
   "cell_type": "code",
   "execution_count": null,
   "id": "6e92aee1",
   "metadata": {},
   "outputs": [],
   "source": []
  },
  {
   "cell_type": "markdown",
   "id": "dd979f92",
   "metadata": {},
   "source": [
    "<div class=\"alert alert-block alert-info text-center\">\n",
    "    <H1> SIDEBARS AND MULTI-PAGE APPS </H1>\n",
    "</div>"
   ]
  },
  {
   "cell_type": "markdown",
   "id": "cbdd9acf",
   "metadata": {},
   "source": [
    "- https://dash-bootstrap-components.opensource.faculty.ai/examples/simple-sidebar/"
   ]
  },
  {
   "cell_type": "code",
   "execution_count": null,
   "id": "474fea50",
   "metadata": {},
   "outputs": [],
   "source": [
    "homepage = html.Div(\n",
    "    [\n",
    "\n",
    "        html.H1('Cool Buttons', className='text-center', style={\n",
    "            \"margin-bottom\": \"50px\",\n",
    "            \"margin-top\": \"50px\"\n",
    "        }),\n",
    "\n",
    "        # https://dash-bootstrap-components.opensource.faculty.ai/docs/components/button/\n",
    "        dbc.Button(\"This button is dangerous\", color=\"danger\"),\n",
    "        dbc.Button(\"This button not so much\", color=\"warning\"),\n",
    "        dbc.Button(\"This button is harmful\", color=\"info\"),\n",
    "\n",
    "    ],\n",
    "    className=\"d-grid gap-4 col-4 mx-auto\", # smaller blocks section on the Button page\n",
    ")"
   ]
  },
  {
   "cell_type": "code",
   "execution_count": null,
   "id": "722d7e76",
   "metadata": {},
   "outputs": [],
   "source": []
  },
  {
   "cell_type": "code",
   "execution_count": null,
   "id": "44a11404",
   "metadata": {},
   "outputs": [],
   "source": [
    "# Creating a custom style to use later inside the app\n",
    "\n",
    "SIDEBAR_STYLE = {\n",
    "    'position': 'fixed',\n",
    "    'top': 0,\n",
    "    'left': 0,\n",
    "    'bottom': 0,\n",
    "    'width': '12rem',\n",
    "    'padding': '2rem 1rem',\n",
    "    'background-color': 'rgba(120, 120, 120, 0.4)',\n",
    "}\n",
    "CONTENT_STYLE = {\n",
    "    'margin-left': '15rem',\n",
    "    'margin-right': '2rem',\n",
    "    'padding': '2rem' '1rem',\n",
    "}"
   ]
  },
  {
   "cell_type": "code",
   "execution_count": null,
   "id": "221e8843",
   "metadata": {},
   "outputs": [],
   "source": [
    "sidebar = html.Div(\n",
    "    [\n",
    "        html.Hr(),\n",
    "        html.P('this sidebar is very easy to create', className='text-center p-3'),\n",
    "        html.Hr(),\n",
    "        dbc.Nav(\n",
    "            [\n",
    "                dbc.NavLink('Homepage', href=\"/\", active='exact'),\n",
    "                dbc.NavLink('Second Page', href=\"/second\", active='exact'),\n",
    "            ],\n",
    "            vertical=True,\n",
    "            pills=True,\n",
    "        ),\n",
    "    ],\n",
    "    style=SIDEBAR_STYLE, # helps keep the code easier to read\n",
    ")"
   ]
  },
  {
   "cell_type": "code",
   "execution_count": null,
   "id": "4f0823d5",
   "metadata": {},
   "outputs": [],
   "source": [
    "app = JupyterDash(__name__, external_stylesheets=[dbc.themes.SLATE])\n",
    "\n",
    "app.layout = html.Div(\n",
    "    [\n",
    "        dcc.Location(id='url'), # keeps track of the active page\n",
    "        homepage,\n",
    "        sidebar\n",
    "    ]\n",
    ")\n",
    "\n",
    "\n",
    "if __name__ == \"__main__\":\n",
    "    app.run_server(debug=True, port=8056)"
   ]
  },
  {
   "cell_type": "code",
   "execution_count": null,
   "id": "bea928b3",
   "metadata": {},
   "outputs": [],
   "source": []
  },
  {
   "cell_type": "code",
   "execution_count": null,
   "id": "64c9cec0",
   "metadata": {},
   "outputs": [],
   "source": []
  },
  {
   "cell_type": "markdown",
   "id": "36b7074a",
   "metadata": {},
   "source": [
    "## Adding a callback and the second page"
   ]
  },
  {
   "cell_type": "code",
   "execution_count": null,
   "id": "fea7e382",
   "metadata": {},
   "outputs": [],
   "source": [
    "second_page =  html.Div(\n",
    "    [\n",
    "        html.H1('Second Page', className='text-center', style={\n",
    "            \"margin-bottom\": \"50px\",\n",
    "            \"margin-top\": \"50px\"\n",
    "        }),\n",
    "        dcc.Graph(id='graph-with-dropdown', figure=scatter_fig)\n",
    "    ],\n",
    ")"
   ]
  },
  {
   "cell_type": "code",
   "execution_count": null,
   "id": "8a6d271c",
   "metadata": {},
   "outputs": [],
   "source": [
    "app = JupyterDash(__name__, external_stylesheets=[dbc.themes.MINTY])\n",
    "\n",
    "# our content is going to change, so we need to make it dynamic\n",
    "content = html.Div(id='page-content', children=[], style=CONTENT_STYLE)\n",
    "\n",
    "app.layout = html.Div(\n",
    "    [\n",
    "        dcc.Location(id='url'),\n",
    "        content,\n",
    "        sidebar\n",
    "    ]\n",
    ")\n",
    "\n",
    "\n",
    "@app.callback(\n",
    "    Output(\"page-content\", \"children\"),\n",
    "    Input(\"url\", \"pathname\"))\n",
    "def render_page_content(pathname):\n",
    "    if pathname == \"/\":\n",
    "        return homepage\n",
    "\n",
    "    elif pathname == \"/second\":\n",
    "        return second_page\n",
    "    \n",
    "\n",
    "if __name__ == \"__main__\":\n",
    "    app.run_server(debug=True, port=8056)"
   ]
  },
  {
   "cell_type": "code",
   "execution_count": null,
   "id": "e27356a7",
   "metadata": {},
   "outputs": [],
   "source": []
  },
  {
   "cell_type": "code",
   "execution_count": null,
   "id": "aa6ce808",
   "metadata": {},
   "outputs": [],
   "source": []
  },
  {
   "cell_type": "code",
   "execution_count": null,
   "id": "6ee764ea",
   "metadata": {},
   "outputs": [],
   "source": []
  }
 ],
 "metadata": {
  "kernelspec": {
   "display_name": "my310",
   "language": "python",
   "name": "python3"
  },
  "language_info": {
   "codemirror_mode": {
    "name": "ipython",
    "version": 3
   },
   "file_extension": ".py",
   "mimetype": "text/x-python",
   "name": "python",
   "nbconvert_exporter": "python",
   "pygments_lexer": "ipython3",
   "version": "3.11.8"
  },
  "vscode": {
   "interpreter": {
    "hash": "8893ff5373caf5abc53ffb44feaaab6040c78ac5fac43a3a631487f01e5e1efc"
   }
  }
 },
 "nbformat": 4,
 "nbformat_minor": 5
}
