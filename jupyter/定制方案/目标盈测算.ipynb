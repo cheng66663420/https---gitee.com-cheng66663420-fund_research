{
 "cells": [
  {
   "cell_type": "code",
   "execution_count": 14,
   "metadata": {},
   "outputs": [],
   "source": [
    "from quant_utils.db_conn import DB_CONN_JJTG_DATA\n",
    "from quant_utils.performance import Performance, periods_performance\n",
    "import pandas as pd\n",
    "query_sql = \"\"\"\n",
    "SELECT\n",
    "  TradingDay AS TRADE_DT,\n",
    "  SecuCode AS TICKER_SYMBOL,\n",
    "  ChangePCT AS RETURN_RATE \n",
    "FROM\n",
    "  jy_indexquote \n",
    "WHERE\n",
    "  1 = 1 \n",
    "  AND SecuCode IN ( '930950', '930609' ) UNION\n",
    "SELECT\n",
    "  END_DATE AS TRADE_DT,\n",
    "  TICKER_SYMBOL,\n",
    "  RETURN_RATE \n",
    "FROM\n",
    "  fund_adj_nav \n",
    "WHERE\n",
    "  1 = 1 \n",
    "  AND TICKER_SYMBOL IN ( \"513500\" )\n",
    "\"\"\"\n",
    "df = DB_CONN_JJTG_DATA.exec_query(query_sql)"
   ]
  },
  {
   "cell_type": "code",
   "execution_count": 15,
   "metadata": {},
   "outputs": [],
   "source": [
    "df = df.pivot_table(index=\"TRADE_DT\", columns=\"TICKER_SYMBOL\", values=\"RETURN_RATE\").dropna()"
   ]
  },
  {
   "cell_type": "code",
   "execution_count": null,
   "metadata": {},
   "outputs": [],
   "source": [
    "df[\"10%权益\"] = df[\"513500\"]*0.05 + 0.05 * df[\"930950\"] + 0.9* df[\"930609\"]\n",
    "df[\"20%权益\"] = df[\"513500\"]*0.1 + 0.1 * df[\"930950\"] + 0.8* df[\"930609\"]\n",
    "df[\"30%权益\"] = df[\"513500\"]*0.15 + 0.15 * df[\"930950\"] + 0.8* df[\"930609\"]\n",
    "\n",
    "df[\"10%权益_NAV\"] = (df[\"10%权益\"]/100 + 1).cumprod()\n",
    "df[\"20%权益_NAV\"] = (df[\"20%权益\"]/100 + 1).cumprod()\n",
    "df[\"30%权益_NAV\"] = (df[\"30%权益\"]/100 + 1).cumprod()"
   ]
  },
  {
   "cell_type": "code",
   "execution_count": 34,
   "metadata": {},
   "outputs": [
    {
     "name": "stderr",
     "output_type": "stream",
     "text": [
      "D:\\FundResearch\\quant_utils\\performance.py:601: FutureWarning: DataFrame.applymap has been deprecated. Use DataFrame.map instead.\n",
      "  return pd.DataFrame.from_dict(perf_dict).applymap(lambda x: format(x, \".2%\"))\n",
      "D:\\FundResearch\\quant_utils\\performance.py:601: FutureWarning: DataFrame.applymap has been deprecated. Use DataFrame.map instead.\n",
      "  return pd.DataFrame.from_dict(perf_dict).applymap(lambda x: format(x, \".2%\"))\n",
      "D:\\FundResearch\\quant_utils\\performance.py:601: FutureWarning: DataFrame.applymap has been deprecated. Use DataFrame.map instead.\n",
      "  return pd.DataFrame.from_dict(perf_dict).applymap(lambda x: format(x, \".2%\"))\n"
     ]
    }
   ],
   "source": [
    "col_list = [\"10%权益_NAV\", \"20%权益_NAV\", \"30%权益_NAV\"]\n",
    "perf_list = []\n",
    "period_perf_list = []\n",
    "for col in col_list:\n",
    "    perf_cls = Performance(df[col])\n",
    "    perf = perf_cls.stats().T\n",
    "    perf[\"组合名称\"] = col\n",
    "    perf_list.append(perf)\n",
    "    period_perf_temp = perf_cls.rolling_ret_stats()\n",
    "    period_perf_temp[\"组合名称\"] = col\n",
    "    period_perf_list.append(period_perf_temp)\n",
    "\n",
    "perf_df = pd.concat(perf_list)\n",
    "period_perf_df = pd.concat(period_perf_list)"
   ]
  },
  {
   "cell_type": "code",
   "execution_count": 36,
   "metadata": {},
   "outputs": [],
   "source": [
    "with pd.ExcelWriter(\"d:/结果.xlsx\") as writer:\n",
    "    perf_df.to_excel(writer, sheet_name=\"组合绩效\")\n",
    "    period_perf_df.to_excel(writer, sheet_name=\"组合周期绩效\")\n",
    "    df[col_list].to_excel(writer, sheet_name=\"净值\")"
   ]
  }
 ],
 "metadata": {
  "kernelspec": {
   "display_name": "my312",
   "language": "python",
   "name": "python3"
  },
  "language_info": {
   "codemirror_mode": {
    "name": "ipython",
    "version": 3
   },
   "file_extension": ".py",
   "mimetype": "text/x-python",
   "name": "python",
   "nbconvert_exporter": "python",
   "pygments_lexer": "ipython3",
   "version": "3.12.4"
  }
 },
 "nbformat": 4,
 "nbformat_minor": 2
}
