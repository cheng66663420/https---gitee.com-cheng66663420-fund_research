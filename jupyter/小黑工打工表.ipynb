{
 "cells": [
  {
   "cell_type": "code",
   "execution_count": 1,
   "metadata": {},
   "outputs": [],
   "source": [
    "import pandas as pd\n",
    "import quant_utils.data_moudle as dm\n",
    "from quant_utils.constant_varialbles import TODAY\n"
   ]
  },
  {
   "cell_type": "code",
   "execution_count": 2,
   "metadata": {},
   "outputs": [
    {
     "name": "stderr",
     "output_type": "stream",
     "text": [
      "d:\\envs\\my311\\Lib\\site-packages\\openpyxl\\styles\\stylesheet.py:226: UserWarning: Workbook contains no default style, apply openpyxl's default\n",
      "  warn(\"Workbook contains no default style, apply openpyxl's default\")\n"
     ]
    }
   ],
   "source": [
    "file_path = 'E:/基金投顾自动化/基金投顾业务实时数据.xlsx'\n",
    "df= pd.read_excel(file_path, sheet_name='基金投顾客户级明细报表')\n",
    "file_path = 'E:/基金投顾自动化/小黑工评分表.xlsx'\n",
    "person_df = pd.read_excel(file_path, sheet_name='分工')\n",
    "portfolio_df = dm.get_portfolio_info()[[\"PORTFOLIO_NAME\", \"PORTFOLIO_TYPE\", \"DELISTED_DATE\"]]\n",
    "df = (\n",
    "    df\n",
    "    .merge(portfolio_df, left_on=\"组合名称\", right_on=\"PORTFOLIO_NAME\", how=\"left\")\n",
    "    .merge(person_df)\n",
    ")\n",
    "df[\"委托时间\"] = pd.to_datetime(df[\"委托时间\"])\n",
    "df[\"培训日期\"] = pd.to_datetime(df[\"培训日期\"])"
   ]
  },
  {
   "cell_type": "markdown",
   "metadata": {},
   "source": [
    "总量"
   ]
  },
  {
   "cell_type": "code",
   "execution_count": 3,
   "metadata": {},
   "outputs": [
    {
     "name": "stdout",
     "output_type": "stream",
     "text": [
      "总量\n",
      "  片区经理2         委托金额\n",
      "1   陈娇君  37565139.81\n",
      "2   陈恺寅  23308434.72\n",
      "0   陆天琦  13155431.00\n",
      "  片区经理         委托金额\n",
      "0  张晓军  40199103.63\n",
      "3  马毓莹  14022326.54\n",
      "1  王佶嘉  12185744.68\n",
      "2  王贺歆   7621830.68\n"
     ]
    }
   ],
   "source": [
    "df1 = df.copy()\n",
    "df1 = df1.query(\"委托时间 >= 培训日期\")\n",
    "# df1 = df1.query(\"PORTFOLIO_TYPE != '短期周转'\")\n",
    "print(\"总量\")\n",
    "print(\n",
    "    df1.groupby(by=[\"片区经理2\"])[\"委托金额\"].sum().reset_index().sort_values(by=[\"委托金额\"], ascending=False)\n",
    ")\n",
    "print(\n",
    "    df1.groupby(by=[\"片区经理\"])[\"委托金额\"].sum().reset_index().sort_values(by=[\"委托金额\"], ascending=False)\n",
    ")"
   ]
  },
  {
   "cell_type": "markdown",
   "metadata": {},
   "source": [
    "短债月增长"
   ]
  },
  {
   "cell_type": "code",
   "execution_count": 4,
   "metadata": {},
   "outputs": [
    {
     "data": {
      "text/html": [
       "<div>\n",
       "<style scoped>\n",
       "    .dataframe tbody tr th:only-of-type {\n",
       "        vertical-align: middle;\n",
       "    }\n",
       "\n",
       "    .dataframe tbody tr th {\n",
       "        vertical-align: top;\n",
       "    }\n",
       "\n",
       "    .dataframe thead th {\n",
       "        text-align: right;\n",
       "    }\n",
       "</style>\n",
       "<table border=\"1\" class=\"dataframe\">\n",
       "  <thead>\n",
       "    <tr style=\"text-align: right;\">\n",
       "      <th></th>\n",
       "      <th>分公司</th>\n",
       "      <th>委托金额</th>\n",
       "    </tr>\n",
       "  </thead>\n",
       "  <tbody>\n",
       "    <tr>\n",
       "      <th>16</th>\n",
       "      <td>浙江分公司</td>\n",
       "      <td>11467971.82</td>\n",
       "    </tr>\n",
       "    <tr>\n",
       "      <th>0</th>\n",
       "      <td>三明分公司</td>\n",
       "      <td>10883735.21</td>\n",
       "    </tr>\n",
       "    <tr>\n",
       "      <th>15</th>\n",
       "      <td>泉州分公司</td>\n",
       "      <td>8352569.75</td>\n",
       "    </tr>\n",
       "    <tr>\n",
       "      <th>23</th>\n",
       "      <td>龙岩分公司</td>\n",
       "      <td>6017200.00</td>\n",
       "    </tr>\n",
       "    <tr>\n",
       "      <th>21</th>\n",
       "      <td>莆田分公司</td>\n",
       "      <td>5483200.85</td>\n",
       "    </tr>\n",
       "    <tr>\n",
       "      <th>19</th>\n",
       "      <td>福州分公司</td>\n",
       "      <td>5333014.55</td>\n",
       "    </tr>\n",
       "    <tr>\n",
       "      <th>11</th>\n",
       "      <td>广东分公司</td>\n",
       "      <td>2151183.00</td>\n",
       "    </tr>\n",
       "    <tr>\n",
       "      <th>14</th>\n",
       "      <td>江西分公司</td>\n",
       "      <td>1911000.00</td>\n",
       "    </tr>\n",
       "    <tr>\n",
       "      <th>4</th>\n",
       "      <td>南平分公司</td>\n",
       "      <td>1816000.00</td>\n",
       "    </tr>\n",
       "    <tr>\n",
       "      <th>18</th>\n",
       "      <td>漳州分公司</td>\n",
       "      <td>1374678.00</td>\n",
       "    </tr>\n",
       "    <tr>\n",
       "      <th>5</th>\n",
       "      <td>厦门分公司</td>\n",
       "      <td>1000000.00</td>\n",
       "    </tr>\n",
       "    <tr>\n",
       "      <th>9</th>\n",
       "      <td>山东分公司</td>\n",
       "      <td>962850.00</td>\n",
       "    </tr>\n",
       "    <tr>\n",
       "      <th>13</th>\n",
       "      <td>江苏分公司</td>\n",
       "      <td>809800.00</td>\n",
       "    </tr>\n",
       "    <tr>\n",
       "      <th>20</th>\n",
       "      <td>苏州分公司</td>\n",
       "      <td>800000.00</td>\n",
       "    </tr>\n",
       "    <tr>\n",
       "      <th>17</th>\n",
       "      <td>湖北分公司</td>\n",
       "      <td>730000.00</td>\n",
       "    </tr>\n",
       "    <tr>\n",
       "      <th>10</th>\n",
       "      <td>山西分公司</td>\n",
       "      <td>520000.00</td>\n",
       "    </tr>\n",
       "    <tr>\n",
       "      <th>12</th>\n",
       "      <td>广西分公司</td>\n",
       "      <td>412593.00</td>\n",
       "    </tr>\n",
       "    <tr>\n",
       "      <th>7</th>\n",
       "      <td>大连分公司</td>\n",
       "      <td>399200.00</td>\n",
       "    </tr>\n",
       "    <tr>\n",
       "      <th>1</th>\n",
       "      <td>上海分公司</td>\n",
       "      <td>342200.00</td>\n",
       "    </tr>\n",
       "    <tr>\n",
       "      <th>22</th>\n",
       "      <td>陕西分公司</td>\n",
       "      <td>274274.77</td>\n",
       "    </tr>\n",
       "    <tr>\n",
       "      <th>8</th>\n",
       "      <td>宁德分公司</td>\n",
       "      <td>150000.00</td>\n",
       "    </tr>\n",
       "    <tr>\n",
       "      <th>2</th>\n",
       "      <td>云南分公司</td>\n",
       "      <td>150000.00</td>\n",
       "    </tr>\n",
       "    <tr>\n",
       "      <th>3</th>\n",
       "      <td>内蒙古分公司</td>\n",
       "      <td>6649.38</td>\n",
       "    </tr>\n",
       "    <tr>\n",
       "      <th>6</th>\n",
       "      <td>四川分公司</td>\n",
       "      <td>6124.25</td>\n",
       "    </tr>\n",
       "  </tbody>\n",
       "</table>\n",
       "</div>"
      ],
      "text/plain": [
       "       分公司         委托金额\n",
       "16   浙江分公司  11467971.82\n",
       "0    三明分公司  10883735.21\n",
       "15   泉州分公司   8352569.75\n",
       "23   龙岩分公司   6017200.00\n",
       "21   莆田分公司   5483200.85\n",
       "19   福州分公司   5333014.55\n",
       "11   广东分公司   2151183.00\n",
       "14   江西分公司   1911000.00\n",
       "4    南平分公司   1816000.00\n",
       "18   漳州分公司   1374678.00\n",
       "5    厦门分公司   1000000.00\n",
       "9    山东分公司    962850.00\n",
       "13   江苏分公司    809800.00\n",
       "20   苏州分公司    800000.00\n",
       "17   湖北分公司    730000.00\n",
       "10   山西分公司    520000.00\n",
       "12   广西分公司    412593.00\n",
       "7    大连分公司    399200.00\n",
       "1    上海分公司    342200.00\n",
       "22   陕西分公司    274274.77\n",
       "8    宁德分公司    150000.00\n",
       "2    云南分公司    150000.00\n",
       "3   内蒙古分公司      6649.38\n",
       "6    四川分公司      6124.25"
      ]
     },
     "execution_count": 4,
     "metadata": {},
     "output_type": "execute_result"
    }
   ],
   "source": [
    "df1 = df.copy()\n",
    "df1 = df1.query(\"委托时间 >= '2024-06-01' and 组合名称 == '知己优选-短债增强'\")\n",
    "df1 = df1.groupby(by=[\"分公司\"])[\"委托金额\"].sum().reset_index()\n",
    "df1.sort_values(by=\"委托金额\", ascending=False)"
   ]
  },
  {
   "cell_type": "code",
   "execution_count": 5,
   "metadata": {},
   "outputs": [
    {
     "name": "stdout",
     "output_type": "stream",
     "text": [
      "短债增强本月6135.42/6000,进度完成102.26%\n"
     ]
    }
   ],
   "source": [
    "print(f'短债增强本月{df1[\"委托金额\"].sum()/10000:.2f}/6000,进度完成{df1[\"委托金额\"].sum()/10000/6000:.2%}')"
   ]
  },
  {
   "cell_type": "markdown",
   "metadata": {},
   "source": [
    "当日新增"
   ]
  },
  {
   "cell_type": "code",
   "execution_count": 6,
   "metadata": {},
   "outputs": [
    {
     "name": "stdout",
     "output_type": "stream",
     "text": [
      "20240702新增\n",
      "  片区经理2        委托金额\n",
      "1   陈娇君  2885921.45\n",
      "0   陆天琦   641000.00\n",
      "2   陈恺寅   203000.00\n",
      "  片区经理        委托金额\n",
      "1  王佶嘉  2313721.45\n",
      "3  马毓莹  1123100.00\n",
      "0  张晓军   203100.00\n",
      "2  王贺歆    90000.00\n"
     ]
    }
   ],
   "source": [
    "df1 = df.copy()\n",
    "df1 = df1.query(f\"委托时间 >= '{TODAY}'\")\n",
    "print(f\"{TODAY}新增\")\n",
    "print(\n",
    "    df1.groupby(by=[\"片区经理2\"])[\"委托金额\"].sum().reset_index().sort_values(by=[\"委托金额\"], ascending=False)\n",
    ")\n",
    "print(\n",
    "    df1.groupby(by=[\"片区经理\"])[\"委托金额\"].sum().reset_index().sort_values(by=[\"委托金额\"], ascending=False)\n",
    ")"
   ]
  },
  {
   "cell_type": "code",
   "execution_count": 7,
   "metadata": {},
   "outputs": [
    {
     "name": "stdout",
     "output_type": "stream",
     "text": [
      "今日完成基金投顾总销量372.99万元\n",
      "知己优选-月月享:150.00万元\n",
      "知己优选-货币小福星:137.42万元\n",
      "知己目标盈035期:52.60万元\n",
      "知己优选-短债增强:32.37万元\n",
      "知己优选-进取全明星:0.60万元\n"
     ]
    }
   ],
   "source": [
    "print(f\"今日完成基金投顾总销量{df1['委托金额'].sum()/10000:.2f}万元\")\n",
    "temp = df1.groupby(by=[\"组合名称\"])[\"委托金额\"].sum().reset_index().sort_values(by=[\"委托金额\"], ascending=False)\n",
    "\n",
    "for idx, val in temp.iterrows():\n",
    "    print(f'{val[\"组合名称\"]}:{val[\"委托金额\"]/10000:.2f}万元')"
   ]
  },
  {
   "cell_type": "markdown",
   "metadata": {},
   "source": [
    "短债"
   ]
  },
  {
   "cell_type": "code",
   "execution_count": 8,
   "metadata": {},
   "outputs": [
    {
     "data": {
      "text/plain": [
       "6135.4244579999995"
      ]
     },
     "execution_count": 8,
     "metadata": {},
     "output_type": "execute_result"
    }
   ],
   "source": [
    "df1 = df.copy()\n",
    "df1 = df1.query(\"委托时间 >= '2024-06-01'\")\n",
    "df1 = df1.query(\"组合名称 == '知己优选-短债增强'\")\n",
    "df1[\"委托金额\"].sum()/10000"
   ]
  },
  {
   "cell_type": "markdown",
   "metadata": {},
   "source": [
    "目标盈"
   ]
  },
  {
   "cell_type": "code",
   "execution_count": 9,
   "metadata": {},
   "outputs": [
    {
     "data": {
      "text/plain": [
       "6098.27747"
      ]
     },
     "execution_count": 9,
     "metadata": {},
     "output_type": "execute_result"
    }
   ],
   "source": [
    "df1 = df.copy()\n",
    "df1 = df1.query(\"委托时间 >= '2024-06-01'\")\n",
    "df1 = df1.query(\"PORTFOLIO_TYPE == '目标盈'\")\n",
    "df1[\"委托金额\"].sum()/10000"
   ]
  },
  {
   "cell_type": "code",
   "execution_count": 10,
   "metadata": {},
   "outputs": [],
   "source": [
    "df2 = df.copy()\n",
    "# df2 = df2[pd.notnull(df2[\"DELISTED_DATE\"])]\n",
    "df2 = df2.groupby(by=[\"PORTFOLIO_TYPE\"])[\"委托金额\"].sum().reset_index()\n",
    "df2 = df2.sort_values(by=[\"委托金额\"], ascending=False)\n",
    "df2[\"委托金额\"] = df2[\"委托金额\"]/10000\n"
   ]
  },
  {
   "cell_type": "code",
   "execution_count": 11,
   "metadata": {},
   "outputs": [
    {
     "data": {
      "text/plain": [
       "70427.307694"
      ]
     },
     "execution_count": 11,
     "metadata": {},
     "output_type": "execute_result"
    }
   ],
   "source": [
    "df2[\"委托金额\"].sum()"
   ]
  },
  {
   "cell_type": "code",
   "execution_count": 12,
   "metadata": {},
   "outputs": [
    {
     "data": {
      "text/html": [
       "<div>\n",
       "<style scoped>\n",
       "    .dataframe tbody tr th:only-of-type {\n",
       "        vertical-align: middle;\n",
       "    }\n",
       "\n",
       "    .dataframe tbody tr th {\n",
       "        vertical-align: top;\n",
       "    }\n",
       "\n",
       "    .dataframe thead th {\n",
       "        text-align: right;\n",
       "    }\n",
       "</style>\n",
       "<table border=\"1\" class=\"dataframe\">\n",
       "  <thead>\n",
       "    <tr style=\"text-align: right;\">\n",
       "      <th></th>\n",
       "      <th>组合名称</th>\n",
       "      <th>委托金额</th>\n",
       "    </tr>\n",
       "  </thead>\n",
       "  <tbody>\n",
       "    <tr>\n",
       "      <th>20</th>\n",
       "      <td>知己目标盈035期</td>\n",
       "      <td>705000.00</td>\n",
       "    </tr>\n",
       "    <tr>\n",
       "      <th>19</th>\n",
       "      <td>知己目标盈034期</td>\n",
       "      <td>12767367.45</td>\n",
       "    </tr>\n",
       "    <tr>\n",
       "      <th>18</th>\n",
       "      <td>知己目标盈033期</td>\n",
       "      <td>17548681.68</td>\n",
       "    </tr>\n",
       "    <tr>\n",
       "      <th>17</th>\n",
       "      <td>知己目标盈032期</td>\n",
       "      <td>12207141.70</td>\n",
       "    </tr>\n",
       "    <tr>\n",
       "      <th>16</th>\n",
       "      <td>知己目标盈031期</td>\n",
       "      <td>17752583.87</td>\n",
       "    </tr>\n",
       "    <tr>\n",
       "      <th>15</th>\n",
       "      <td>知己目标盈030期</td>\n",
       "      <td>24265466.84</td>\n",
       "    </tr>\n",
       "    <tr>\n",
       "      <th>14</th>\n",
       "      <td>知己目标盈029期</td>\n",
       "      <td>32839744.48</td>\n",
       "    </tr>\n",
       "    <tr>\n",
       "      <th>13</th>\n",
       "      <td>知己目标盈028期</td>\n",
       "      <td>21435029.12</td>\n",
       "    </tr>\n",
       "    <tr>\n",
       "      <th>12</th>\n",
       "      <td>知己目标盈027期</td>\n",
       "      <td>30865958.20</td>\n",
       "    </tr>\n",
       "    <tr>\n",
       "      <th>11</th>\n",
       "      <td>知己目标盈026期</td>\n",
       "      <td>14340804.75</td>\n",
       "    </tr>\n",
       "    <tr>\n",
       "      <th>10</th>\n",
       "      <td>知己目标盈025期</td>\n",
       "      <td>16308588.85</td>\n",
       "    </tr>\n",
       "    <tr>\n",
       "      <th>9</th>\n",
       "      <td>知己目标盈024期</td>\n",
       "      <td>15676513.93</td>\n",
       "    </tr>\n",
       "    <tr>\n",
       "      <th>8</th>\n",
       "      <td>知己目标盈023期</td>\n",
       "      <td>5175651.20</td>\n",
       "    </tr>\n",
       "    <tr>\n",
       "      <th>7</th>\n",
       "      <td>知己目标盈022期</td>\n",
       "      <td>4784014.51</td>\n",
       "    </tr>\n",
       "    <tr>\n",
       "      <th>6</th>\n",
       "      <td>知己目标盈021期</td>\n",
       "      <td>4893012.62</td>\n",
       "    </tr>\n",
       "    <tr>\n",
       "      <th>5</th>\n",
       "      <td>知己目标盈020期</td>\n",
       "      <td>9237028.27</td>\n",
       "    </tr>\n",
       "    <tr>\n",
       "      <th>4</th>\n",
       "      <td>知己目标盈019期</td>\n",
       "      <td>8682993.23</td>\n",
       "    </tr>\n",
       "    <tr>\n",
       "      <th>3</th>\n",
       "      <td>知己目标盈018期</td>\n",
       "      <td>76000.00</td>\n",
       "    </tr>\n",
       "    <tr>\n",
       "      <th>2</th>\n",
       "      <td>知己目标盈017期</td>\n",
       "      <td>863000.00</td>\n",
       "    </tr>\n",
       "    <tr>\n",
       "      <th>1</th>\n",
       "      <td>知己目标盈016期</td>\n",
       "      <td>3867056.69</td>\n",
       "    </tr>\n",
       "    <tr>\n",
       "      <th>0</th>\n",
       "      <td>兴证基金乐投稳进02期灰度测试</td>\n",
       "      <td>2000.00</td>\n",
       "    </tr>\n",
       "  </tbody>\n",
       "</table>\n",
       "</div>"
      ],
      "text/plain": [
       "               组合名称         委托金额\n",
       "20        知己目标盈035期    705000.00\n",
       "19        知己目标盈034期  12767367.45\n",
       "18        知己目标盈033期  17548681.68\n",
       "17        知己目标盈032期  12207141.70\n",
       "16        知己目标盈031期  17752583.87\n",
       "15        知己目标盈030期  24265466.84\n",
       "14        知己目标盈029期  32839744.48\n",
       "13        知己目标盈028期  21435029.12\n",
       "12        知己目标盈027期  30865958.20\n",
       "11        知己目标盈026期  14340804.75\n",
       "10        知己目标盈025期  16308588.85\n",
       "9         知己目标盈024期  15676513.93\n",
       "8         知己目标盈023期   5175651.20\n",
       "7         知己目标盈022期   4784014.51\n",
       "6         知己目标盈021期   4893012.62\n",
       "5         知己目标盈020期   9237028.27\n",
       "4         知己目标盈019期   8682993.23\n",
       "3         知己目标盈018期     76000.00\n",
       "2         知己目标盈017期    863000.00\n",
       "1         知己目标盈016期   3867056.69\n",
       "0   兴证基金乐投稳进02期灰度测试      2000.00"
      ]
     },
     "execution_count": 12,
     "metadata": {},
     "output_type": "execute_result"
    }
   ],
   "source": [
    "df3 = df.copy()\n",
    "df3 = df3.query(\"PORTFOLIO_TYPE == '目标盈'\")\n",
    "df3.groupby(\"组合名称\")[\"委托金额\"].sum().reset_index().sort_values(by=[\"组合名称\"], ascending=False)"
   ]
  }
 ],
 "metadata": {
  "kernelspec": {
   "display_name": "my311",
   "language": "python",
   "name": "python3"
  },
  "language_info": {
   "codemirror_mode": {
    "name": "ipython",
    "version": 3
   },
   "file_extension": ".py",
   "mimetype": "text/x-python",
   "name": "python",
   "nbconvert_exporter": "python",
   "pygments_lexer": "ipython3",
   "version": "3.11.8"
  }
 },
 "nbformat": 4,
 "nbformat_minor": 2
}
