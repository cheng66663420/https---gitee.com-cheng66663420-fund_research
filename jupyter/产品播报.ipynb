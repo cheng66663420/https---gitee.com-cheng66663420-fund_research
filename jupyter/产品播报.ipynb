{
 "cells": [
  {
   "cell_type": "code",
   "execution_count": 66,
   "metadata": {},
   "outputs": [],
   "source": [
    "from quant_pl.performance_pl import PerformancePL\n",
    "\n",
    "import polars as pl\n",
    "import pandas as pd\n",
    "from quant_utils.performance import Performance\n",
    "from quant_utils.db_conn import DB_CONN_JJTG_DATA"
   ]
  },
  {
   "cell_type": "code",
   "execution_count": 67,
   "metadata": {},
   "outputs": [
    {
     "name": "stdout",
     "output_type": "stream",
     "text": [
      "\n",
      "exec_query耗时:0.0110 s\n",
      "========================================\n"
     ]
    }
   ],
   "source": [
    "query_sql = \"\"\"\n",
    "SELECT\n",
    "  TRADE_DT, PORTFOLIO_NAME, \n",
    "  1+ portfolio_ret_accumulated/100 as PORTFOLIO_NAV\n",
    "FROM\n",
    "  portfolio_derivatives_ret\n",
    "WHERE\n",
    "  `PORTFOLIO_NAME` IN ('知己优选-现金宝', '知己优选-货币小福星') \n",
    "\"\"\"\n",
    "df = DB_CONN_JJTG_DATA.exec_query(query_sql)"
   ]
  },
  {
   "cell_type": "code",
   "execution_count": 68,
   "metadata": {},
   "outputs": [],
   "source": [
    "df = df[[\"TRADE_DT\", \"PORTFOLIO_NAME\", \"PORTFOLIO_NAV\"]]"
   ]
  },
  {
   "cell_type": "code",
   "execution_count": 69,
   "metadata": {},
   "outputs": [],
   "source": [
    "file_path = \"f:/931059.CSI.xlsx\"\n",
    "df2 = pl.read_excel(file_path)\n",
    "df2 = df2.unpivot(index=\"日期\", value_name=\"PORTFOLIO_NAV\", variable_name=\"PORTFOLIO_NAME\")"
   ]
  },
  {
   "cell_type": "code",
   "execution_count": 70,
   "metadata": {},
   "outputs": [],
   "source": [
    "df2.columns = [\"TRADE_DT\", \"PORTFOLIO_NAME\", \"PORTFOLIO_NAV\"]\n",
    "df = pl.concat([pl.from_pandas(df), df2])"
   ]
  },
  {
   "cell_type": "code",
   "execution_count": 71,
   "metadata": {},
   "outputs": [],
   "source": [
    "df = df.to_pandas()\n",
    "df = df.pivot_table(index=\"TRADE_DT\", columns=\"PORTFOLIO_NAME\", values=\"PORTFOLIO_NAV\")"
   ]
  },
  {
   "cell_type": "code",
   "execution_count": 72,
   "metadata": {},
   "outputs": [],
   "source": [
    "df.dropna(inplace=True)\n"
   ]
  },
  {
   "cell_type": "code",
   "execution_count": null,
   "metadata": {},
   "outputs": [],
   "source": []
  },
  {
   "cell_type": "code",
   "execution_count": 73,
   "metadata": {},
   "outputs": [],
   "source": [
    "result_list = []\n",
    "for col in df.columns:\n",
    "    temp = df[col]\n",
    "    perf = Performance(temp).stats().T\n",
    "    perf[\"name\"] = col\n",
    "    result_list.append(perf)\n",
    "result = pd.concat(result_list)\n"
   ]
  },
  {
   "cell_type": "code",
   "execution_count": 75,
   "metadata": {},
   "outputs": [],
   "source": [
    "result.to_excel(\"f:/jieguo.xlsx\", index=False)"
   ]
  },
  {
   "cell_type": "code",
   "execution_count": 77,
   "metadata": {},
   "outputs": [],
   "source": [
    "df = df/df.iloc[0]"
   ]
  },
  {
   "cell_type": "code",
   "execution_count": 80,
   "metadata": {},
   "outputs": [],
   "source": [
    "df.to_excel(\"f:/jieguo2.xlsx\")"
   ]
  }
 ],
 "metadata": {
  "kernelspec": {
   "display_name": "my312",
   "language": "python",
   "name": "python3"
  },
  "language_info": {
   "codemirror_mode": {
    "name": "ipython",
    "version": 3
   },
   "file_extension": ".py",
   "mimetype": "text/x-python",
   "name": "python",
   "nbconvert_exporter": "python",
   "pygments_lexer": "ipython3",
   "version": "3.12.7"
  }
 },
 "nbformat": 4,
 "nbformat_minor": 2
}
