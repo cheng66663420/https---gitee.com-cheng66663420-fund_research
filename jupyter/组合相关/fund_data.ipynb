{
 "cells": [
  {
   "cell_type": "code",
   "execution_count": 1,
   "metadata": {},
   "outputs": [],
   "source": [
    "# -*- coding: utf-8 -*-\n",
    "\n",
    "import pandas as pd\n",
    "import numpy as np\n",
    "import matplotlib.pyplot as plt\n",
    "plt.rcParams['font.sans-serif']=['SimHei'] #用来正常显示中文标签\n",
    "plt.rcParams['axes.unicode_minus']=False #用来正常显示负号\n",
    "\n",
    "import quant_utils.data_moudle as dm\n",
    "from quant_utils.constant import DB_CONN_JJTG_DATA, DB_CONN_WIND\n",
    "import data_functions.fund_data as dfs\n",
    "import data_functions.portfolio_data as pds\n",
    "from quant_utils.performance import Performance, periods_performance"
   ]
  },
  {
   "cell_type": "code",
   "execution_count": 4,
   "metadata": {},
   "outputs": [],
   "source": [
    "# short_bond = pd.read_excel(\"D:/中债+美股.xlsx\")\n",
    "short_bond = dm.get_fund_index(ticker_symbol=\"885008\")\n",
    "short_bond = short_bond.set_index(['TRADE_DT'])"
   ]
  },
  {
   "cell_type": "code",
   "execution_count": 6,
   "metadata": {},
   "outputs": [],
   "source": [
    "periods_performance(short_bond[\"S_DQ_CLOSE\"]).to_excel(\"d:/tongji3.xlsx\")"
   ]
  },
  {
   "cell_type": "code",
   "execution_count": 8,
   "metadata": {},
   "outputs": [
    {
     "data": {
      "text/plain": [
       "TRADE_DT\n",
       "20031231    1000.0000\n",
       "20040102    1000.2531\n",
       "20040105    1005.1117\n",
       "20040106    1004.8210\n",
       "20040107    1006.4898\n",
       "              ...    \n",
       "20240122    2401.7249\n",
       "20240123    2401.5976\n",
       "20240124    2401.9183\n",
       "20240125    2402.7290\n",
       "20240126    2403.2603\n",
       "Name: S_DQ_CLOSE, Length: 4879, dtype: float64"
      ]
     },
     "execution_count": 8,
     "metadata": {},
     "output_type": "execute_result"
    }
   ],
   "source": [
    "short_bond[\"S_DQ_CLOSE\"]"
   ]
  },
  {
   "cell_type": "code",
   "execution_count": 7,
   "metadata": {},
   "outputs": [
    {
     "name": "stderr",
     "output_type": "stream",
     "text": [
      "D:\\FundResearch\\quant_utils\\performance.py:592: FutureWarning: DataFrame.applymap has been deprecated. Use DataFrame.map instead.\n",
      "  return pd.DataFrame.from_dict(perf_dict).applymap(lambda x: format(x, \".2%\"))\n"
     ]
    },
    {
     "data": {
      "text/html": [
       "<div>\n",
       "<style scoped>\n",
       "    .dataframe tbody tr th:only-of-type {\n",
       "        vertical-align: middle;\n",
       "    }\n",
       "\n",
       "    .dataframe tbody tr th {\n",
       "        vertical-align: top;\n",
       "    }\n",
       "\n",
       "    .dataframe thead th {\n",
       "        text-align: right;\n",
       "    }\n",
       "</style>\n",
       "<table border=\"1\" class=\"dataframe\">\n",
       "  <thead>\n",
       "    <tr style=\"text-align: right;\">\n",
       "      <th></th>\n",
       "      <th>7天</th>\n",
       "      <th>1个月</th>\n",
       "      <th>2个月</th>\n",
       "      <th>3个月</th>\n",
       "      <th>6个月</th>\n",
       "      <th>9个月</th>\n",
       "      <th>1年</th>\n",
       "      <th>2年</th>\n",
       "      <th>3年</th>\n",
       "      <th>4年</th>\n",
       "      <th>5年</th>\n",
       "    </tr>\n",
       "  </thead>\n",
       "  <tbody>\n",
       "    <tr>\n",
       "      <th>收益率25分位数</th>\n",
       "      <td>-0.03%</td>\n",
       "      <td>0.02%</td>\n",
       "      <td>0.17%</td>\n",
       "      <td>0.33%</td>\n",
       "      <td>1.14%</td>\n",
       "      <td>1.94%</td>\n",
       "      <td>2.74%</td>\n",
       "      <td>6.50%</td>\n",
       "      <td>10.76%</td>\n",
       "      <td>15.52%</td>\n",
       "      <td>20.71%</td>\n",
       "    </tr>\n",
       "    <tr>\n",
       "      <th>收益率中位数</th>\n",
       "      <td>0.12%</td>\n",
       "      <td>0.35%</td>\n",
       "      <td>0.68%</td>\n",
       "      <td>1.02%</td>\n",
       "      <td>2.04%</td>\n",
       "      <td>3.02%</td>\n",
       "      <td>4.18%</td>\n",
       "      <td>8.47%</td>\n",
       "      <td>13.00%</td>\n",
       "      <td>17.84%</td>\n",
       "      <td>24.80%</td>\n",
       "    </tr>\n",
       "    <tr>\n",
       "      <th>收益率75分位数</th>\n",
       "      <td>0.28%</td>\n",
       "      <td>0.68%</td>\n",
       "      <td>1.25%</td>\n",
       "      <td>1.81%</td>\n",
       "      <td>3.18%</td>\n",
       "      <td>4.40%</td>\n",
       "      <td>5.67%</td>\n",
       "      <td>11.03%</td>\n",
       "      <td>17.54%</td>\n",
       "      <td>23.72%</td>\n",
       "      <td>29.84%</td>\n",
       "    </tr>\n",
       "    <tr>\n",
       "      <th>胜率</th>\n",
       "      <td>71.78%</td>\n",
       "      <td>75.82%</td>\n",
       "      <td>80.80%</td>\n",
       "      <td>83.32%</td>\n",
       "      <td>88.42%</td>\n",
       "      <td>92.36%</td>\n",
       "      <td>96.40%</td>\n",
       "      <td>100.00%</td>\n",
       "      <td>100.00%</td>\n",
       "      <td>100.00%</td>\n",
       "      <td>100.00%</td>\n",
       "    </tr>\n",
       "  </tbody>\n",
       "</table>\n",
       "</div>"
      ],
      "text/plain": [
       "              7天     1个月     2个月     3个月     6个月     9个月      1年       2年  \\\n",
       "收益率25分位数  -0.03%   0.02%   0.17%   0.33%   1.14%   1.94%   2.74%    6.50%   \n",
       "收益率中位数     0.12%   0.35%   0.68%   1.02%   2.04%   3.02%   4.18%    8.47%   \n",
       "收益率75分位数   0.28%   0.68%   1.25%   1.81%   3.18%   4.40%   5.67%   11.03%   \n",
       "胜率        71.78%  75.82%  80.80%  83.32%  88.42%  92.36%  96.40%  100.00%   \n",
       "\n",
       "               3年       4年       5年  \n",
       "收益率25分位数   10.76%   15.52%   20.71%  \n",
       "收益率中位数     13.00%   17.84%   24.80%  \n",
       "收益率75分位数   17.54%   23.72%   29.84%  \n",
       "胜率        100.00%  100.00%  100.00%  "
      ]
     },
     "execution_count": 7,
     "metadata": {},
     "output_type": "execute_result"
    }
   ],
   "source": [
    "Performance(short_bond[\"S_DQ_CLOSE\"]).rolling_ret_stats()"
   ]
  },
  {
   "cell_type": "code",
   "execution_count": null,
   "metadata": {},
   "outputs": [],
   "source": [
    "dfs.get_fund_alpha_to_index(\"\")"
   ]
  },
  {
   "cell_type": "code",
   "execution_count": null,
   "metadata": {},
   "outputs": [],
   "source": [
    "df = dm.get_fund_index('885062').set_index(\"TRADE_DT\")"
   ]
  },
  {
   "cell_type": "code",
   "execution_count": null,
   "metadata": {},
   "outputs": [],
   "source": [
    "a = periods_performance(df[\"S_DQ_CLOSE\"])"
   ]
  },
  {
   "cell_type": "code",
   "execution_count": null,
   "metadata": {},
   "outputs": [],
   "source": [
    "a.to_excel(\"d:/885062分析.xlsx\")"
   ]
  },
  {
   "cell_type": "code",
   "execution_count": null,
   "metadata": {},
   "outputs": [],
   "source": [
    "df = dfs.query_fund_performance_rank_pct(\"20231228\")\n",
    "df = df.set_index([\"TRADE_DT\", \"TICKER_SYMBOL\", \"LEVEL\"]).stack().reset_index()\n",
    "df.rename(columns={'level_3': \"INDICATOR\", 0:\"VALUE\"}, inplace=True)\n",
    "df['TEMP'] = df[\"INDICATOR\"].str.split(\"_\")\n",
    "df[\"CYCLE\"] = df['TEMP'].apply(lambda x: x[-1])\n",
    "df[\"INDICATOR\"] = df['TEMP'].apply(lambda x: x[1])\n",
    "df.drop(columns=[\"TEMP\"], inplace=True)"
   ]
  },
  {
   "cell_type": "code",
   "execution_count": null,
   "metadata": {},
   "outputs": [],
   "source": [
    "indicator_weight_dict = {\n",
    "    'AVGRETURN': 0.4, \n",
    "    'STDARDDEV': 0.0, \n",
    "    'SHARPRATIO': 0.2, \n",
    "    'MAXDOWNSIDE': 0.2, \n",
    "    'CALMAR': 0.2,\n",
    "}\n"
   ]
  },
  {
   "cell_type": "code",
   "execution_count": null,
   "metadata": {},
   "outputs": [],
   "source": [
    "cycle_weight_dict = {\n",
    "    'DAY': 0.0, \n",
    "    'THISYEAR':0.0, \n",
    "    'QUARTER': 0.0, \n",
    "    'HALFYEAR': 0.2, \n",
    "    'YEAR': 0.2, \n",
    "    'TWOYEAR': 0.3,\n",
    "    'THREEYEAR': 0.3, \n",
    "    'FOURYEAR': 0.0, \n",
    "    'FIVEYEAR': 0.0, \n",
    "    'SIXYEAR': 0.0,\n",
    "}"
   ]
  },
  {
   "cell_type": "code",
   "execution_count": null,
   "metadata": {},
   "outputs": [],
   "source": [
    "df[\"INDICATOR\"].unique()"
   ]
  },
  {
   "cell_type": "code",
   "execution_count": null,
   "metadata": {},
   "outputs": [],
   "source": [
    "df[\"CYCLE\"].unique()"
   ]
  },
  {
   "cell_type": "code",
   "execution_count": null,
   "metadata": {},
   "outputs": [],
   "source": [
    "df = pd.read_excel(\"d:/现金及其等价物.xlsx\", sheet_name=\"Sheet6\")\n",
    "df = df.set_index(\"TRADE_DT\")"
   ]
  },
  {
   "cell_type": "code",
   "execution_count": null,
   "metadata": {},
   "outputs": [],
   "source": [
    "df_ret = df[['黄金','短债','中证红利全收益', \"偏股基金\", \"沪深300\"]]"
   ]
  },
  {
   "cell_type": "code",
   "execution_count": null,
   "metadata": {},
   "outputs": [],
   "source": [
    "df_ret.corr()"
   ]
  },
  {
   "cell_type": "code",
   "execution_count": null,
   "metadata": {},
   "outputs": [],
   "source": [
    "df_nav = df[['黄金净值','短债净值','中证红利全收益净值', \"偏股基金\", \"沪深300\"]]"
   ]
  },
  {
   "cell_type": "code",
   "execution_count": null,
   "metadata": {},
   "outputs": [],
   "source": [
    "perf_list = []\n",
    "for i in df.columns:\n",
    "    perf_list.append(Performance(df[i]).stats().T)\n",
    "pd.concat(perf_list)"
   ]
  },
  {
   "cell_type": "code",
   "execution_count": null,
   "metadata": {},
   "outputs": [],
   "source": [
    "temp = periods_performance(df[\"组合净值\"])"
   ]
  },
  {
   "cell_type": "code",
   "execution_count": null,
   "metadata": {},
   "outputs": [],
   "source": [
    "temp.query(\"PERIOD_NAME == 'ALL'\")"
   ]
  },
  {
   "cell_type": "code",
   "execution_count": null,
   "metadata": {},
   "outputs": [],
   "source": [
    "temp.query(\"PERIOD_NAME == '年度'\")"
   ]
  },
  {
   "cell_type": "code",
   "execution_count": null,
   "metadata": {},
   "outputs": [],
   "source": [
    "code_list_300 = [\n",
    "    '163407',\n",
    "    '008238',\n",
    "    # '673100',\n",
    "    '004190',\n",
    "    '003015',\n",
    "    \"002837\",\n",
    "]\n",
    "code_list_500 = [\n",
    "'006730',\n",
    "'007413',\n",
    "'002872',\n",
    "'009727',\n",
    "'006104',\n",
    "'009300',\n",
    "# '007832',\n",
    "# '502000'\n",
    "]\n",
    "\n",
    "code_list_1000 = [\n",
    "'004194',\n",
    "'015784',\n",
    "'161039',\n",
    "'006165',\n",
    "'014125',\n",
    "]\n",
    "\n",
    "code_list_bond = [\n",
    "'005725', '006797', '006902', '005754', '006965', '007245', '006629', '006989', '006597', '002301', '006319' \n",
    "]\n",
    "result_list = []\n",
    "for code in code_list_1000:\n",
    "    df = dfs.get_fund_alpha_to_index(\n",
    "        code, \n",
    "        index_code='000852',\n",
    "        start_date='20220101'\n",
    "    )\n",
    "    result_list.append(df)\n",
    "result = pd.concat(result_list)"
   ]
  },
  {
   "cell_type": "code",
   "execution_count": null,
   "metadata": {},
   "outputs": [],
   "source": [
    "result.pivot_table(\n",
    "    index='END_DATE', \n",
    "    columns='SEC_SHORT_NAME', \n",
    "    values='SUM_ALPHA_RET'\n",
    ").plot()"
   ]
  },
  {
   "cell_type": "code",
   "execution_count": null,
   "metadata": {},
   "outputs": [],
   "source": [
    "result.pivot_table(\n",
    "    index='END_DATE', \n",
    "    columns='SEC_SHORT_NAME', \n",
    "    values='LOG_ALPHA_RET'\n",
    ").mean(axis=1).expanding().sum().plot()"
   ]
  },
  {
   "cell_type": "code",
   "execution_count": null,
   "metadata": {},
   "outputs": [],
   "source": [
    "result.pivot_table(\n",
    "    index='END_DATE', \n",
    "    columns='SEC_SHORT_NAME', \n",
    "    values='LOG_ALPHA_RET'\n",
    ").dropna().corr()"
   ]
  },
  {
   "cell_type": "code",
   "execution_count": null,
   "metadata": {},
   "outputs": [],
   "source": [
    "df = dfs.get_fund_alpha_to_index(\n",
    "    ticker_symbol='015868', \n",
    "    index_code='000852',\n",
    "    start_date= '20220101'\n",
    ")\n",
    "df.index = pd.to_datetime(df[\"END_DATE\"])\n",
    "\n",
    "df[\"SUM_ALPHA_RET\"].plot()"
   ]
  },
  {
   "cell_type": "code",
   "execution_count": null,
   "metadata": {},
   "outputs": [],
   "source": [
    "query_sql = \"\"\"\n",
    "WITH a AS (\n",
    "\tSELECT\n",
    "\t\tEND_DATE,\n",
    "\t\tavg( LOG_RET ) AS LOG_RET \n",
    "\tFROM\n",
    "\t\tfund_adj_nav \n",
    "\tWHERE\n",
    "\t\t1 = 1 \n",
    "\t\tAND TICKER_SYMBOL IN ( '005725', '006797', '006902', '005754', '006965', '007245', '006629', '531028', '006597', '002301', '006319' ) \n",
    "\t\tAND END_DATE >= '20210101' \n",
    "\tGROUP BY\n",
    "\t\tEND_DATE \n",
    "\t) SELECT\n",
    "\tEND_DATE,\n",
    "\texp( sum( LOG_RET / 100 ) over ( ORDER BY END_DATE ) ) AS NAV \n",
    "FROM\n",
    "\ta\n",
    "\"\"\"\n",
    "df = DB_CONN_JJTG_DATA.exec_query(query_sql)\n",
    "df = df.set_index(\"END_DATE\")\n"
   ]
  },
  {
   "cell_type": "code",
   "execution_count": null,
   "metadata": {},
   "outputs": [],
   "source": [
    "Performance(df[\"NAV\"]).stats().T"
   ]
  },
  {
   "cell_type": "code",
   "execution_count": null,
   "metadata": {},
   "outputs": [],
   "source": [
    "from portfolio.portfolio_backtest_new import PortfolioBacktest\n",
    "\n",
    "pb = PortfolioBacktest([13, 21, 23])"
   ]
  },
  {
   "cell_type": "code",
   "execution_count": null,
   "metadata": {},
   "outputs": [],
   "source": [
    "df = pb.get_backtest_nav().query(\"PORTFOLIO_NAME == '10'\")"
   ]
  },
  {
   "cell_type": "code",
   "execution_count": null,
   "metadata": {},
   "outputs": [],
   "source": [
    "cum_ret = df.pivot_table(index=\"TRADE_DT\", columns=\"TEST_NAME\", values=\"LOG_RETURN_RATE\").dropna().cumsum()"
   ]
  },
  {
   "cell_type": "code",
   "execution_count": null,
   "metadata": {},
   "outputs": [],
   "source": [
    "nav = np.exp(cum_ret/100)"
   ]
  },
  {
   "cell_type": "code",
   "execution_count": null,
   "metadata": {},
   "outputs": [],
   "source": [
    "perf_list = []\n",
    "for i in nav.columns:\n",
    "    temp = Performance(nav[i]).stats().T\n",
    "    temp[\"name\"] = i\n",
    "    perf_list.append(temp)\n",
    "    "
   ]
  },
  {
   "cell_type": "code",
   "execution_count": null,
   "metadata": {},
   "outputs": [],
   "source": [
    "perf_df = pd.concat(perf_list)"
   ]
  },
  {
   "cell_type": "code",
   "execution_count": null,
   "metadata": {},
   "outputs": [],
   "source": [
    "perf_df"
   ]
  },
  {
   "cell_type": "code",
   "execution_count": null,
   "metadata": {},
   "outputs": [],
   "source": [
    "nav.to_excel(\"D:/湖南分公司策略.xlsx\")"
   ]
  },
  {
   "cell_type": "code",
   "execution_count": null,
   "metadata": {},
   "outputs": [],
   "source": [
    "portfolio_holdings = pds.query_portfolo_holding_new()\n",
    "fund_alpha = dfs.cal_fund_alpha_total_score(\n",
    "    end_date=\"20231129\", \n",
    "    period=\"1Y\", \n",
    "    level_num=3,\n",
    "    indicator_name_weights={\"IR\": 0.4, \"ALPHA\": 0.3, \"MAXDD\": 0.3, },\n",
    "    indicator_period_weights={\"3M\": 0.2, \"6M\": 0.2, \"1Y\": 0.6, }\n",
    ")"
   ]
  },
  {
   "cell_type": "code",
   "execution_count": null,
   "metadata": {},
   "outputs": [],
   "source": [
    "portfolio_holdings = pds.query_portfolo_holding_new()\n",
    "portfolio_holdings = portfolio_holdings[\n",
    "    portfolio_holdings[\"PORTFOLIO_NAME\"]\n",
    "        .isin([\"月月享\", \"均衡小确幸\", \"进取全明星\"])\n",
    "]"
   ]
  },
  {
   "cell_type": "code",
   "execution_count": null,
   "metadata": {},
   "outputs": [],
   "source": [
    "portfolio_holdings = portfolio_holdings.merge(fund_alpha, how=\"left\", on=[\"TICKER_SYMBOL\"])"
   ]
  },
  {
   "cell_type": "code",
   "execution_count": null,
   "metadata": {},
   "outputs": [],
   "source": [
    "portfolio_holdings.to_excel(\"d:/当前持仓.xlsx\")"
   ]
  },
  {
   "cell_type": "code",
   "execution_count": null,
   "metadata": {},
   "outputs": [],
   "source": [
    "fund_alpha = (\n",
    "        fund_alpha.merge(dfs.query_fund_info(), how=\"left\")\n",
    "        .merge(dfs.query_fund_asset_own(), how=\"left\")\n",
    "        .merge(dfs.query_fund_type_own(), how=\"left\")\n",
    "        .merge(dfs.query_fund_fee(), how=\"left\")\n",
    "        .merge(dfs.query_basic_products(), how=\"left\")\n",
    "    )\n",
    "fund_alpha.to_excel(\"D:/fund_alpha.xlsx\")"
   ]
  },
  {
   "cell_type": "code",
   "execution_count": null,
   "metadata": {},
   "outputs": [],
   "source": [
    "basic_products = dfs.query_basic_products().query(\"IF_IN_TRANCHE == 1\")"
   ]
  },
  {
   "cell_type": "code",
   "execution_count": null,
   "metadata": {},
   "outputs": [],
   "source": [
    "basic_products = basic_products.merge(fund_alpha, how=\"left\")"
   ]
  },
  {
   "cell_type": "code",
   "execution_count": null,
   "metadata": {},
   "outputs": [],
   "source": [
    "portfolio_products = pds.query_portfolio_products_ret(\"20231130\")\n",
    "fund_ret_rank = dfs.query_fund_ret_rank(\"20231130\")"
   ]
  },
  {
   "cell_type": "code",
   "execution_count": null,
   "metadata": {},
   "outputs": [],
   "source": [
    "(\n",
    "    portfolio_products\n",
    "    .merge(fund_ret_rank)\n",
    "    .drop(columns=[\"PORTFOLIO_NAME\"])\n",
    "    .to_excel(\"d:/持仓表现.xlsx\")\n",
    ")"
   ]
  },
  {
   "cell_type": "code",
   "execution_count": null,
   "metadata": {},
   "outputs": [],
   "source": [
    "query_sql = \"\"\"\n",
    "SELECT * FROM `chentiancheng`.`portfolio_performance` WHERE `END_DATE` = '20231130' AND `INDICATOR` = '累计收益率' ORDER BY `END_DATE` DESC LIMIT 0,1000\n",
    "\"\"\"\n",
    "df = DB_CONN_JJTG_DATA.exec_query(query_sql)"
   ]
  },
  {
   "cell_type": "code",
   "execution_count": null,
   "metadata": {},
   "outputs": [],
   "source": [
    "df.pivot_table(index=\"TICKER_SYMBOL\", columns=\"CYCLE\", values=\"BENCHMARK_VALUE_OUTTER\")"
   ]
  },
  {
   "cell_type": "code",
   "execution_count": null,
   "metadata": {},
   "outputs": [],
   "source": [
    "df = pd.read_csv(\n",
    "    \"E:/new_tdx/T0002/export/SZ#159531.csv\", \n",
    "    skipfooter=1, \n",
    "    encoding='gbk', \n",
    "    header=None,\n",
    "    names=[\"date\", \"time\", \"open\", \"high\", \"low\", \"close\", \"volume\", \"amount\"]\n",
    ")\n",
    "\n",
    "df[\"date_time\"] = pd.to_datetime(\n",
    "    df[\"date\"] + ' ' + df[\"time\"].astype(str), format=\"%Y/%m/%d %H%M\"\n",
    ")\n",
    "df.set_index(\"date_time\", inplace=True)\n",
    "df.drop(columns=[\"date\", \"time\"],  inplace=True)\n"
   ]
  },
  {
   "cell_type": "code",
   "execution_count": null,
   "metadata": {},
   "outputs": [],
   "source": [
    "df.resample(\"30min\", closed=\"right\", label=\"right\").agg(\n",
    "    {\n",
    "        \"open\": \"first\",\n",
    "        \"high\": \"max\",\n",
    "        \"low\": \"min\",\n",
    "        \"close\": \"last\",\n",
    "        \"volume\": \"sum\",\n",
    "        \"amount\": \"sum\",\n",
    "    }\n",
    ").dropna()"
   ]
  },
  {
   "cell_type": "code",
   "execution_count": null,
   "metadata": {},
   "outputs": [],
   "source": [
    "df"
   ]
  },
  {
   "cell_type": "code",
   "execution_count": null,
   "metadata": {},
   "outputs": [],
   "source": [
    "df[\"TIME\"] = (\n",
    "    df[\"TIME\"].apply(lambda x: str(x).rjust(4, \"0\"))\n",
    "    .apply(lambda x: x[:2]+\":\"+x[2:])\n",
    ")"
   ]
  },
  {
   "cell_type": "code",
   "execution_count": null,
   "metadata": {},
   "outputs": [],
   "source": [
    "df[\"DATE_TIME\"] = df[\"DATE\"] + ' ' + df[\"TIME\"] "
   ]
  },
  {
   "cell_type": "code",
   "execution_count": null,
   "metadata": {},
   "outputs": [],
   "source": [
    "df.resample()"
   ]
  },
  {
   "cell_type": "code",
   "execution_count": null,
   "metadata": {},
   "outputs": [],
   "source": [
    "file_path = \"C:/Users/Wilcoxon/Desktop/!!!基金净值.xlsx\"\n",
    "df = pd.read_excel(file_path)\n",
    "# df.set_index(\"DATE\", inplace=True)\n",
    "df"
   ]
  },
  {
   "cell_type": "code",
   "execution_count": null,
   "metadata": {},
   "outputs": [],
   "source": [
    "year_list = [2019, 2020, 2021, 2022, 2023]\n",
    "perf_list = []\n",
    "for year in year_list:\n",
    "    temp = df[df[\"DATE\"].dt.year == year]\n",
    "    temp.set_index(\"DATE\", inplace=True)\n",
    "    for col in temp.columns:\n",
    "        temp_perf = Performance(temp[col]).stats().T\n",
    "        temp_perf[\"YEAR\"] = year\n",
    "        temp_perf[\"组合\"] = col\n",
    "        perf_list.append(temp_perf)"
   ]
  },
  {
   "cell_type": "code",
   "execution_count": null,
   "metadata": {},
   "outputs": [],
   "source": [
    "perf_df = pd.concat(perf_list)"
   ]
  },
  {
   "cell_type": "code",
   "execution_count": null,
   "metadata": {},
   "outputs": [],
   "source": [
    "perf_df.pivot_table(index=\"YEAR\", columns=\"组合\", values=\"最大回撤\")"
   ]
  },
  {
   "cell_type": "code",
   "execution_count": null,
   "metadata": {},
   "outputs": [],
   "source": [
    "df = pds.query_portfolio_nav(portfolio_name=\"月月享\")\n",
    "df = df.set_index(\"TRADE_DT\")"
   ]
  },
  {
   "cell_type": "code",
   "execution_count": null,
   "metadata": {},
   "outputs": [],
   "source": [
    "temp_list = []\n",
    "temp_list.append(Performance(df[\"PORTFOLIO_NAV\"]).stats().T)\n",
    "temp_list.append(Performance(df[\"BENCHMARK_NAV\"]).stats().T)"
   ]
  },
  {
   "cell_type": "code",
   "execution_count": null,
   "metadata": {},
   "outputs": [],
   "source": [
    "query_sql = \"\"\"\n",
    "SELECT\n",
    "\t* \n",
    "FROM\n",
    "\t`chentiancheng`.`portfolio_performance` \n",
    "WHERE\n",
    "\t`END_DATE` = '2023-11-30' \n",
    "\tAND `TICKER_SYMBOL` = '月月享' \n",
    "\tAND `CYCLE` IN ( 'YTD', '成立日', '近1年' ) \n",
    "\"\"\"\n",
    "df = DB_CONN_JJTG_DATA.exec_query(query_sql)"
   ]
  },
  {
   "cell_type": "code",
   "execution_count": null,
   "metadata": {},
   "outputs": [],
   "source": [
    "df.pivot_table(index=\"INDICATOR\", columns=\"CYCLE\", values=\"PORTFOLIO_VALUE\")"
   ]
  }
 ],
 "metadata": {
  "kernelspec": {
   "display_name": "my310",
   "language": "python",
   "name": "python3"
  },
  "language_info": {
   "codemirror_mode": {
    "name": "ipython",
    "version": 3
   },
   "file_extension": ".py",
   "mimetype": "text/x-python",
   "name": "python",
   "nbconvert_exporter": "python",
   "pygments_lexer": "ipython3",
   "version": "3.11.8"
  }
 },
 "nbformat": 4,
 "nbformat_minor": 2
}
