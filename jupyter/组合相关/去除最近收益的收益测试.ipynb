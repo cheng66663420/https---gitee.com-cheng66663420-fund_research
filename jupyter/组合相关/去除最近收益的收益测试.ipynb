{
 "cells": [
  {
   "cell_type": "code",
   "execution_count": 35,
   "metadata": {},
   "outputs": [],
   "source": [
    "import quant_utils.data_moudle as dm\n",
    "from quant_utils.constant import DB_CONN_JJTG_DATA\n",
    "from tqdm import tqdm\n",
    "import pandas as pd\n",
    "from quant_utils.performance import Performance"
   ]
  },
  {
   "cell_type": "code",
   "execution_count": 59,
   "metadata": {},
   "outputs": [],
   "source": [
    "def get_return_except(date):\n",
    "    query_sql = f\"\"\"\n",
    "    SELECT\n",
    "        a.TRADE_DT,\n",
    "        a.TICKER_SYMBOL,\n",
    "        F_AVGRETURN_THISMONTH,\n",
    "        F_AVGRETURN_THISQUARTER,\n",
    "        F_AVGRETURN_QUARTER as RETURN_3M,\n",
    "        F_AVGRETURN_HALFYEAR as RETURN_6M,\n",
    "        F_AVGRETURN_YEAR as RETURN_1Y,\n",
    "        F_AVGRETURN_TWOYEAR as RETURN_2Y,\n",
    "        F_AVGRETURN_THREEYEAR as RETURN_3Y,\n",
    "        F_AVGRETURN_FIVEYEAR as RETURN_5Y,\n",
    "        F_AVGRETURN_YEAR - F_AVGRETURN_QUARTER AS RETURN_1Y_3M,\n",
    "        F_AVGRETURN_TWOYEAR - F_AVGRETURN_QUARTER AS RETURN_2Y_3M,\n",
    "        F_AVGRETURN_TWOYEAR - F_AVGRETURN_HALFYEAR AS RETURN_2Y_6M,\n",
    "        F_AVGRETURN_THREEYEAR - F_AVGRETURN_QUARTER AS RETURN_3Y_3M,\n",
    "        F_AVGRETURN_THREEYEAR - F_AVGRETURN_HALFYEAR AS RETURN_3Y_6M,\n",
    "        F_AVGRETURN_FIVEYEAR - F_AVGRETURN_QUARTER AS RETURN_5Y_3M,\n",
    "        F_AVGRETURN_FIVEYEAR - F_AVGRETURN_HALFYEAR AS RETURN_5Y_6M,\n",
    "        F_AVGRETURN_FIVEYEAR - F_AVGRETURN_YEAR AS RETURN_5Y_1Y,\n",
    "        F_AVGRETURN_FIVEYEAR - F_AVGRETURN_TWOYEAR AS RETURN_5Y_2Y\n",
    "    FROM\n",
    "        fund_performance a\n",
    "\n",
    "    WHERE\n",
    "        1 = 1 \n",
    "        and a.TRADE_DT = \"{date}\"\n",
    "    \"\"\"\n",
    "\n",
    "    ret_df = DB_CONN_JJTG_DATA.exec_query(query_sql)\n",
    "\n",
    "    query_sql = f\"\"\"\n",
    "\tSELECT\n",
    "        TICKER_SYMBOL,\n",
    "        LEVEL_1,\n",
    "        LEVEL_2,\n",
    "        LEVEL_3\n",
    "\tFROM\n",
    "\t    fund_type_own \n",
    "\tWHERE\n",
    "        1=1\n",
    "        and REPORT_DATE = (\n",
    "            SELECT max(REPORT_DATE) \n",
    "                FROM fund_type_own \n",
    "            WHERE \n",
    "                1=1 \n",
    "                and PUBLISH_DATE <= \"{date}\"\n",
    "        )\n",
    "    \"\"\"\n",
    "    fund_type = DB_CONN_JJTG_DATA.exec_query(query_sql)\n",
    "\n",
    "    return ret_df.merge(fund_type, on=\"TICKER_SYMBOL\", how=\"inner\")\n",
    "\n",
    "def shift_return(df, return_period):\n",
    "    df = df.copy().sort_values(by=\"TRADE_DT\")\n",
    "    df[\"return_future\"] = df[return_period].shift(-1)\n",
    "    return df\n",
    "\n",
    "def get_return_rank_by_type(df, return_name):\n",
    "    df = df.copy()\n",
    "    df = df[[\"TICKER_SYMBOL\", return_name, \"return_future\"]].dropna()\n",
    "    if not df.empty:\n",
    "        df[\"history_return_group\"] = pd.qcut(df[return_name], 5, labels=range(1, 6))\n",
    "        df[\"futur_return_group\"] = pd.qcut(df[\"return_future\"], 5, labels=range(1, 6))\n",
    "        return df"
   ]
  },
  {
   "cell_type": "code",
   "execution_count": 60,
   "metadata": {},
   "outputs": [
    {
     "name": "stderr",
     "output_type": "stream",
     "text": [
      "100%|██████████| 28/28 [00:15<00:00,  1.77it/s]\n"
     ]
    }
   ],
   "source": [
    "period = 'q'\n",
    "dates_list = dm.get_period_end_date(start_date=\"20170101\", end_date=\"20240315\", period=period)\n",
    "data_set = []\n",
    "for date in tqdm(dates_list):\n",
    "    df = get_return_except(date)\n",
    "    data_set.append(df)\n",
    "data_set = pd.concat(data_set)"
   ]
  },
  {
   "cell_type": "code",
   "execution_count": 81,
   "metadata": {},
   "outputs": [
    {
     "name": "stdout",
     "output_type": "stream",
     "text": [
      "RETURN_3M\n"
     ]
    },
    {
     "name": "stderr",
     "output_type": "stream",
     "text": [
      "C:\\Users\\Wilcoxon\\AppData\\Local\\Temp\\ipykernel_20424\\2821703995.py:31: FutureWarning: The default of observed=False is deprecated and will be changed to True in a future version of pandas. Pass observed=False to retain current behavior or observed=True to adopt the future default and silence this warning.\n",
      "  result_decribe_temp = result.groupby(by=[\"history_return_group\"])[\"return_future\"].mean().reset_index()\n",
      "C:\\Users\\Wilcoxon\\AppData\\Local\\Temp\\ipykernel_20424\\2821703995.py:36: FutureWarning: The default of observed=False is deprecated and will be changed to True in a future version of pandas. Pass observed=False to retain current behavior or observed=True to adopt the future default and silence this warning.\n",
      "  alpha_df = result.groupby(by=[\"TRADE_DT\", \"history_return_group\"])[\"return_future\"].mean().reset_index()\n"
     ]
    },
    {
     "name": "stdout",
     "output_type": "stream",
     "text": [
      "RETURN_6M\n"
     ]
    },
    {
     "name": "stderr",
     "output_type": "stream",
     "text": [
      "C:\\Users\\Wilcoxon\\AppData\\Local\\Temp\\ipykernel_20424\\2821703995.py:31: FutureWarning: The default of observed=False is deprecated and will be changed to True in a future version of pandas. Pass observed=False to retain current behavior or observed=True to adopt the future default and silence this warning.\n",
      "  result_decribe_temp = result.groupby(by=[\"history_return_group\"])[\"return_future\"].mean().reset_index()\n",
      "C:\\Users\\Wilcoxon\\AppData\\Local\\Temp\\ipykernel_20424\\2821703995.py:36: FutureWarning: The default of observed=False is deprecated and will be changed to True in a future version of pandas. Pass observed=False to retain current behavior or observed=True to adopt the future default and silence this warning.\n",
      "  alpha_df = result.groupby(by=[\"TRADE_DT\", \"history_return_group\"])[\"return_future\"].mean().reset_index()\n"
     ]
    },
    {
     "name": "stdout",
     "output_type": "stream",
     "text": [
      "RETURN_1Y\n"
     ]
    },
    {
     "name": "stderr",
     "output_type": "stream",
     "text": [
      "C:\\Users\\Wilcoxon\\AppData\\Local\\Temp\\ipykernel_20424\\2821703995.py:31: FutureWarning: The default of observed=False is deprecated and will be changed to True in a future version of pandas. Pass observed=False to retain current behavior or observed=True to adopt the future default and silence this warning.\n",
      "  result_decribe_temp = result.groupby(by=[\"history_return_group\"])[\"return_future\"].mean().reset_index()\n",
      "C:\\Users\\Wilcoxon\\AppData\\Local\\Temp\\ipykernel_20424\\2821703995.py:36: FutureWarning: The default of observed=False is deprecated and will be changed to True in a future version of pandas. Pass observed=False to retain current behavior or observed=True to adopt the future default and silence this warning.\n",
      "  alpha_df = result.groupby(by=[\"TRADE_DT\", \"history_return_group\"])[\"return_future\"].mean().reset_index()\n"
     ]
    },
    {
     "name": "stdout",
     "output_type": "stream",
     "text": [
      "RETURN_2Y\n"
     ]
    },
    {
     "name": "stderr",
     "output_type": "stream",
     "text": [
      "C:\\Users\\Wilcoxon\\AppData\\Local\\Temp\\ipykernel_20424\\2821703995.py:31: FutureWarning: The default of observed=False is deprecated and will be changed to True in a future version of pandas. Pass observed=False to retain current behavior or observed=True to adopt the future default and silence this warning.\n",
      "  result_decribe_temp = result.groupby(by=[\"history_return_group\"])[\"return_future\"].mean().reset_index()\n",
      "C:\\Users\\Wilcoxon\\AppData\\Local\\Temp\\ipykernel_20424\\2821703995.py:36: FutureWarning: The default of observed=False is deprecated and will be changed to True in a future version of pandas. Pass observed=False to retain current behavior or observed=True to adopt the future default and silence this warning.\n",
      "  alpha_df = result.groupby(by=[\"TRADE_DT\", \"history_return_group\"])[\"return_future\"].mean().reset_index()\n"
     ]
    },
    {
     "name": "stdout",
     "output_type": "stream",
     "text": [
      "RETURN_3Y\n"
     ]
    },
    {
     "name": "stderr",
     "output_type": "stream",
     "text": [
      "C:\\Users\\Wilcoxon\\AppData\\Local\\Temp\\ipykernel_20424\\2821703995.py:31: FutureWarning: The default of observed=False is deprecated and will be changed to True in a future version of pandas. Pass observed=False to retain current behavior or observed=True to adopt the future default and silence this warning.\n",
      "  result_decribe_temp = result.groupby(by=[\"history_return_group\"])[\"return_future\"].mean().reset_index()\n",
      "C:\\Users\\Wilcoxon\\AppData\\Local\\Temp\\ipykernel_20424\\2821703995.py:36: FutureWarning: The default of observed=False is deprecated and will be changed to True in a future version of pandas. Pass observed=False to retain current behavior or observed=True to adopt the future default and silence this warning.\n",
      "  alpha_df = result.groupby(by=[\"TRADE_DT\", \"history_return_group\"])[\"return_future\"].mean().reset_index()\n"
     ]
    },
    {
     "name": "stdout",
     "output_type": "stream",
     "text": [
      "RETURN_1Y_3M\n"
     ]
    },
    {
     "name": "stderr",
     "output_type": "stream",
     "text": [
      "C:\\Users\\Wilcoxon\\AppData\\Local\\Temp\\ipykernel_20424\\2821703995.py:31: FutureWarning: The default of observed=False is deprecated and will be changed to True in a future version of pandas. Pass observed=False to retain current behavior or observed=True to adopt the future default and silence this warning.\n",
      "  result_decribe_temp = result.groupby(by=[\"history_return_group\"])[\"return_future\"].mean().reset_index()\n",
      "C:\\Users\\Wilcoxon\\AppData\\Local\\Temp\\ipykernel_20424\\2821703995.py:36: FutureWarning: The default of observed=False is deprecated and will be changed to True in a future version of pandas. Pass observed=False to retain current behavior or observed=True to adopt the future default and silence this warning.\n",
      "  alpha_df = result.groupby(by=[\"TRADE_DT\", \"history_return_group\"])[\"return_future\"].mean().reset_index()\n"
     ]
    },
    {
     "name": "stdout",
     "output_type": "stream",
     "text": [
      "RETURN_2Y_3M\n"
     ]
    },
    {
     "name": "stderr",
     "output_type": "stream",
     "text": [
      "C:\\Users\\Wilcoxon\\AppData\\Local\\Temp\\ipykernel_20424\\2821703995.py:31: FutureWarning: The default of observed=False is deprecated and will be changed to True in a future version of pandas. Pass observed=False to retain current behavior or observed=True to adopt the future default and silence this warning.\n",
      "  result_decribe_temp = result.groupby(by=[\"history_return_group\"])[\"return_future\"].mean().reset_index()\n",
      "C:\\Users\\Wilcoxon\\AppData\\Local\\Temp\\ipykernel_20424\\2821703995.py:36: FutureWarning: The default of observed=False is deprecated and will be changed to True in a future version of pandas. Pass observed=False to retain current behavior or observed=True to adopt the future default and silence this warning.\n",
      "  alpha_df = result.groupby(by=[\"TRADE_DT\", \"history_return_group\"])[\"return_future\"].mean().reset_index()\n"
     ]
    },
    {
     "name": "stdout",
     "output_type": "stream",
     "text": [
      "RETURN_2Y_6M\n"
     ]
    },
    {
     "name": "stderr",
     "output_type": "stream",
     "text": [
      "C:\\Users\\Wilcoxon\\AppData\\Local\\Temp\\ipykernel_20424\\2821703995.py:31: FutureWarning: The default of observed=False is deprecated and will be changed to True in a future version of pandas. Pass observed=False to retain current behavior or observed=True to adopt the future default and silence this warning.\n",
      "  result_decribe_temp = result.groupby(by=[\"history_return_group\"])[\"return_future\"].mean().reset_index()\n",
      "C:\\Users\\Wilcoxon\\AppData\\Local\\Temp\\ipykernel_20424\\2821703995.py:36: FutureWarning: The default of observed=False is deprecated and will be changed to True in a future version of pandas. Pass observed=False to retain current behavior or observed=True to adopt the future default and silence this warning.\n",
      "  alpha_df = result.groupby(by=[\"TRADE_DT\", \"history_return_group\"])[\"return_future\"].mean().reset_index()\n"
     ]
    },
    {
     "name": "stdout",
     "output_type": "stream",
     "text": [
      "RETURN_3Y_3M\n"
     ]
    },
    {
     "name": "stderr",
     "output_type": "stream",
     "text": [
      "C:\\Users\\Wilcoxon\\AppData\\Local\\Temp\\ipykernel_20424\\2821703995.py:31: FutureWarning: The default of observed=False is deprecated and will be changed to True in a future version of pandas. Pass observed=False to retain current behavior or observed=True to adopt the future default and silence this warning.\n",
      "  result_decribe_temp = result.groupby(by=[\"history_return_group\"])[\"return_future\"].mean().reset_index()\n",
      "C:\\Users\\Wilcoxon\\AppData\\Local\\Temp\\ipykernel_20424\\2821703995.py:36: FutureWarning: The default of observed=False is deprecated and will be changed to True in a future version of pandas. Pass observed=False to retain current behavior or observed=True to adopt the future default and silence this warning.\n",
      "  alpha_df = result.groupby(by=[\"TRADE_DT\", \"history_return_group\"])[\"return_future\"].mean().reset_index()\n"
     ]
    },
    {
     "name": "stdout",
     "output_type": "stream",
     "text": [
      "RETURN_3Y_6M\n"
     ]
    },
    {
     "name": "stderr",
     "output_type": "stream",
     "text": [
      "C:\\Users\\Wilcoxon\\AppData\\Local\\Temp\\ipykernel_20424\\2821703995.py:31: FutureWarning: The default of observed=False is deprecated and will be changed to True in a future version of pandas. Pass observed=False to retain current behavior or observed=True to adopt the future default and silence this warning.\n",
      "  result_decribe_temp = result.groupby(by=[\"history_return_group\"])[\"return_future\"].mean().reset_index()\n",
      "C:\\Users\\Wilcoxon\\AppData\\Local\\Temp\\ipykernel_20424\\2821703995.py:36: FutureWarning: The default of observed=False is deprecated and will be changed to True in a future version of pandas. Pass observed=False to retain current behavior or observed=True to adopt the future default and silence this warning.\n",
      "  alpha_df = result.groupby(by=[\"TRADE_DT\", \"history_return_group\"])[\"return_future\"].mean().reset_index()\n"
     ]
    }
   ],
   "source": [
    "return_period = {'q': 'F_AVGRETURN_THISQUARTER', 'm': 'F_AVGRETURN_THISMONTH'}\n",
    "perf_result = []\n",
    "alpha_result = []\n",
    "result_decribe = []\n",
    "return_name_list = [\n",
    "    \"RETURN_3M\", \"RETURN_6M\", \"RETURN_1Y\", \"RETURN_2Y\", \n",
    "    \"RETURN_3Y\",  \"RETURN_1Y_3M\", \"RETURN_2Y_3M\", \n",
    "    \"RETURN_2Y_6M\", \"RETURN_3Y_3M\", \"RETURN_3Y_6M\", \n",
    "    # \"RETURN_5Y\",\n",
    "    # \"RETURN_5Y_3M\", \"RETURN_5Y_6M\", \"RETURN_5Y_1Y\", \"RETURN_5Y_2Y\"\n",
    "]\n",
    "for return_name in return_name_list:\n",
    "    print(return_name)\n",
    "    data_set = (\n",
    "        data_set.groupby('TICKER_SYMBOL')\n",
    "        .apply(shift_return, return_period=return_period[period])\n",
    "        .reset_index(drop=True)\n",
    "    )\n",
    "\n",
    "    target_dataset = (\n",
    "        data_set.query(\"LEVEL_1 == '固收' and LEVEL_2=='短债' and LEVEL_3 =='短债'\")\n",
    "    )\n",
    "\n",
    "    result = (\n",
    "        target_dataset\n",
    "        .groupby(by=[\"TRADE_DT\"])\n",
    "        .apply(get_return_rank_by_type, return_name=return_name)\n",
    "        .reset_index()\n",
    "    )\n",
    "\n",
    "    result_decribe_temp = result.groupby(by=[\"history_return_group\"])[\"return_future\"].mean().reset_index()\n",
    "    result_decribe_temp[\"return_name\"] = return_name\n",
    "    result_decribe_temp[\"return_period\"] = period\n",
    "    result_decribe.append(result_decribe_temp)\n",
    "\n",
    "    alpha_df = result.groupby(by=[\"TRADE_DT\", \"history_return_group\"])[\"return_future\"].mean().reset_index()\n",
    "    alpha_df = alpha_df.pivot_table(index=\"TRADE_DT\", columns=\"history_return_group\", values=\"return_future\")\n",
    "    alpha_df[\"alpha\"] = ((alpha_df[5] - alpha_df[1])/100 + 1).cumprod() - 1\n",
    "    alpha_df[\"alpha\"] = alpha_df[\"alpha\"]*100\n",
    "    alpha_df[\"return_name\"] = return_name\n",
    "    # alpha_df[\"alpha\"].plot(\n",
    "    #     title=f\"{return_period[period].split('_')[-1]}-{return_name.split('_')[1:]}/alpha\"\n",
    "    # )\n",
    "    alpha_result.append(alpha_df)\n",
    "    test_perf = Performance((alpha_df[\"alpha\"]/100 + 1)).stats().T\n",
    "    test_perf[\"return_name\"] = return_name\n",
    "    test_perf[\"return_period\"] = period\n",
    "    perf_result.append(test_perf)"
   ]
  },
  {
   "cell_type": "code",
   "execution_count": 82,
   "metadata": {},
   "outputs": [],
   "source": [
    "perf_result = pd.concat(perf_result)\n",
    "alpha_result = pd.concat(alpha_result)\n",
    "result_decribe = pd.concat(result_decribe)"
   ]
  },
  {
   "cell_type": "code",
   "execution_count": 83,
   "metadata": {},
   "outputs": [
    {
     "data": {
      "text/html": [
       "<div>\n",
       "<style scoped>\n",
       "    .dataframe tbody tr th:only-of-type {\n",
       "        vertical-align: middle;\n",
       "    }\n",
       "\n",
       "    .dataframe tbody tr th {\n",
       "        vertical-align: top;\n",
       "    }\n",
       "\n",
       "    .dataframe thead th {\n",
       "        text-align: right;\n",
       "    }\n",
       "</style>\n",
       "<table border=\"1\" class=\"dataframe\">\n",
       "  <thead>\n",
       "    <tr style=\"text-align: right;\">\n",
       "      <th></th>\n",
       "      <th>起始日期</th>\n",
       "      <th>结束日期</th>\n",
       "      <th>累计收益率</th>\n",
       "      <th>年化收益率</th>\n",
       "      <th>年化波动率</th>\n",
       "      <th>收益波动比</th>\n",
       "      <th>最大回撤</th>\n",
       "      <th>年化收益回撤比</th>\n",
       "      <th>最大回撤日</th>\n",
       "      <th>最大回撤修复</th>\n",
       "      <th>return_name</th>\n",
       "      <th>return_period</th>\n",
       "    </tr>\n",
       "  </thead>\n",
       "  <tbody>\n",
       "    <tr>\n",
       "      <th>0</th>\n",
       "      <td>2017-03-31</td>\n",
       "      <td>2023-09-28</td>\n",
       "      <td>0.086831</td>\n",
       "      <td>0.013407</td>\n",
       "      <td>0.051522</td>\n",
       "      <td>0.260228</td>\n",
       "      <td>0.003866</td>\n",
       "      <td>3.467768</td>\n",
       "      <td>20221230</td>\n",
       "      <td>182</td>\n",
       "      <td>RETURN_6M</td>\n",
       "      <td>q</td>\n",
       "    </tr>\n",
       "    <tr>\n",
       "      <th>0</th>\n",
       "      <td>2017-03-31</td>\n",
       "      <td>2023-09-28</td>\n",
       "      <td>0.077589</td>\n",
       "      <td>0.012024</td>\n",
       "      <td>0.049451</td>\n",
       "      <td>0.243147</td>\n",
       "      <td>0.005514</td>\n",
       "      <td>2.180668</td>\n",
       "      <td>20180629</td>\n",
       "      <td>182</td>\n",
       "      <td>RETURN_1Y</td>\n",
       "      <td>q</td>\n",
       "    </tr>\n",
       "    <tr>\n",
       "      <th>0</th>\n",
       "      <td>2017-03-31</td>\n",
       "      <td>2023-09-28</td>\n",
       "      <td>0.086263</td>\n",
       "      <td>0.013323</td>\n",
       "      <td>0.056276</td>\n",
       "      <td>0.236738</td>\n",
       "      <td>0.004328</td>\n",
       "      <td>3.077997</td>\n",
       "      <td>20180330</td>\n",
       "      <td>91</td>\n",
       "      <td>RETURN_3M</td>\n",
       "      <td>q</td>\n",
       "    </tr>\n",
       "    <tr>\n",
       "      <th>0</th>\n",
       "      <td>2017-03-31</td>\n",
       "      <td>2023-09-28</td>\n",
       "      <td>0.063271</td>\n",
       "      <td>0.009861</td>\n",
       "      <td>0.055969</td>\n",
       "      <td>0.176189</td>\n",
       "      <td>0.008862</td>\n",
       "      <td>1.11272</td>\n",
       "      <td>20180928</td>\n",
       "      <td>459</td>\n",
       "      <td>RETURN_1Y_3M</td>\n",
       "      <td>q</td>\n",
       "    </tr>\n",
       "    <tr>\n",
       "      <th>0</th>\n",
       "      <td>2017-03-31</td>\n",
       "      <td>2023-09-28</td>\n",
       "      <td>0.043486</td>\n",
       "      <td>0.006832</td>\n",
       "      <td>0.056324</td>\n",
       "      <td>0.121294</td>\n",
       "      <td>0.011923</td>\n",
       "      <td>0.572963</td>\n",
       "      <td>20190329</td>\n",
       "      <td>824</td>\n",
       "      <td>RETURN_2Y</td>\n",
       "      <td>q</td>\n",
       "    </tr>\n",
       "    <tr>\n",
       "      <th>0</th>\n",
       "      <td>2017-03-31</td>\n",
       "      <td>2023-09-28</td>\n",
       "      <td>0.02387</td>\n",
       "      <td>0.00378</td>\n",
       "      <td>0.040525</td>\n",
       "      <td>0.093281</td>\n",
       "      <td>0.01159</td>\n",
       "      <td>0.326155</td>\n",
       "      <td>20190329</td>\n",
       "      <td>733</td>\n",
       "      <td>RETURN_2Y_3M</td>\n",
       "      <td>q</td>\n",
       "    </tr>\n",
       "    <tr>\n",
       "      <th>0</th>\n",
       "      <td>2017-03-31</td>\n",
       "      <td>2023-09-28</td>\n",
       "      <td>0.021859</td>\n",
       "      <td>0.003465</td>\n",
       "      <td>0.042477</td>\n",
       "      <td>0.081564</td>\n",
       "      <td>0.014156</td>\n",
       "      <td>0.244751</td>\n",
       "      <td>20190329</td>\n",
       "      <td>733</td>\n",
       "      <td>RETURN_2Y_6M</td>\n",
       "      <td>q</td>\n",
       "    </tr>\n",
       "    <tr>\n",
       "      <th>0</th>\n",
       "      <td>2017-03-31</td>\n",
       "      <td>2023-09-28</td>\n",
       "      <td>0.02152</td>\n",
       "      <td>0.003411</td>\n",
       "      <td>0.065025</td>\n",
       "      <td>0.052461</td>\n",
       "      <td>0.009725</td>\n",
       "      <td>0.350793</td>\n",
       "      <td>20190329</td>\n",
       "      <td>1189</td>\n",
       "      <td>RETURN_3Y_3M</td>\n",
       "      <td>q</td>\n",
       "    </tr>\n",
       "    <tr>\n",
       "      <th>0</th>\n",
       "      <td>2017-03-31</td>\n",
       "      <td>2023-09-28</td>\n",
       "      <td>0.017803</td>\n",
       "      <td>0.002826</td>\n",
       "      <td>0.065714</td>\n",
       "      <td>0.043011</td>\n",
       "      <td>0.010762</td>\n",
       "      <td>0.262635</td>\n",
       "      <td>20200630</td>\n",
       "      <td>1095</td>\n",
       "      <td>RETURN_3Y_6M</td>\n",
       "      <td>q</td>\n",
       "    </tr>\n",
       "    <tr>\n",
       "      <th>0</th>\n",
       "      <td>2017-03-31</td>\n",
       "      <td>2023-09-28</td>\n",
       "      <td>0.011026</td>\n",
       "      <td>0.001755</td>\n",
       "      <td>0.057295</td>\n",
       "      <td>0.030638</td>\n",
       "      <td>0.015614</td>\n",
       "      <td>0.112427</td>\n",
       "      <td>20210331</td>\n",
       "      <td>99999</td>\n",
       "      <td>RETURN_3Y</td>\n",
       "      <td>q</td>\n",
       "    </tr>\n",
       "  </tbody>\n",
       "</table>\n",
       "</div>"
      ],
      "text/plain": [
       "         起始日期        结束日期     累计收益率     年化收益率     年化波动率     收益波动比      最大回撤  \\\n",
       "0  2017-03-31  2023-09-28  0.086831  0.013407  0.051522  0.260228  0.003866   \n",
       "0  2017-03-31  2023-09-28  0.077589  0.012024  0.049451  0.243147  0.005514   \n",
       "0  2017-03-31  2023-09-28  0.086263  0.013323  0.056276  0.236738  0.004328   \n",
       "0  2017-03-31  2023-09-28  0.063271  0.009861  0.055969  0.176189  0.008862   \n",
       "0  2017-03-31  2023-09-28  0.043486  0.006832  0.056324  0.121294  0.011923   \n",
       "0  2017-03-31  2023-09-28   0.02387   0.00378  0.040525  0.093281   0.01159   \n",
       "0  2017-03-31  2023-09-28  0.021859  0.003465  0.042477  0.081564  0.014156   \n",
       "0  2017-03-31  2023-09-28   0.02152  0.003411  0.065025  0.052461  0.009725   \n",
       "0  2017-03-31  2023-09-28  0.017803  0.002826  0.065714  0.043011  0.010762   \n",
       "0  2017-03-31  2023-09-28  0.011026  0.001755  0.057295  0.030638  0.015614   \n",
       "\n",
       "    年化收益回撤比     最大回撤日 最大回撤修复   return_name return_period  \n",
       "0  3.467768  20221230    182     RETURN_6M             q  \n",
       "0  2.180668  20180629    182     RETURN_1Y             q  \n",
       "0  3.077997  20180330     91     RETURN_3M             q  \n",
       "0   1.11272  20180928    459  RETURN_1Y_3M             q  \n",
       "0  0.572963  20190329    824     RETURN_2Y             q  \n",
       "0  0.326155  20190329    733  RETURN_2Y_3M             q  \n",
       "0  0.244751  20190329    733  RETURN_2Y_6M             q  \n",
       "0  0.350793  20190329   1189  RETURN_3Y_3M             q  \n",
       "0  0.262635  20200630   1095  RETURN_3Y_6M             q  \n",
       "0  0.112427  20210331  99999     RETURN_3Y             q  "
      ]
     },
     "execution_count": 83,
     "metadata": {},
     "output_type": "execute_result"
    }
   ],
   "source": [
    "perf_result.sort_values(by='收益波动比', ascending=False)"
   ]
  },
  {
   "cell_type": "code",
   "execution_count": 65,
   "metadata": {},
   "outputs": [],
   "source": [
    "alpha_result.to_excel(\"d:/data.xlsx\")"
   ]
  }
 ],
 "metadata": {
  "kernelspec": {
   "display_name": "my311",
   "language": "python",
   "name": "python3"
  },
  "language_info": {
   "codemirror_mode": {
    "name": "ipython",
    "version": 3
   },
   "file_extension": ".py",
   "mimetype": "text/x-python",
   "name": "python",
   "nbconvert_exporter": "python",
   "pygments_lexer": "ipython3",
   "version": "3.11.8"
  }
 },
 "nbformat": 4,
 "nbformat_minor": 2
}
